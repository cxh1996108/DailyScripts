{
 "cells": [
  {
   "cell_type": "code",
   "execution_count": 1,
   "metadata": {
    "collapsed": true
   },
   "outputs": [
    {
     "data": {
      "text/html": [
       "<div>\n",
       "<style scoped>\n",
       "    .dataframe tbody tr th:only-of-type {\n",
       "        vertical-align: middle;\n",
       "    }\n",
       "\n",
       "    .dataframe tbody tr th {\n",
       "        vertical-align: top;\n",
       "    }\n",
       "\n",
       "    .dataframe thead th {\n",
       "        text-align: right;\n",
       "    }\n",
       "</style>\n",
       "<table border=\"1\" class=\"dataframe\">\n",
       "  <thead>\n",
       "    <tr style=\"text-align: right;\">\n",
       "      <th></th>\n",
       "      <th>证券代码</th>\n",
       "      <th>证券简称</th>\n",
       "      <th>行业名称</th>\n",
       "      <th>总市值</th>\n",
       "      <th>区间涨跌幅</th>\n",
       "    </tr>\n",
       "  </thead>\n",
       "  <tbody>\n",
       "    <tr>\n",
       "      <th>0</th>\n",
       "      <td>000001.SZ</td>\n",
       "      <td>平安银行</td>\n",
       "      <td>银行</td>\n",
       "      <td>372,011,451,855.6600</td>\n",
       "      <td>18.5410</td>\n",
       "    </tr>\n",
       "    <tr>\n",
       "      <th>1</th>\n",
       "      <td>000002.SZ</td>\n",
       "      <td>万科A</td>\n",
       "      <td>房地产</td>\n",
       "      <td>319,531,588,075.6810</td>\n",
       "      <td>-8.0958</td>\n",
       "    </tr>\n",
       "    <tr>\n",
       "      <th>2</th>\n",
       "      <td>000004.SZ</td>\n",
       "      <td>国华网安</td>\n",
       "      <td>医药</td>\n",
       "      <td>3,409,987,232.5000</td>\n",
       "      <td>-8.5436</td>\n",
       "    </tr>\n",
       "    <tr>\n",
       "      <th>3</th>\n",
       "      <td>000005.SZ</td>\n",
       "      <td>世纪星源</td>\n",
       "      <td>电力及公用事业</td>\n",
       "      <td>2,646,342,105.0000</td>\n",
       "      <td>-19.0939</td>\n",
       "    </tr>\n",
       "    <tr>\n",
       "      <th>4</th>\n",
       "      <td>000006.SZ</td>\n",
       "      <td>深振业A</td>\n",
       "      <td>房地产</td>\n",
       "      <td>7,465,472,604.3800</td>\n",
       "      <td>6.3193</td>\n",
       "    </tr>\n",
       "    <tr>\n",
       "      <th>...</th>\n",
       "      <td>...</td>\n",
       "      <td>...</td>\n",
       "      <td>...</td>\n",
       "      <td>...</td>\n",
       "      <td>...</td>\n",
       "    </tr>\n",
       "    <tr>\n",
       "      <th>4133</th>\n",
       "      <td>689009.SH</td>\n",
       "      <td>九号公司-UWD</td>\n",
       "      <td>机械</td>\n",
       "      <td>54,538,940,758.2000</td>\n",
       "      <td>101.1948</td>\n",
       "    </tr>\n",
       "    <tr>\n",
       "      <th>4134</th>\n",
       "      <td>NaN</td>\n",
       "      <td>NaN</td>\n",
       "      <td>NaN</td>\n",
       "      <td>NaN</td>\n",
       "      <td>NaN</td>\n",
       "    </tr>\n",
       "    <tr>\n",
       "      <th>4135</th>\n",
       "      <td>NaN</td>\n",
       "      <td>NaN</td>\n",
       "      <td>NaN</td>\n",
       "      <td>NaN</td>\n",
       "      <td>NaN</td>\n",
       "    </tr>\n",
       "    <tr>\n",
       "      <th>4136</th>\n",
       "      <td>NaN</td>\n",
       "      <td>NaN</td>\n",
       "      <td>NaN</td>\n",
       "      <td>NaN</td>\n",
       "      <td>NaN</td>\n",
       "    </tr>\n",
       "    <tr>\n",
       "      <th>4137</th>\n",
       "      <td>数据来源: Wind</td>\n",
       "      <td>NaN</td>\n",
       "      <td>NaN</td>\n",
       "      <td>NaN</td>\n",
       "      <td>NaN</td>\n",
       "    </tr>\n",
       "  </tbody>\n",
       "</table>\n",
       "<p>4138 rows × 5 columns</p>\n",
       "</div>"
      ],
      "text/plain": [
       "            证券代码      证券简称     行业名称                   总市值     区间涨跌幅\n",
       "0      000001.SZ      平安银行       银行  372,011,451,855.6600   18.5410\n",
       "1      000002.SZ       万科A      房地产  319,531,588,075.6810   -8.0958\n",
       "2      000004.SZ      国华网安       医药    3,409,987,232.5000   -8.5436\n",
       "3      000005.SZ      世纪星源  电力及公用事业    2,646,342,105.0000  -19.0939\n",
       "4      000006.SZ      深振业A      房地产    7,465,472,604.3800    6.3193\n",
       "...          ...       ...      ...                   ...       ...\n",
       "4133   689009.SH  九号公司-UWD       机械   54,538,940,758.2000  101.1948\n",
       "4134         NaN       NaN      NaN                   NaN       NaN\n",
       "4135         NaN       NaN      NaN                   NaN       NaN\n",
       "4136         NaN       NaN      NaN                   NaN       NaN\n",
       "4137  数据来源: Wind       NaN      NaN                   NaN       NaN\n",
       "\n",
       "[4138 rows x 5 columns]"
      ]
     },
     "execution_count": 1,
     "metadata": {},
     "output_type": "execute_result"
    }
   ],
   "source": [
    "import csv\n",
    "import pandas as pd\n",
    "path = '/Users/yl/Documents/涨跌幅.csv'\n",
    "data = pd.read_csv(path)\n",
    "data"
   ]
  },
  {
   "cell_type": "code",
   "execution_count": 2,
   "metadata": {
    "collapsed": true
   },
   "outputs": [
    {
     "name": "stderr",
     "output_type": "stream",
     "text": [
      "/Users/yl/opt/anaconda3/lib/python3.8/site-packages/pandas/core/frame.py:3065: SettingWithCopyWarning: \n",
      "A value is trying to be set on a copy of a slice from a DataFrame.\n",
      "Try using .loc[row_indexer,col_indexer] = value instead\n",
      "\n",
      "See the caveats in the documentation: https://pandas.pydata.org/pandas-docs/stable/user_guide/indexing.html#returning-a-view-versus-a-copy\n",
      "  self[k1] = value[k2]\n"
     ]
    }
   ],
   "source": [
    "data = data.dropna()\n",
    "data[['总市值','区间涨跌幅']] = data[['总市值','区间涨跌幅']].replace(',','',regex=True).astype(float)"
   ]
  },
  {
   "cell_type": "code",
   "execution_count": 3,
   "metadata": {
    "collapsed": true
   },
   "outputs": [
    {
     "name": "stderr",
     "output_type": "stream",
     "text": [
      "<ipython-input-3-f8eeb68fe3a7>:2: SettingWithCopyWarning: \n",
      "A value is trying to be set on a copy of a slice from a DataFrame.\n",
      "Try using .loc[row_indexer,col_indexer] = value instead\n",
      "\n",
      "See the caveats in the documentation: https://pandas.pydata.org/pandas-docs/stable/user_guide/indexing.html#returning-a-view-versus-a-copy\n",
      "  data['rank'] = data.sort_values(['总市值'],ascending =False).groupby(['行业名称']).cumcount()+1\n"
     ]
    },
    {
     "data": {
      "text/plain": [
       "行业名称\n",
       "交通运输         14.478582\n",
       "传媒           11.168400\n",
       "农林牧渔         38.441050\n",
       "医药          167.099631\n",
       "商贸零售         21.000409\n",
       "国防军工        101.732025\n",
       "基础化工         64.868194\n",
       "家电           49.690600\n",
       "建材          104.947312\n",
       "建筑           -4.702923\n",
       "房地产         -13.270725\n",
       "有色金属         45.067527\n",
       "机械          105.993707\n",
       "汽车           78.840235\n",
       "消费者服务        77.910420\n",
       "煤炭            1.299233\n",
       "电力及公用事业      -0.060587\n",
       "电力设备及新能源    112.578372\n",
       "电子           58.467379\n",
       "石油石化         39.245875\n",
       "纺织服装         34.842938\n",
       "综合           12.162480\n",
       "综合金融        -25.732200\n",
       "计算机          38.401546\n",
       "轻工制造         72.841992\n",
       "通信           -2.337209\n",
       "钢铁           11.582420\n",
       "银行          -10.295900\n",
       "非银行金融         7.119233\n",
       "食品饮料        112.570173\n",
       "dtype: float64"
      ]
     },
     "execution_count": 3,
     "metadata": {},
     "output_type": "execute_result"
    }
   ],
   "source": [
    "#分组排序&标号\n",
    "data['rank'] = data.sort_values(['总市值'],ascending =False).groupby(['行业名称']).cumcount()+1\n",
    "#取每组前10%算均值\n",
    "def get_mean_large(x):\n",
    "    return x.loc[x['rank']<= x['rank'].count()*0.1]['区间涨跌幅'].mean()\n",
    "\n",
    "ret = data.groupby(['行业名称']).apply(lambda x:get_mean_large(x))\n",
    "ret"
   ]
  }
 ],
 "metadata": {
  "kernelspec": {
   "display_name": "Python 3",
   "language": "python",
   "name": "python3"
  },
  "language_info": {
   "codemirror_mode": {
    "name": "ipython",
    "version": 3
   },
   "file_extension": ".py",
   "mimetype": "text/x-python",
   "name": "python",
   "nbconvert_exporter": "python",
   "pygments_lexer": "ipython3",
   "version": "3.8.5"
  }
 },
 "nbformat": 4,
 "nbformat_minor": 4
}
