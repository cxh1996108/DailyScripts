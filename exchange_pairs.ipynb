{
 "cells": [
  {
   "cell_type": "markdown",
   "metadata": {},
   "source": [
    "# Step 1: Exchange pairs"
   ]
  },
  {
   "cell_type": "code",
   "execution_count": 25,
   "metadata": {},
   "outputs": [],
   "source": [
    "import numpy as np\n",
    "import pandas as pd\n",
    "import matplotlib.pyplot as plt\n",
    "from scipy.optimize import differential_evolution\n",
    "import time"
   ]
  },
  {
   "cell_type": "code",
   "execution_count": 212,
   "metadata": {},
   "outputs": [
    {
     "data": {
      "text/html": [
       "<div>\n",
       "<style scoped>\n",
       "    .dataframe tbody tr th:only-of-type {\n",
       "        vertical-align: middle;\n",
       "    }\n",
       "\n",
       "    .dataframe tbody tr th {\n",
       "        vertical-align: top;\n",
       "    }\n",
       "\n",
       "    .dataframe thead th {\n",
       "        text-align: right;\n",
       "    }\n",
       "</style>\n",
       "<table border=\"1\" class=\"dataframe\">\n",
       "  <thead>\n",
       "    <tr style=\"text-align: right;\">\n",
       "      <th></th>\n",
       "      <th>value1</th>\n",
       "      <th>value2</th>\n",
       "      <th>value3</th>\n",
       "      <th>value4</th>\n",
       "      <th>value5</th>\n",
       "    </tr>\n",
       "  </thead>\n",
       "  <tbody>\n",
       "    <tr>\n",
       "      <th>0</th>\n",
       "      <td>1.0</td>\n",
       "      <td>-128.862122</td>\n",
       "      <td>95195504.0</td>\n",
       "      <td>0.000000</td>\n",
       "      <td>0.0</td>\n",
       "    </tr>\n",
       "    <tr>\n",
       "      <th>1</th>\n",
       "      <td>1.0</td>\n",
       "      <td>-123.937958</td>\n",
       "      <td>96773328.0</td>\n",
       "      <td>0.000000</td>\n",
       "      <td>0.0</td>\n",
       "    </tr>\n",
       "    <tr>\n",
       "      <th>2</th>\n",
       "      <td>0.0</td>\n",
       "      <td>94.940582</td>\n",
       "      <td>97036304.0</td>\n",
       "      <td>0.000000</td>\n",
       "      <td>0.0</td>\n",
       "    </tr>\n",
       "    <tr>\n",
       "      <th>3</th>\n",
       "      <td>0.0</td>\n",
       "      <td>-97.312332</td>\n",
       "      <td>23914.0</td>\n",
       "      <td>3.413793</td>\n",
       "      <td>0.0</td>\n",
       "    </tr>\n",
       "    <tr>\n",
       "      <th>4</th>\n",
       "      <td>0.0</td>\n",
       "      <td>-97.312332</td>\n",
       "      <td>0.0</td>\n",
       "      <td>0.413793</td>\n",
       "      <td>1.0</td>\n",
       "    </tr>\n",
       "    <tr>\n",
       "      <th>...</th>\n",
       "      <td>...</td>\n",
       "      <td>...</td>\n",
       "      <td>...</td>\n",
       "      <td>...</td>\n",
       "      <td>...</td>\n",
       "    </tr>\n",
       "    <tr>\n",
       "      <th>11222911</th>\n",
       "      <td>0.0</td>\n",
       "      <td>-163.896729</td>\n",
       "      <td>-27316.0</td>\n",
       "      <td>2.000000</td>\n",
       "      <td>-1.0</td>\n",
       "    </tr>\n",
       "    <tr>\n",
       "      <th>11222912</th>\n",
       "      <td>0.0</td>\n",
       "      <td>-163.896729</td>\n",
       "      <td>109264.0</td>\n",
       "      <td>2.600000</td>\n",
       "      <td>-1.0</td>\n",
       "    </tr>\n",
       "    <tr>\n",
       "      <th>11222913</th>\n",
       "      <td>0.0</td>\n",
       "      <td>-152.651489</td>\n",
       "      <td>-54632.0</td>\n",
       "      <td>3.000000</td>\n",
       "      <td>0.0</td>\n",
       "    </tr>\n",
       "    <tr>\n",
       "      <th>11222914</th>\n",
       "      <td>0.0</td>\n",
       "      <td>-31.092916</td>\n",
       "      <td>-109264.0</td>\n",
       "      <td>4.000000</td>\n",
       "      <td>-1.0</td>\n",
       "    </tr>\n",
       "    <tr>\n",
       "      <th>11222915</th>\n",
       "      <td>0.0</td>\n",
       "      <td>-24.015055</td>\n",
       "      <td>0.0</td>\n",
       "      <td>3.600000</td>\n",
       "      <td>-1.0</td>\n",
       "    </tr>\n",
       "  </tbody>\n",
       "</table>\n",
       "<p>11222916 rows × 5 columns</p>\n",
       "</div>"
      ],
      "text/plain": [
       "          value1      value2      value3    value4  value5\n",
       "0            1.0 -128.862122  95195504.0  0.000000     0.0\n",
       "1            1.0 -123.937958  96773328.0  0.000000     0.0\n",
       "2            0.0   94.940582  97036304.0  0.000000     0.0\n",
       "3            0.0  -97.312332     23914.0  3.413793     0.0\n",
       "4            0.0  -97.312332         0.0  0.413793     1.0\n",
       "...          ...         ...         ...       ...     ...\n",
       "11222911     0.0 -163.896729    -27316.0  2.000000    -1.0\n",
       "11222912     0.0 -163.896729    109264.0  2.600000    -1.0\n",
       "11222913     0.0 -152.651489    -54632.0  3.000000     0.0\n",
       "11222914     0.0  -31.092916   -109264.0  4.000000    -1.0\n",
       "11222915     0.0  -24.015055         0.0  3.600000    -1.0\n",
       "\n",
       "[11222916 rows x 5 columns]"
      ]
     },
     "execution_count": 212,
     "metadata": {},
     "output_type": "execute_result"
    }
   ],
   "source": [
    "df_matched = pd.read_stata('sample_matched_NY.dta')\n",
    "df_unmatched = pd.read_stata('sample_unmatched_NY.dta')\n",
    "\n",
    "'''\n",
    "df_matched = pd.read_stata('test_sample_matched.dta')\n",
    "df_unmatched = pd.read_stata('sample_unmatched.dta')\n",
    "'''\n",
    "def Exchange_pairs(df_matched, df_unmatched):\n",
    "    # t1 = time.time()\n",
    "    \n",
    "    df_matched_column = df_matched.columns\n",
    "    df_matched.columns = df_matched_column + '1m'\n",
    "    df_unmatched.columns = df_unmatched.columns.str.replace('lender_id', 'lender_id1m')\n",
    "    df1 = pd.merge(df_matched, df_unmatched, on = 'lender_id1m', how = 'inner')\n",
    "    \n",
    "    l = df1.columns[:-6].append([df1.columns[-6:] + '1um'])\n",
    "    df1.columns = l\n",
    "    df_matched.columns = df_matched_column\n",
    "    df2 = pd.merge(df_matched, df1, left_on = 'loan_id', right_on = 'loan_id1um', how = 'inner') \n",
    "    \n",
    "    ll = (df2.columns[:7]+'2m').append(df2.columns[7:])\n",
    "    df2.columns = ll\n",
    "    df_unmatched.columns = df_unmatched.columns.str.replace('lender_id1m', 'lender_id')\n",
    "    df3 = pd.merge(df_unmatched, df2, left_on = ['lender_id','loan_id'], right_on = ['lender_id2m','loan_id1m'], how = 'inner')\n",
    "    lll = (df3.columns[:7]+'2um').append(df3.columns[7:])\n",
    "    df3.columns = lll\n",
    "    \n",
    "    df_keep = pd.DataFrame()\n",
    "    for i in range(1, 6):\n",
    "        name = \"value\" + str(i)\n",
    "        df_keep[name] = df3[\"var\"+str(i)+\"1m\"] + df3[\"var\"+str(i)+\"2m\"] - df3[\"var\"+str(i)+\"1um\"] - df3[\"var\"+str(i)+\"2um\"]\n",
    "    # t2 = time.time()\n",
    "    # print(\"Running time: \", t2-t1)\n",
    "    return df_keep\n",
    "df_keep = Exchange_pairs(df_matched, df_unmatched)\n",
    "df_keep"
   ]
  },
  {
   "cell_type": "markdown",
   "metadata": {},
   "source": [
    "# Step 2: Define objective function "
   ]
  },
  {
   "cell_type": "markdown",
   "metadata": {},
   "source": [
    "Step 2: Define objective function -- (P15 equation 7 in Fox (2018) or P818 equation 4 in Schwert (2018) )\n",
    "define a function that calculates the score of the matching model for given parameters\n",
    "i.e. count how many inequalities are satisfied under given parameters \n",
    "objective function (score) =sum of 1(inequalities satisfied), where\n",
    "$$Inequalities = beta \\times value \\geqslant 0$$\n",
    "$\\beta$ is the parameter vector\n",
    "Value vector for a given data point (i.e. value 1-6 for a given data point)\n",
    "Hint: apply (multiply) the parameter vector to the data matrix (transposed) and then count the non-negative values"
   ]
  },
  {
   "cell_type": "markdown",
   "metadata": {},
   "source": [
    "The objective function $$Q(\\beta) = \\Sigma \\mathbb{1}[X_{N\\times 6}\\beta_{6\\times 1}]$$"
   ]
  },
  {
   "cell_type": "markdown",
   "metadata": {},
   "source": [
    "# Step 3: Differential Evolution"
   ]
  },
  {
   "cell_type": "code",
   "execution_count": 64,
   "metadata": {},
   "outputs": [],
   "source": [
    "# use differential_evolution in scipy.optimize to find the parameters than maximize the score calculated in step 2\n",
    "# Reference\n",
    "# https://docs.scipy.org/doc/scipy/reference/generated/scipy.optimize.differential_evolution.html\n",
    "# https://pablormier.github.io/2017/09/05/a-tutorial-on-differential-evolution-with-python/"
   ]
  },
  {
   "cell_type": "code",
   "execution_count": 18,
   "metadata": {},
   "outputs": [
    {
     "data": {
      "text/html": [
       "<div>\n",
       "<style scoped>\n",
       "    .dataframe tbody tr th:only-of-type {\n",
       "        vertical-align: middle;\n",
       "    }\n",
       "\n",
       "    .dataframe tbody tr th {\n",
       "        vertical-align: top;\n",
       "    }\n",
       "\n",
       "    .dataframe thead th {\n",
       "        text-align: right;\n",
       "    }\n",
       "</style>\n",
       "<table border=\"1\" class=\"dataframe\">\n",
       "  <thead>\n",
       "    <tr style=\"text-align: right;\">\n",
       "      <th></th>\n",
       "      <th>value1</th>\n",
       "      <th>value2</th>\n",
       "      <th>value3</th>\n",
       "      <th>value4</th>\n",
       "      <th>value5</th>\n",
       "    </tr>\n",
       "  </thead>\n",
       "  <tbody>\n",
       "    <tr>\n",
       "      <th>0</th>\n",
       "      <td>1.0</td>\n",
       "      <td>-128.862122</td>\n",
       "      <td>95195504.0</td>\n",
       "      <td>0.000000</td>\n",
       "      <td>0.0</td>\n",
       "    </tr>\n",
       "    <tr>\n",
       "      <th>1</th>\n",
       "      <td>1.0</td>\n",
       "      <td>-123.937958</td>\n",
       "      <td>96773328.0</td>\n",
       "      <td>0.000000</td>\n",
       "      <td>0.0</td>\n",
       "    </tr>\n",
       "    <tr>\n",
       "      <th>2</th>\n",
       "      <td>0.0</td>\n",
       "      <td>94.940582</td>\n",
       "      <td>97036304.0</td>\n",
       "      <td>0.000000</td>\n",
       "      <td>0.0</td>\n",
       "    </tr>\n",
       "    <tr>\n",
       "      <th>3</th>\n",
       "      <td>0.0</td>\n",
       "      <td>-97.312332</td>\n",
       "      <td>23914.0</td>\n",
       "      <td>3.413793</td>\n",
       "      <td>0.0</td>\n",
       "    </tr>\n",
       "    <tr>\n",
       "      <th>4</th>\n",
       "      <td>0.0</td>\n",
       "      <td>-97.312332</td>\n",
       "      <td>0.0</td>\n",
       "      <td>0.413793</td>\n",
       "      <td>1.0</td>\n",
       "    </tr>\n",
       "  </tbody>\n",
       "</table>\n",
       "</div>"
      ],
      "text/plain": [
       "   value1      value2      value3    value4  value5\n",
       "0     1.0 -128.862122  95195504.0  0.000000     0.0\n",
       "1     1.0 -123.937958  96773328.0  0.000000     0.0\n",
       "2     0.0   94.940582  97036304.0  0.000000     0.0\n",
       "3     0.0  -97.312332     23914.0  3.413793     0.0\n",
       "4     0.0  -97.312332         0.0  0.413793     1.0"
      ]
     },
     "execution_count": 18,
     "metadata": {},
     "output_type": "execute_result"
    }
   ],
   "source": [
    "df_test = df_keep.iloc[: 5, :]\n",
    "df_test"
   ]
  },
  {
   "cell_type": "code",
   "execution_count": 161,
   "metadata": {},
   "outputs": [],
   "source": [
    "# 1. When input, make sure df contains all the values you need\n",
    "# 2. specify df = X in def objectfunc(beta, df = df_test) before you run differential_evolution\n",
    "def objectfunc(beta, df = df_keep):\n",
    "    '''\n",
    "    num = df.shape[1] # This is the num of Parameters( dimension of beta)\n",
    "    obj = 0\n",
    "    for i in range(0, num):\n",
    "        obj = obj + np.array(df.iloc[:, i]) * beta[i]\n",
    "        # print(obj)\n",
    "    return -sum(obj >= 0)\n",
    "    '''\n",
    "    return -sum(df.dot(beta) >=0 )"
   ]
  },
  {
   "cell_type": "code",
   "execution_count": 162,
   "metadata": {},
   "outputs": [
    {
     "data": {
      "text/plain": [
       "-5908089"
      ]
     },
     "execution_count": 162,
     "metadata": {},
     "output_type": "execute_result"
    }
   ],
   "source": [
    "# This is a test for debugging\n",
    "beta = np.array([1, 2, 3, 4, 5])\n",
    "obj = objectfunc(beta, df_keep)\n",
    "obj"
   ]
  },
  {
   "cell_type": "code",
   "execution_count": 163,
   "metadata": {},
   "outputs": [
    {
     "data": {
      "text/plain": [
       "-4"
      ]
     },
     "execution_count": 163,
     "metadata": {},
     "output_type": "execute_result"
    }
   ],
   "source": [
    "# This is a test for debugging\n",
    "beta = np.array([1, 2, 3, 4, 5])\n",
    "obj = objectfunc(beta, df_test)\n",
    "obj"
   ]
  },
  {
   "cell_type": "code",
   "execution_count": 164,
   "metadata": {},
   "outputs": [
    {
     "name": "stdout",
     "output_type": "stream",
     "text": [
      "     fun: -5989014.0\n",
      " message: 'Optimization terminated successfully.'\n",
      "    nfev: 306\n",
      "     nit: 3\n",
      " success: True\n",
      "       x: array([  1.        ,  -4.47262905,  36.31679535, -41.54346339,\n",
      "        88.40841153])\n",
      "Running time:  364.816956281662\n"
     ]
    }
   ],
   "source": [
    "# specify bounds of every parameters\n",
    "'''\n",
    "num = df_test.shape[0]\n",
    "num = df_test.shape[0]\n",
    "bounds = [(-100, 100)] * num\n",
    "'''\n",
    "t1 = time.time()\n",
    "bounds = [(1, 1.000000001), (-100, 100), (-100, 100), (-100, 100), (-100, 100)]\n",
    "result = differential_evolution(objectfunc, bounds)\n",
    "print(result)\n",
    "t2 = time.time()\n",
    "print(\"Running time: \", t2-t1)"
   ]
  },
  {
   "cell_type": "code",
   "execution_count": 355,
   "metadata": {},
   "outputs": [
    {
     "name": "stdout",
     "output_type": "stream",
     "text": [
      "The bumber of inequalities satisfied is\n",
      "5989014\n"
     ]
    }
   ],
   "source": [
    "print(\"The bumber of inequalities satisfied is\")\n",
    "print(round(-result.fun))"
   ]
  },
  {
   "cell_type": "markdown",
   "metadata": {},
   "source": [
    "# Step 4: Use subsampling to construct confidence intervals"
   ]
  },
  {
   "cell_type": "markdown",
   "metadata": {},
   "source": [
    "The idea is to select some random subsamples (100-200) that mimics the original sample and re-do the step1-3 and get another estimated parameter. Then calculate the 5% and 95% percentile of the 100 (200) parameters.\n",
    "To mimic the original sample, we choose the subsample for fixed share for each state."
   ]
  },
  {
   "cell_type": "code",
   "execution_count": 180,
   "metadata": {},
   "outputs": [
    {
     "data": {
      "text/plain": [
       "'\\n# The random sampling ratio = 10% here\\ndef Subsample(df, ratio):\\n    # t1 = time.time()\\n    df_sample = df.loc[np.random.choice(df.index, round(len(df) * ratio), replace = False)]\\n    # t2 = time.time()\\n    # print(\"Running time: \", t2-t1)\\n    return df_sample\\ndf_matched_sample = Subsample(df_matched, 0.1)\\ndf_unmatched_sample = Subsample(df_unmatched, 0.1)\\n'"
      ]
     },
     "execution_count": 180,
     "metadata": {},
     "output_type": "execute_result"
    }
   ],
   "source": [
    "'''\n",
    "# The random sampling ratio = 10% here\n",
    "def Subsample(df, ratio):\n",
    "    # t1 = time.time()\n",
    "    df_sample = df.loc[np.random.choice(df.index, round(len(df) * ratio), replace = False)]\n",
    "    # t2 = time.time()\n",
    "    # print(\"Running time: \", t2-t1)\n",
    "    return df_sample\n",
    "df_matched_sample = Subsample(df_matched, 0.1)\n",
    "df_unmatched_sample = Subsample(df_unmatched, 0.1)\n",
    "'''"
   ]
  },
  {
   "cell_type": "code",
   "execution_count": 349,
   "metadata": {},
   "outputs": [
    {
     "data": {
      "text/html": [
       "<div>\n",
       "<style scoped>\n",
       "    .dataframe tbody tr th:only-of-type {\n",
       "        vertical-align: middle;\n",
       "    }\n",
       "\n",
       "    .dataframe tbody tr th {\n",
       "        vertical-align: top;\n",
       "    }\n",
       "\n",
       "    .dataframe thead th {\n",
       "        text-align: right;\n",
       "    }\n",
       "</style>\n",
       "<table border=\"1\" class=\"dataframe\">\n",
       "  <thead>\n",
       "    <tr style=\"text-align: right;\">\n",
       "      <th></th>\n",
       "      <th>lender_id</th>\n",
       "      <th>loan_id</th>\n",
       "      <th>var1</th>\n",
       "      <th>var2</th>\n",
       "      <th>var3</th>\n",
       "      <th>var4</th>\n",
       "      <th>var5</th>\n",
       "    </tr>\n",
       "  </thead>\n",
       "  <tbody>\n",
       "    <tr>\n",
       "      <th>0</th>\n",
       "      <td>814.0</td>\n",
       "      <td>19445.0</td>\n",
       "      <td>0.0</td>\n",
       "      <td>11.481559</td>\n",
       "      <td>2150.0</td>\n",
       "      <td>0.0</td>\n",
       "      <td>0.0</td>\n",
       "    </tr>\n",
       "    <tr>\n",
       "      <th>1</th>\n",
       "      <td>275.0</td>\n",
       "      <td>3498.0</td>\n",
       "      <td>1.0</td>\n",
       "      <td>169.902786</td>\n",
       "      <td>11088.0</td>\n",
       "      <td>0.0</td>\n",
       "      <td>0.0</td>\n",
       "    </tr>\n",
       "    <tr>\n",
       "      <th>2</th>\n",
       "      <td>3096.0</td>\n",
       "      <td>60530.0</td>\n",
       "      <td>1.0</td>\n",
       "      <td>7.044008</td>\n",
       "      <td>2823.0</td>\n",
       "      <td>0.0</td>\n",
       "      <td>0.0</td>\n",
       "    </tr>\n",
       "    <tr>\n",
       "      <th>3</th>\n",
       "      <td>3813.0</td>\n",
       "      <td>71810.0</td>\n",
       "      <td>0.0</td>\n",
       "      <td>1.056799</td>\n",
       "      <td>28242.0</td>\n",
       "      <td>0.0</td>\n",
       "      <td>0.0</td>\n",
       "    </tr>\n",
       "    <tr>\n",
       "      <th>4</th>\n",
       "      <td>60.0</td>\n",
       "      <td>456.0</td>\n",
       "      <td>0.0</td>\n",
       "      <td>3.011763</td>\n",
       "      <td>1764.0</td>\n",
       "      <td>0.0</td>\n",
       "      <td>0.0</td>\n",
       "    </tr>\n",
       "    <tr>\n",
       "      <th>...</th>\n",
       "      <td>...</td>\n",
       "      <td>...</td>\n",
       "      <td>...</td>\n",
       "      <td>...</td>\n",
       "      <td>...</td>\n",
       "      <td>...</td>\n",
       "      <td>...</td>\n",
       "    </tr>\n",
       "    <tr>\n",
       "      <th>6000</th>\n",
       "      <td>1085.0</td>\n",
       "      <td>23929.0</td>\n",
       "      <td>0.0</td>\n",
       "      <td>222.663376</td>\n",
       "      <td>38430.0</td>\n",
       "      <td>0.0</td>\n",
       "      <td>0.0</td>\n",
       "    </tr>\n",
       "    <tr>\n",
       "      <th>6001</th>\n",
       "      <td>1085.0</td>\n",
       "      <td>23938.0</td>\n",
       "      <td>0.0</td>\n",
       "      <td>222.663376</td>\n",
       "      <td>96075.0</td>\n",
       "      <td>0.0</td>\n",
       "      <td>0.0</td>\n",
       "    </tr>\n",
       "    <tr>\n",
       "      <th>6002</th>\n",
       "      <td>1795.0</td>\n",
       "      <td>36141.0</td>\n",
       "      <td>0.0</td>\n",
       "      <td>20.144510</td>\n",
       "      <td>5346.0</td>\n",
       "      <td>0.0</td>\n",
       "      <td>0.0</td>\n",
       "    </tr>\n",
       "    <tr>\n",
       "      <th>6003</th>\n",
       "      <td>1795.0</td>\n",
       "      <td>36138.0</td>\n",
       "      <td>0.0</td>\n",
       "      <td>17.873976</td>\n",
       "      <td>5346.0</td>\n",
       "      <td>0.0</td>\n",
       "      <td>0.0</td>\n",
       "    </tr>\n",
       "    <tr>\n",
       "      <th>6004</th>\n",
       "      <td>821.0</td>\n",
       "      <td>19525.0</td>\n",
       "      <td>0.0</td>\n",
       "      <td>3.001764</td>\n",
       "      <td>8004.0</td>\n",
       "      <td>0.0</td>\n",
       "      <td>0.0</td>\n",
       "    </tr>\n",
       "  </tbody>\n",
       "</table>\n",
       "<p>6005 rows × 7 columns</p>\n",
       "</div>"
      ],
      "text/plain": [
       "      lender_id  loan_id  var1        var2     var3  var4  var5\n",
       "0         814.0  19445.0   0.0   11.481559   2150.0   0.0   0.0\n",
       "1         275.0   3498.0   1.0  169.902786  11088.0   0.0   0.0\n",
       "2        3096.0  60530.0   1.0    7.044008   2823.0   0.0   0.0\n",
       "3        3813.0  71810.0   0.0    1.056799  28242.0   0.0   0.0\n",
       "4          60.0    456.0   0.0    3.011763   1764.0   0.0   0.0\n",
       "...         ...      ...   ...         ...      ...   ...   ...\n",
       "6000     1085.0  23929.0   0.0  222.663376  38430.0   0.0   0.0\n",
       "6001     1085.0  23938.0   0.0  222.663376  96075.0   0.0   0.0\n",
       "6002     1795.0  36141.0   0.0   20.144510   5346.0   0.0   0.0\n",
       "6003     1795.0  36138.0   0.0   17.873976   5346.0   0.0   0.0\n",
       "6004      821.0  19525.0   0.0    3.001764   8004.0   0.0   0.0\n",
       "\n",
       "[6005 rows x 7 columns]"
      ]
     },
     "execution_count": 349,
     "metadata": {},
     "output_type": "execute_result"
    }
   ],
   "source": [
    "df_matched"
   ]
  },
  {
   "cell_type": "code",
   "execution_count": 353,
   "metadata": {},
   "outputs": [
    {
     "name": "stdout",
     "output_type": "stream",
     "text": [
      "The 5% quantile of parameters are\n",
      "0     1.000000\n",
      "1   -99.151884\n",
      "2     0.010407\n",
      "3   -95.174940\n",
      "4   -82.695684\n",
      "Name: 0.05, dtype: float64\n",
      "The 95% quantile of parameters are\n",
      "0     1.000000\n",
      "1   -36.245882\n",
      "2     0.493030\n",
      "3    98.743652\n",
      "4    89.493345\n",
      "Name: 0.95, dtype: float64\n",
      "Simulation time:  8354.007978200912\n"
     ]
    },
    {
     "data": {
      "text/html": [
       "<div>\n",
       "<style scoped>\n",
       "    .dataframe tbody tr th:only-of-type {\n",
       "        vertical-align: middle;\n",
       "    }\n",
       "\n",
       "    .dataframe tbody tr th {\n",
       "        vertical-align: top;\n",
       "    }\n",
       "\n",
       "    .dataframe thead th {\n",
       "        text-align: right;\n",
       "    }\n",
       "</style>\n",
       "<table border=\"1\" class=\"dataframe\">\n",
       "  <thead>\n",
       "    <tr style=\"text-align: right;\">\n",
       "      <th></th>\n",
       "      <th>0</th>\n",
       "      <th>1</th>\n",
       "      <th>2</th>\n",
       "      <th>3</th>\n",
       "      <th>4</th>\n",
       "    </tr>\n",
       "  </thead>\n",
       "  <tbody>\n",
       "    <tr>\n",
       "      <th>0</th>\n",
       "      <td>1.0</td>\n",
       "      <td>-99.231250</td>\n",
       "      <td>0.004879</td>\n",
       "      <td>-12.488045</td>\n",
       "      <td>-54.667913</td>\n",
       "    </tr>\n",
       "    <tr>\n",
       "      <th>1</th>\n",
       "      <td>1.0</td>\n",
       "      <td>-78.910727</td>\n",
       "      <td>0.507259</td>\n",
       "      <td>39.188229</td>\n",
       "      <td>25.413048</td>\n",
       "    </tr>\n",
       "    <tr>\n",
       "      <th>2</th>\n",
       "      <td>1.0</td>\n",
       "      <td>-64.231139</td>\n",
       "      <td>0.086076</td>\n",
       "      <td>-95.673616</td>\n",
       "      <td>-64.225877</td>\n",
       "    </tr>\n",
       "    <tr>\n",
       "      <th>3</th>\n",
       "      <td>1.0</td>\n",
       "      <td>-70.381379</td>\n",
       "      <td>0.264324</td>\n",
       "      <td>-30.725268</td>\n",
       "      <td>-75.176655</td>\n",
       "    </tr>\n",
       "    <tr>\n",
       "      <th>4</th>\n",
       "      <td>1.0</td>\n",
       "      <td>-87.567491</td>\n",
       "      <td>0.026632</td>\n",
       "      <td>-7.489319</td>\n",
       "      <td>84.613679</td>\n",
       "    </tr>\n",
       "    <tr>\n",
       "      <th>5</th>\n",
       "      <td>1.0</td>\n",
       "      <td>-71.167678</td>\n",
       "      <td>0.025789</td>\n",
       "      <td>99.757212</td>\n",
       "      <td>76.561598</td>\n",
       "    </tr>\n",
       "    <tr>\n",
       "      <th>6</th>\n",
       "      <td>1.0</td>\n",
       "      <td>-86.993004</td>\n",
       "      <td>0.310994</td>\n",
       "      <td>97.504857</td>\n",
       "      <td>-88.847617</td>\n",
       "    </tr>\n",
       "    <tr>\n",
       "      <th>7</th>\n",
       "      <td>1.0</td>\n",
       "      <td>-86.512356</td>\n",
       "      <td>0.023114</td>\n",
       "      <td>-62.291873</td>\n",
       "      <td>52.593936</td>\n",
       "    </tr>\n",
       "    <tr>\n",
       "      <th>8</th>\n",
       "      <td>1.0</td>\n",
       "      <td>-13.348854</td>\n",
       "      <td>0.475639</td>\n",
       "      <td>-86.376915</td>\n",
       "      <td>23.807160</td>\n",
       "    </tr>\n",
       "    <tr>\n",
       "      <th>9</th>\n",
       "      <td>1.0</td>\n",
       "      <td>-99.054880</td>\n",
       "      <td>0.017162</td>\n",
       "      <td>-94.565448</td>\n",
       "      <td>93.485799</td>\n",
       "    </tr>\n",
       "  </tbody>\n",
       "</table>\n",
       "</div>"
      ],
      "text/plain": [
       "     0          1         2          3          4\n",
       "0  1.0 -99.231250  0.004879 -12.488045 -54.667913\n",
       "1  1.0 -78.910727  0.507259  39.188229  25.413048\n",
       "2  1.0 -64.231139  0.086076 -95.673616 -64.225877\n",
       "3  1.0 -70.381379  0.264324 -30.725268 -75.176655\n",
       "4  1.0 -87.567491  0.026632  -7.489319  84.613679\n",
       "5  1.0 -71.167678  0.025789  99.757212  76.561598\n",
       "6  1.0 -86.993004  0.310994  97.504857 -88.847617\n",
       "7  1.0 -86.512356  0.023114 -62.291873  52.593936\n",
       "8  1.0 -13.348854  0.475639 -86.376915  23.807160\n",
       "9  1.0 -99.054880  0.017162 -94.565448  93.485799"
      ]
     },
     "execution_count": 353,
     "metadata": {},
     "output_type": "execute_result"
    }
   ],
   "source": [
    "# num is the # of random samples(or the # of simulations)\n",
    "# ratio is the random sampling ratio, which is 10% here\n",
    "def Simulation(num, ratio, df_matched, df_unmatched):\n",
    "    df_result = pd.DataFrame()\n",
    "    for i in range(0, num):\n",
    "        # df_matched_sample = Subsample(df_matched, ratio)\n",
    "        # df_unmatched_sample = Subsample(df_unmatched, ratio)\n",
    "        \n",
    "        loan_id = df_unmatched[\"loan_id\"].unique()\n",
    "        sample_loan_id = np.random.choice(loan_id, round(loan_id.shape[0] * ratio), replace = False)\n",
    "        df_unmatched_sample = df_unmatched.loc[df_unmatched[\"loan_id\"].isin(sample_loan_id)]\n",
    "        df_matched_sample = df_matched.loc[df_matched[\"loan_id\"].isin(sample_loan_id)]\n",
    "       \n",
    "        df_keep = Exchange_pairs(df_matched_sample, df_unmatched_sample)\n",
    "        bounds = [(1, 1.000000001), (-100, 100), (-100, 100), (-100, 100), (-100, 100)] # fix beta_1 = 1\n",
    "        result = differential_evolution(objectfunc, bounds)\n",
    "        df_result = df_result.append(pd.Series(result.x), ignore_index = True)\n",
    "        # print(i)\n",
    "    print(\"The 5% quantile of parameters are\")\n",
    "    print(df_result.quantile(0.05))\n",
    "    print(\"The 95% quantile of parameters are\")\n",
    "    print(df_result.quantile(0.95))\n",
    "    return df_result\n",
    "\n",
    "\n",
    "t1 = time.time()\n",
    "df_result = Simulation(10, 0.1, df_matched, df_unmatched)\n",
    "t2 = time.time()\n",
    "print(\"Simulation time: \", t2-t1)\n",
    "df_result"
   ]
  },
  {
   "cell_type": "code",
   "execution_count": 177,
   "metadata": {},
   "outputs": [
    {
     "name": "stdout",
     "output_type": "stream",
     "text": [
      "The 5% quantile of parameters are\n",
      "0     1.000000\n",
      "1   -92.747828\n",
      "2     0.054753\n",
      "3   -31.420180\n",
      "4   -82.814493\n",
      "Name: 0.05, dtype: float64\n",
      "The 95% quantile of parameters are\n",
      "0     1.000000\n",
      "1    -0.477537\n",
      "2    65.198585\n",
      "3    80.092220\n",
      "4    97.542895\n",
      "Name: 0.95, dtype: float64\n"
     ]
    }
   ],
   "source": [
    "print(\"The 5% quantile of parameters are\")\n",
    "print(df_result.quantile(0.05))\n",
    "print(\"The 95% quantile of parameters are\")\n",
    "print(df_result.quantile(0.95))"
   ]
  },
  {
   "cell_type": "markdown",
   "metadata": {},
   "source": [
    "# Step 5: Model Fitness"
   ]
  },
  {
   "cell_type": "markdown",
   "metadata": {},
   "source": [
    "## 1) Number of inequalities satisfied: count how many inequalities are satisfied under the optimized parameter choice."
   ]
  },
  {
   "cell_type": "markdown",
   "metadata": {},
   "source": []
  },
  {
   "cell_type": "code",
   "execution_count": 360,
   "metadata": {},
   "outputs": [],
   "source": [
    "def Fox_func(path1, path2, num, ratio):\n",
    "    df_matched = pd.read_stata(path1)\n",
    "    df_unmatched = pd.read_stata(path2)\n",
    "    df_keep = Exchange_pairs(df_matched, df_unmatched)\n",
    "    def objectfunc(beta, df = df_keep):\n",
    "        return -sum(df.dot(beta) >=0 )\n",
    "    t1 = time.time()\n",
    "    bounds = [(1, 1.000000001), (-100, 100), (-100, 100), (-100, 100), (-100, 100)]\n",
    "    result = differential_evolution(objectfunc, bounds)\n",
    "    print(result)\n",
    "    t2 = time.time()\n",
    "    print(\"Differential Evolution time: \", t2-t1)\n",
    "    print(\"The bumber of inequalities satisfied is\")\n",
    "    print(round(-result.fun))\n",
    "    # Simulation(num, ratio, df_matched, df_unmatched)\n",
    "    return result"
   ]
  },
  {
   "cell_type": "code",
   "execution_count": 359,
   "metadata": {},
   "outputs": [
    {
     "name": "stdout",
     "output_type": "stream",
     "text": [
      "     fun: -6205527.0\n",
      " message: 'Optimization terminated successfully.'\n",
      "    nfev: 456\n",
      "     nit: 5\n",
      " success: True\n",
      "       x: array([  1.        , -88.24932195,   0.08977943, -29.98641481,\n",
      "       -85.42575606])\n",
      "Differential Evolution time:  544.3146297931671\n",
      "The bumber of inequalities satisfied is\n",
      "6205527\n"
     ]
    },
    {
     "ename": "KeyboardInterrupt",
     "evalue": "",
     "output_type": "error",
     "traceback": [
      "\u001b[0;31m\u001b[0m",
      "\u001b[0;31mKeyboardInterrupt\u001b[0mTraceback (most recent call last)",
      "\u001b[0;32m<ipython-input-359-8247ab43eb36>\u001b[0m in \u001b[0;36m<module>\u001b[0;34m\u001b[0m\n\u001b[0;32m----> 1\u001b[0;31m \u001b[0mr1\u001b[0m \u001b[0;34m=\u001b[0m \u001b[0mFox_func\u001b[0m\u001b[0;34m(\u001b[0m\u001b[0;34m\"sample_matched_NY_demean1.dta\"\u001b[0m\u001b[0;34m,\u001b[0m \u001b[0;34m\"sample_unmatched_NY_demean1.dta\"\u001b[0m\u001b[0;34m,\u001b[0m \u001b[0;36m100\u001b[0m\u001b[0;34m,\u001b[0m \u001b[0;36m0.1\u001b[0m\u001b[0;34m)\u001b[0m\u001b[0;34m\u001b[0m\u001b[0;34m\u001b[0m\u001b[0m\n\u001b[0m",
      "\u001b[0;32m<ipython-input-358-e99171c1c4c3>\u001b[0m in \u001b[0;36mFox_func\u001b[0;34m(path1, path2, num, ratio)\u001b[0m\n\u001b[1;32m     13\u001b[0m     \u001b[0mprint\u001b[0m\u001b[0;34m(\u001b[0m\u001b[0;34m\"The bumber of inequalities satisfied is\"\u001b[0m\u001b[0;34m)\u001b[0m\u001b[0;34m\u001b[0m\u001b[0;34m\u001b[0m\u001b[0m\n\u001b[1;32m     14\u001b[0m     \u001b[0mprint\u001b[0m\u001b[0;34m(\u001b[0m\u001b[0mround\u001b[0m\u001b[0;34m(\u001b[0m\u001b[0;34m-\u001b[0m\u001b[0mresult\u001b[0m\u001b[0;34m.\u001b[0m\u001b[0mfun\u001b[0m\u001b[0;34m)\u001b[0m\u001b[0;34m)\u001b[0m\u001b[0;34m\u001b[0m\u001b[0;34m\u001b[0m\u001b[0m\n\u001b[0;32m---> 15\u001b[0;31m     \u001b[0mSimulation\u001b[0m\u001b[0;34m(\u001b[0m\u001b[0mnum\u001b[0m\u001b[0;34m,\u001b[0m \u001b[0mratio\u001b[0m\u001b[0;34m,\u001b[0m \u001b[0mdf_matched\u001b[0m\u001b[0;34m,\u001b[0m \u001b[0mdf_unmatched\u001b[0m\u001b[0;34m)\u001b[0m\u001b[0;34m\u001b[0m\u001b[0;34m\u001b[0m\u001b[0m\n\u001b[0m\u001b[1;32m     16\u001b[0m     \u001b[0;32mreturn\u001b[0m \u001b[0mresult\u001b[0m\u001b[0;34m\u001b[0m\u001b[0;34m\u001b[0m\u001b[0m\n",
      "\u001b[0;32m<ipython-input-353-9cf87c7e3074>\u001b[0m in \u001b[0;36mSimulation\u001b[0;34m(num, ratio, df_matched, df_unmatched)\u001b[0m\n\u001b[1;32m     14\u001b[0m         \u001b[0mdf_keep\u001b[0m \u001b[0;34m=\u001b[0m \u001b[0mExchange_pairs\u001b[0m\u001b[0;34m(\u001b[0m\u001b[0mdf_matched_sample\u001b[0m\u001b[0;34m,\u001b[0m \u001b[0mdf_unmatched_sample\u001b[0m\u001b[0;34m)\u001b[0m\u001b[0;34m\u001b[0m\u001b[0;34m\u001b[0m\u001b[0m\n\u001b[1;32m     15\u001b[0m         \u001b[0mbounds\u001b[0m \u001b[0;34m=\u001b[0m \u001b[0;34m[\u001b[0m\u001b[0;34m(\u001b[0m\u001b[0;36m1\u001b[0m\u001b[0;34m,\u001b[0m \u001b[0;36m1.000000001\u001b[0m\u001b[0;34m)\u001b[0m\u001b[0;34m,\u001b[0m \u001b[0;34m(\u001b[0m\u001b[0;34m-\u001b[0m\u001b[0;36m100\u001b[0m\u001b[0;34m,\u001b[0m \u001b[0;36m100\u001b[0m\u001b[0;34m)\u001b[0m\u001b[0;34m,\u001b[0m \u001b[0;34m(\u001b[0m\u001b[0;34m-\u001b[0m\u001b[0;36m100\u001b[0m\u001b[0;34m,\u001b[0m \u001b[0;36m100\u001b[0m\u001b[0;34m)\u001b[0m\u001b[0;34m,\u001b[0m \u001b[0;34m(\u001b[0m\u001b[0;34m-\u001b[0m\u001b[0;36m100\u001b[0m\u001b[0;34m,\u001b[0m \u001b[0;36m100\u001b[0m\u001b[0;34m)\u001b[0m\u001b[0;34m,\u001b[0m \u001b[0;34m(\u001b[0m\u001b[0;34m-\u001b[0m\u001b[0;36m100\u001b[0m\u001b[0;34m,\u001b[0m \u001b[0;36m100\u001b[0m\u001b[0;34m)\u001b[0m\u001b[0;34m]\u001b[0m \u001b[0;31m# fix beta_1 = 1\u001b[0m\u001b[0;34m\u001b[0m\u001b[0;34m\u001b[0m\u001b[0m\n\u001b[0;32m---> 16\u001b[0;31m         \u001b[0mresult\u001b[0m \u001b[0;34m=\u001b[0m \u001b[0mdifferential_evolution\u001b[0m\u001b[0;34m(\u001b[0m\u001b[0mobjectfunc\u001b[0m\u001b[0;34m,\u001b[0m \u001b[0mbounds\u001b[0m\u001b[0;34m)\u001b[0m\u001b[0;34m\u001b[0m\u001b[0;34m\u001b[0m\u001b[0m\n\u001b[0m\u001b[1;32m     17\u001b[0m         \u001b[0mdf_result\u001b[0m \u001b[0;34m=\u001b[0m \u001b[0mdf_result\u001b[0m\u001b[0;34m.\u001b[0m\u001b[0mappend\u001b[0m\u001b[0;34m(\u001b[0m\u001b[0mpd\u001b[0m\u001b[0;34m.\u001b[0m\u001b[0mSeries\u001b[0m\u001b[0;34m(\u001b[0m\u001b[0mresult\u001b[0m\u001b[0;34m.\u001b[0m\u001b[0mx\u001b[0m\u001b[0;34m)\u001b[0m\u001b[0;34m,\u001b[0m \u001b[0mignore_index\u001b[0m \u001b[0;34m=\u001b[0m \u001b[0;32mTrue\u001b[0m\u001b[0;34m)\u001b[0m\u001b[0;34m\u001b[0m\u001b[0;34m\u001b[0m\u001b[0m\n\u001b[1;32m     18\u001b[0m         \u001b[0;31m# print(i)\u001b[0m\u001b[0;34m\u001b[0m\u001b[0;34m\u001b[0m\u001b[0;34m\u001b[0m\u001b[0m\n",
      "\u001b[0;32m/opt/conda/lib/python3.7/site-packages/scipy/optimize/_differentialevolution.py\u001b[0m in \u001b[0;36mdifferential_evolution\u001b[0;34m(func, bounds, args, strategy, maxiter, popsize, tol, mutation, recombination, seed, callback, disp, polish, init, atol, updating, workers, constraints)\u001b[0m\n\u001b[1;32m    306\u001b[0m                                      \u001b[0mworkers\u001b[0m\u001b[0;34m=\u001b[0m\u001b[0mworkers\u001b[0m\u001b[0;34m,\u001b[0m\u001b[0;34m\u001b[0m\u001b[0;34m\u001b[0m\u001b[0m\n\u001b[1;32m    307\u001b[0m                                      constraints=constraints) as solver:\n\u001b[0;32m--> 308\u001b[0;31m         \u001b[0mret\u001b[0m \u001b[0;34m=\u001b[0m \u001b[0msolver\u001b[0m\u001b[0;34m.\u001b[0m\u001b[0msolve\u001b[0m\u001b[0;34m(\u001b[0m\u001b[0;34m)\u001b[0m\u001b[0;34m\u001b[0m\u001b[0;34m\u001b[0m\u001b[0m\n\u001b[0m\u001b[1;32m    309\u001b[0m \u001b[0;34m\u001b[0m\u001b[0m\n\u001b[1;32m    310\u001b[0m     \u001b[0;32mreturn\u001b[0m \u001b[0mret\u001b[0m\u001b[0;34m\u001b[0m\u001b[0;34m\u001b[0m\u001b[0m\n",
      "\u001b[0;32m/opt/conda/lib/python3.7/site-packages/scipy/optimize/_differentialevolution.py\u001b[0m in \u001b[0;36msolve\u001b[0;34m(self)\u001b[0m\n\u001b[1;32m    757\u001b[0m             \u001b[0;31m# evolve the population by a generation\u001b[0m\u001b[0;34m\u001b[0m\u001b[0;34m\u001b[0m\u001b[0;34m\u001b[0m\u001b[0m\n\u001b[1;32m    758\u001b[0m             \u001b[0;32mtry\u001b[0m\u001b[0;34m:\u001b[0m\u001b[0;34m\u001b[0m\u001b[0;34m\u001b[0m\u001b[0m\n\u001b[0;32m--> 759\u001b[0;31m                 \u001b[0mnext\u001b[0m\u001b[0;34m(\u001b[0m\u001b[0mself\u001b[0m\u001b[0;34m)\u001b[0m\u001b[0;34m\u001b[0m\u001b[0;34m\u001b[0m\u001b[0m\n\u001b[0m\u001b[1;32m    760\u001b[0m             \u001b[0;32mexcept\u001b[0m \u001b[0mStopIteration\u001b[0m\u001b[0;34m:\u001b[0m\u001b[0;34m\u001b[0m\u001b[0;34m\u001b[0m\u001b[0m\n\u001b[1;32m    761\u001b[0m                 \u001b[0mwarning_flag\u001b[0m \u001b[0;34m=\u001b[0m \u001b[0;32mTrue\u001b[0m\u001b[0;34m\u001b[0m\u001b[0;34m\u001b[0m\u001b[0m\n",
      "\u001b[0;32m/opt/conda/lib/python3.7/site-packages/scipy/optimize/_differentialevolution.py\u001b[0m in \u001b[0;36m__next__\u001b[0;34m(self)\u001b[0m\n\u001b[1;32m   1067\u001b[0m                     \u001b[0mfeasible\u001b[0m \u001b[0;34m=\u001b[0m \u001b[0;32mTrue\u001b[0m\u001b[0;34m\u001b[0m\u001b[0;34m\u001b[0m\u001b[0m\n\u001b[1;32m   1068\u001b[0m                     \u001b[0mcv\u001b[0m \u001b[0;34m=\u001b[0m \u001b[0mnp\u001b[0m\u001b[0;34m.\u001b[0m\u001b[0matleast_2d\u001b[0m\u001b[0;34m(\u001b[0m\u001b[0;34m[\u001b[0m\u001b[0;36m0.\u001b[0m\u001b[0;34m]\u001b[0m\u001b[0;34m)\u001b[0m\u001b[0;34m\u001b[0m\u001b[0;34m\u001b[0m\u001b[0m\n\u001b[0;32m-> 1069\u001b[0;31m                     \u001b[0menergy\u001b[0m \u001b[0;34m=\u001b[0m \u001b[0mself\u001b[0m\u001b[0;34m.\u001b[0m\u001b[0mfunc\u001b[0m\u001b[0;34m(\u001b[0m\u001b[0mparameters\u001b[0m\u001b[0;34m)\u001b[0m\u001b[0;34m\u001b[0m\u001b[0;34m\u001b[0m\u001b[0m\n\u001b[0m\u001b[1;32m   1070\u001b[0m                     \u001b[0mself\u001b[0m\u001b[0;34m.\u001b[0m\u001b[0m_nfev\u001b[0m \u001b[0;34m+=\u001b[0m \u001b[0;36m1\u001b[0m\u001b[0;34m\u001b[0m\u001b[0;34m\u001b[0m\u001b[0m\n\u001b[1;32m   1071\u001b[0m \u001b[0;34m\u001b[0m\u001b[0m\n",
      "\u001b[0;32m/opt/conda/lib/python3.7/site-packages/scipy/optimize/_differentialevolution.py\u001b[0m in \u001b[0;36m__call__\u001b[0;34m(self, x)\u001b[0m\n\u001b[1;32m   1253\u001b[0m \u001b[0;34m\u001b[0m\u001b[0m\n\u001b[1;32m   1254\u001b[0m     \u001b[0;32mdef\u001b[0m \u001b[0m__call__\u001b[0m\u001b[0;34m(\u001b[0m\u001b[0mself\u001b[0m\u001b[0;34m,\u001b[0m \u001b[0mx\u001b[0m\u001b[0;34m)\u001b[0m\u001b[0;34m:\u001b[0m\u001b[0;34m\u001b[0m\u001b[0;34m\u001b[0m\u001b[0m\n\u001b[0;32m-> 1255\u001b[0;31m         \u001b[0;32mreturn\u001b[0m \u001b[0mself\u001b[0m\u001b[0;34m.\u001b[0m\u001b[0mf\u001b[0m\u001b[0;34m(\u001b[0m\u001b[0mx\u001b[0m\u001b[0;34m,\u001b[0m \u001b[0;34m*\u001b[0m\u001b[0mself\u001b[0m\u001b[0;34m.\u001b[0m\u001b[0margs\u001b[0m\u001b[0;34m)\u001b[0m\u001b[0;34m\u001b[0m\u001b[0;34m\u001b[0m\u001b[0m\n\u001b[0m\u001b[1;32m   1256\u001b[0m \u001b[0;34m\u001b[0m\u001b[0m\n\u001b[1;32m   1257\u001b[0m \u001b[0;34m\u001b[0m\u001b[0m\n",
      "\u001b[0;32m<ipython-input-161-cc5c1195ad0d>\u001b[0m in \u001b[0;36mobjectfunc\u001b[0;34m(beta, df)\u001b[0m\n\u001b[1;32m     10\u001b[0m     \u001b[0;32mreturn\u001b[0m \u001b[0;34m-\u001b[0m\u001b[0msum\u001b[0m\u001b[0;34m(\u001b[0m\u001b[0mobj\u001b[0m \u001b[0;34m>=\u001b[0m \u001b[0;36m0\u001b[0m\u001b[0;34m)\u001b[0m\u001b[0;34m\u001b[0m\u001b[0;34m\u001b[0m\u001b[0m\n\u001b[1;32m     11\u001b[0m     '''\n\u001b[0;32m---> 12\u001b[0;31m     \u001b[0;32mreturn\u001b[0m \u001b[0;34m-\u001b[0m\u001b[0msum\u001b[0m\u001b[0;34m(\u001b[0m\u001b[0mdf\u001b[0m\u001b[0;34m.\u001b[0m\u001b[0mdot\u001b[0m\u001b[0;34m(\u001b[0m\u001b[0mbeta\u001b[0m\u001b[0;34m)\u001b[0m \u001b[0;34m>=\u001b[0m\u001b[0;36m0\u001b[0m \u001b[0;34m)\u001b[0m\u001b[0;34m\u001b[0m\u001b[0;34m\u001b[0m\u001b[0m\n\u001b[0m",
      "\u001b[0;32m/opt/conda/lib/python3.7/site-packages/pandas/core/frame.py\u001b[0m in \u001b[0;36mdot\u001b[0;34m(self, other)\u001b[0m\n\u001b[1;32m   1264\u001b[0m             \u001b[0;32mreturn\u001b[0m \u001b[0mself\u001b[0m\u001b[0;34m.\u001b[0m\u001b[0m_constructor_sliced\u001b[0m\u001b[0;34m(\u001b[0m\u001b[0mnp\u001b[0m\u001b[0;34m.\u001b[0m\u001b[0mdot\u001b[0m\u001b[0;34m(\u001b[0m\u001b[0mlvals\u001b[0m\u001b[0;34m,\u001b[0m \u001b[0mrvals\u001b[0m\u001b[0;34m)\u001b[0m\u001b[0;34m,\u001b[0m \u001b[0mindex\u001b[0m\u001b[0;34m=\u001b[0m\u001b[0mleft\u001b[0m\u001b[0;34m.\u001b[0m\u001b[0mindex\u001b[0m\u001b[0;34m)\u001b[0m\u001b[0;34m\u001b[0m\u001b[0;34m\u001b[0m\u001b[0m\n\u001b[1;32m   1265\u001b[0m         \u001b[0;32melif\u001b[0m \u001b[0misinstance\u001b[0m\u001b[0;34m(\u001b[0m\u001b[0mrvals\u001b[0m\u001b[0;34m,\u001b[0m \u001b[0;34m(\u001b[0m\u001b[0mnp\u001b[0m\u001b[0;34m.\u001b[0m\u001b[0mndarray\u001b[0m\u001b[0;34m,\u001b[0m \u001b[0mIndex\u001b[0m\u001b[0;34m)\u001b[0m\u001b[0;34m)\u001b[0m\u001b[0;34m:\u001b[0m\u001b[0;34m\u001b[0m\u001b[0;34m\u001b[0m\u001b[0m\n\u001b[0;32m-> 1266\u001b[0;31m             \u001b[0mresult\u001b[0m \u001b[0;34m=\u001b[0m \u001b[0mnp\u001b[0m\u001b[0;34m.\u001b[0m\u001b[0mdot\u001b[0m\u001b[0;34m(\u001b[0m\u001b[0mlvals\u001b[0m\u001b[0;34m,\u001b[0m \u001b[0mrvals\u001b[0m\u001b[0;34m)\u001b[0m\u001b[0;34m\u001b[0m\u001b[0;34m\u001b[0m\u001b[0m\n\u001b[0m\u001b[1;32m   1267\u001b[0m             \u001b[0;32mif\u001b[0m \u001b[0mresult\u001b[0m\u001b[0;34m.\u001b[0m\u001b[0mndim\u001b[0m \u001b[0;34m==\u001b[0m \u001b[0;36m2\u001b[0m\u001b[0;34m:\u001b[0m\u001b[0;34m\u001b[0m\u001b[0;34m\u001b[0m\u001b[0m\n\u001b[1;32m   1268\u001b[0m                 \u001b[0;32mreturn\u001b[0m \u001b[0mself\u001b[0m\u001b[0;34m.\u001b[0m\u001b[0m_constructor\u001b[0m\u001b[0;34m(\u001b[0m\u001b[0mresult\u001b[0m\u001b[0;34m,\u001b[0m \u001b[0mindex\u001b[0m\u001b[0;34m=\u001b[0m\u001b[0mleft\u001b[0m\u001b[0;34m.\u001b[0m\u001b[0mindex\u001b[0m\u001b[0;34m)\u001b[0m\u001b[0;34m\u001b[0m\u001b[0;34m\u001b[0m\u001b[0m\n",
      "\u001b[0;32m<__array_function__ internals>\u001b[0m in \u001b[0;36mdot\u001b[0;34m(*args, **kwargs)\u001b[0m\n",
      "\u001b[0;31mKeyboardInterrupt\u001b[0m: "
     ]
    }
   ],
   "source": [
    "r1 = Fox_func(\"sample_matched_NY_demean1.dta\", \"sample_unmatched_NY_demean1.dta\", 100, 0.1)"
   ]
  },
  {
   "cell_type": "code",
   "execution_count": 365,
   "metadata": {},
   "outputs": [
    {
     "ename": "KeyboardInterrupt",
     "evalue": "",
     "output_type": "error",
     "traceback": [
      "\u001b[0;31m\u001b[0m",
      "\u001b[0;31mKeyboardInterrupt\u001b[0mTraceback (most recent call last)",
      "\u001b[0;32m<ipython-input-365-1e393cc0a25c>\u001b[0m in \u001b[0;36m<module>\u001b[0;34m\u001b[0m\n\u001b[1;32m      1\u001b[0m \u001b[0;32mfor\u001b[0m \u001b[0mi\u001b[0m \u001b[0;32min\u001b[0m \u001b[0mrange\u001b[0m\u001b[0;34m(\u001b[0m\u001b[0;36m0\u001b[0m\u001b[0;34m,\u001b[0m \u001b[0;36m5\u001b[0m\u001b[0;34m)\u001b[0m\u001b[0;34m:\u001b[0m\u001b[0;34m\u001b[0m\u001b[0;34m\u001b[0m\u001b[0m\n\u001b[0;32m----> 2\u001b[0;31m     \u001b[0mFox_func\u001b[0m\u001b[0;34m(\u001b[0m\u001b[0;34m\"sample_matched_NY_demean1.dta\"\u001b[0m\u001b[0;34m,\u001b[0m \u001b[0;34m\"sample_unmatched_NY_demean1.dta\"\u001b[0m\u001b[0;34m,\u001b[0m \u001b[0;36m100\u001b[0m\u001b[0;34m,\u001b[0m \u001b[0;36m0.1\u001b[0m\u001b[0;34m)\u001b[0m\u001b[0;34m\u001b[0m\u001b[0;34m\u001b[0m\u001b[0m\n\u001b[0m",
      "\u001b[0;32m<ipython-input-360-e0366f447fbd>\u001b[0m in \u001b[0;36mFox_func\u001b[0;34m(path1, path2, num, ratio)\u001b[0m\n\u001b[1;32m      7\u001b[0m     \u001b[0mt1\u001b[0m \u001b[0;34m=\u001b[0m \u001b[0mtime\u001b[0m\u001b[0;34m.\u001b[0m\u001b[0mtime\u001b[0m\u001b[0;34m(\u001b[0m\u001b[0;34m)\u001b[0m\u001b[0;34m\u001b[0m\u001b[0;34m\u001b[0m\u001b[0m\n\u001b[1;32m      8\u001b[0m     \u001b[0mbounds\u001b[0m \u001b[0;34m=\u001b[0m \u001b[0;34m[\u001b[0m\u001b[0;34m(\u001b[0m\u001b[0;36m1\u001b[0m\u001b[0;34m,\u001b[0m \u001b[0;36m1.000000001\u001b[0m\u001b[0;34m)\u001b[0m\u001b[0;34m,\u001b[0m \u001b[0;34m(\u001b[0m\u001b[0;34m-\u001b[0m\u001b[0;36m100\u001b[0m\u001b[0;34m,\u001b[0m \u001b[0;36m100\u001b[0m\u001b[0;34m)\u001b[0m\u001b[0;34m,\u001b[0m \u001b[0;34m(\u001b[0m\u001b[0;34m-\u001b[0m\u001b[0;36m100\u001b[0m\u001b[0;34m,\u001b[0m \u001b[0;36m100\u001b[0m\u001b[0;34m)\u001b[0m\u001b[0;34m,\u001b[0m \u001b[0;34m(\u001b[0m\u001b[0;34m-\u001b[0m\u001b[0;36m100\u001b[0m\u001b[0;34m,\u001b[0m \u001b[0;36m100\u001b[0m\u001b[0;34m)\u001b[0m\u001b[0;34m,\u001b[0m \u001b[0;34m(\u001b[0m\u001b[0;34m-\u001b[0m\u001b[0;36m100\u001b[0m\u001b[0;34m,\u001b[0m \u001b[0;36m100\u001b[0m\u001b[0;34m)\u001b[0m\u001b[0;34m]\u001b[0m\u001b[0;34m\u001b[0m\u001b[0;34m\u001b[0m\u001b[0m\n\u001b[0;32m----> 9\u001b[0;31m     \u001b[0mresult\u001b[0m \u001b[0;34m=\u001b[0m \u001b[0mdifferential_evolution\u001b[0m\u001b[0;34m(\u001b[0m\u001b[0mobjectfunc\u001b[0m\u001b[0;34m,\u001b[0m \u001b[0mbounds\u001b[0m\u001b[0;34m)\u001b[0m\u001b[0;34m\u001b[0m\u001b[0;34m\u001b[0m\u001b[0m\n\u001b[0m\u001b[1;32m     10\u001b[0m     \u001b[0mprint\u001b[0m\u001b[0;34m(\u001b[0m\u001b[0mresult\u001b[0m\u001b[0;34m)\u001b[0m\u001b[0;34m\u001b[0m\u001b[0;34m\u001b[0m\u001b[0m\n\u001b[1;32m     11\u001b[0m     \u001b[0mt2\u001b[0m \u001b[0;34m=\u001b[0m \u001b[0mtime\u001b[0m\u001b[0;34m.\u001b[0m\u001b[0mtime\u001b[0m\u001b[0;34m(\u001b[0m\u001b[0;34m)\u001b[0m\u001b[0;34m\u001b[0m\u001b[0;34m\u001b[0m\u001b[0m\n",
      "\u001b[0;32m/opt/conda/lib/python3.7/site-packages/scipy/optimize/_differentialevolution.py\u001b[0m in \u001b[0;36mdifferential_evolution\u001b[0;34m(func, bounds, args, strategy, maxiter, popsize, tol, mutation, recombination, seed, callback, disp, polish, init, atol, updating, workers, constraints)\u001b[0m\n\u001b[1;32m    306\u001b[0m                                      \u001b[0mworkers\u001b[0m\u001b[0;34m=\u001b[0m\u001b[0mworkers\u001b[0m\u001b[0;34m,\u001b[0m\u001b[0;34m\u001b[0m\u001b[0;34m\u001b[0m\u001b[0m\n\u001b[1;32m    307\u001b[0m                                      constraints=constraints) as solver:\n\u001b[0;32m--> 308\u001b[0;31m         \u001b[0mret\u001b[0m \u001b[0;34m=\u001b[0m \u001b[0msolver\u001b[0m\u001b[0;34m.\u001b[0m\u001b[0msolve\u001b[0m\u001b[0;34m(\u001b[0m\u001b[0;34m)\u001b[0m\u001b[0;34m\u001b[0m\u001b[0;34m\u001b[0m\u001b[0m\n\u001b[0m\u001b[1;32m    309\u001b[0m \u001b[0;34m\u001b[0m\u001b[0m\n\u001b[1;32m    310\u001b[0m     \u001b[0;32mreturn\u001b[0m \u001b[0mret\u001b[0m\u001b[0;34m\u001b[0m\u001b[0;34m\u001b[0m\u001b[0m\n",
      "\u001b[0;32m/opt/conda/lib/python3.7/site-packages/scipy/optimize/_differentialevolution.py\u001b[0m in \u001b[0;36msolve\u001b[0;34m(self)\u001b[0m\n\u001b[1;32m    757\u001b[0m             \u001b[0;31m# evolve the population by a generation\u001b[0m\u001b[0;34m\u001b[0m\u001b[0;34m\u001b[0m\u001b[0;34m\u001b[0m\u001b[0m\n\u001b[1;32m    758\u001b[0m             \u001b[0;32mtry\u001b[0m\u001b[0;34m:\u001b[0m\u001b[0;34m\u001b[0m\u001b[0;34m\u001b[0m\u001b[0m\n\u001b[0;32m--> 759\u001b[0;31m                 \u001b[0mnext\u001b[0m\u001b[0;34m(\u001b[0m\u001b[0mself\u001b[0m\u001b[0;34m)\u001b[0m\u001b[0;34m\u001b[0m\u001b[0;34m\u001b[0m\u001b[0m\n\u001b[0m\u001b[1;32m    760\u001b[0m             \u001b[0;32mexcept\u001b[0m \u001b[0mStopIteration\u001b[0m\u001b[0;34m:\u001b[0m\u001b[0;34m\u001b[0m\u001b[0;34m\u001b[0m\u001b[0m\n\u001b[1;32m    761\u001b[0m                 \u001b[0mwarning_flag\u001b[0m \u001b[0;34m=\u001b[0m \u001b[0;32mTrue\u001b[0m\u001b[0;34m\u001b[0m\u001b[0;34m\u001b[0m\u001b[0m\n",
      "\u001b[0;32m/opt/conda/lib/python3.7/site-packages/scipy/optimize/_differentialevolution.py\u001b[0m in \u001b[0;36m__next__\u001b[0;34m(self)\u001b[0m\n\u001b[1;32m   1067\u001b[0m                     \u001b[0mfeasible\u001b[0m \u001b[0;34m=\u001b[0m \u001b[0;32mTrue\u001b[0m\u001b[0;34m\u001b[0m\u001b[0;34m\u001b[0m\u001b[0m\n\u001b[1;32m   1068\u001b[0m                     \u001b[0mcv\u001b[0m \u001b[0;34m=\u001b[0m \u001b[0mnp\u001b[0m\u001b[0;34m.\u001b[0m\u001b[0matleast_2d\u001b[0m\u001b[0;34m(\u001b[0m\u001b[0;34m[\u001b[0m\u001b[0;36m0.\u001b[0m\u001b[0;34m]\u001b[0m\u001b[0;34m)\u001b[0m\u001b[0;34m\u001b[0m\u001b[0;34m\u001b[0m\u001b[0m\n\u001b[0;32m-> 1069\u001b[0;31m                     \u001b[0menergy\u001b[0m \u001b[0;34m=\u001b[0m \u001b[0mself\u001b[0m\u001b[0;34m.\u001b[0m\u001b[0mfunc\u001b[0m\u001b[0;34m(\u001b[0m\u001b[0mparameters\u001b[0m\u001b[0;34m)\u001b[0m\u001b[0;34m\u001b[0m\u001b[0;34m\u001b[0m\u001b[0m\n\u001b[0m\u001b[1;32m   1070\u001b[0m                     \u001b[0mself\u001b[0m\u001b[0;34m.\u001b[0m\u001b[0m_nfev\u001b[0m \u001b[0;34m+=\u001b[0m \u001b[0;36m1\u001b[0m\u001b[0;34m\u001b[0m\u001b[0;34m\u001b[0m\u001b[0m\n\u001b[1;32m   1071\u001b[0m \u001b[0;34m\u001b[0m\u001b[0m\n",
      "\u001b[0;32m/opt/conda/lib/python3.7/site-packages/scipy/optimize/_differentialevolution.py\u001b[0m in \u001b[0;36m__call__\u001b[0;34m(self, x)\u001b[0m\n\u001b[1;32m   1253\u001b[0m \u001b[0;34m\u001b[0m\u001b[0m\n\u001b[1;32m   1254\u001b[0m     \u001b[0;32mdef\u001b[0m \u001b[0m__call__\u001b[0m\u001b[0;34m(\u001b[0m\u001b[0mself\u001b[0m\u001b[0;34m,\u001b[0m \u001b[0mx\u001b[0m\u001b[0;34m)\u001b[0m\u001b[0;34m:\u001b[0m\u001b[0;34m\u001b[0m\u001b[0;34m\u001b[0m\u001b[0m\n\u001b[0;32m-> 1255\u001b[0;31m         \u001b[0;32mreturn\u001b[0m \u001b[0mself\u001b[0m\u001b[0;34m.\u001b[0m\u001b[0mf\u001b[0m\u001b[0;34m(\u001b[0m\u001b[0mx\u001b[0m\u001b[0;34m,\u001b[0m \u001b[0;34m*\u001b[0m\u001b[0mself\u001b[0m\u001b[0;34m.\u001b[0m\u001b[0margs\u001b[0m\u001b[0;34m)\u001b[0m\u001b[0;34m\u001b[0m\u001b[0;34m\u001b[0m\u001b[0m\n\u001b[0m\u001b[1;32m   1256\u001b[0m \u001b[0;34m\u001b[0m\u001b[0m\n\u001b[1;32m   1257\u001b[0m \u001b[0;34m\u001b[0m\u001b[0m\n",
      "\u001b[0;32m<ipython-input-360-e0366f447fbd>\u001b[0m in \u001b[0;36mobjectfunc\u001b[0;34m(beta, df)\u001b[0m\n\u001b[1;32m      4\u001b[0m     \u001b[0mdf_keep\u001b[0m \u001b[0;34m=\u001b[0m \u001b[0mExchange_pairs\u001b[0m\u001b[0;34m(\u001b[0m\u001b[0mdf_matched\u001b[0m\u001b[0;34m,\u001b[0m \u001b[0mdf_unmatched\u001b[0m\u001b[0;34m)\u001b[0m\u001b[0;34m\u001b[0m\u001b[0;34m\u001b[0m\u001b[0m\n\u001b[1;32m      5\u001b[0m     \u001b[0;32mdef\u001b[0m \u001b[0mobjectfunc\u001b[0m\u001b[0;34m(\u001b[0m\u001b[0mbeta\u001b[0m\u001b[0;34m,\u001b[0m \u001b[0mdf\u001b[0m \u001b[0;34m=\u001b[0m \u001b[0mdf_keep\u001b[0m\u001b[0;34m)\u001b[0m\u001b[0;34m:\u001b[0m\u001b[0;34m\u001b[0m\u001b[0;34m\u001b[0m\u001b[0m\n\u001b[0;32m----> 6\u001b[0;31m         \u001b[0;32mreturn\u001b[0m \u001b[0;34m-\u001b[0m\u001b[0msum\u001b[0m\u001b[0;34m(\u001b[0m\u001b[0mdf\u001b[0m\u001b[0;34m.\u001b[0m\u001b[0mdot\u001b[0m\u001b[0;34m(\u001b[0m\u001b[0mbeta\u001b[0m\u001b[0;34m)\u001b[0m \u001b[0;34m>=\u001b[0m\u001b[0;36m0\u001b[0m \u001b[0;34m)\u001b[0m\u001b[0;34m\u001b[0m\u001b[0;34m\u001b[0m\u001b[0m\n\u001b[0m\u001b[1;32m      7\u001b[0m     \u001b[0mt1\u001b[0m \u001b[0;34m=\u001b[0m \u001b[0mtime\u001b[0m\u001b[0;34m.\u001b[0m\u001b[0mtime\u001b[0m\u001b[0;34m(\u001b[0m\u001b[0;34m)\u001b[0m\u001b[0;34m\u001b[0m\u001b[0;34m\u001b[0m\u001b[0m\n\u001b[1;32m      8\u001b[0m     \u001b[0mbounds\u001b[0m \u001b[0;34m=\u001b[0m \u001b[0;34m[\u001b[0m\u001b[0;34m(\u001b[0m\u001b[0;36m1\u001b[0m\u001b[0;34m,\u001b[0m \u001b[0;36m1.000000001\u001b[0m\u001b[0;34m)\u001b[0m\u001b[0;34m,\u001b[0m \u001b[0;34m(\u001b[0m\u001b[0;34m-\u001b[0m\u001b[0;36m100\u001b[0m\u001b[0;34m,\u001b[0m \u001b[0;36m100\u001b[0m\u001b[0;34m)\u001b[0m\u001b[0;34m,\u001b[0m \u001b[0;34m(\u001b[0m\u001b[0;34m-\u001b[0m\u001b[0;36m100\u001b[0m\u001b[0;34m,\u001b[0m \u001b[0;36m100\u001b[0m\u001b[0;34m)\u001b[0m\u001b[0;34m,\u001b[0m \u001b[0;34m(\u001b[0m\u001b[0;34m-\u001b[0m\u001b[0;36m100\u001b[0m\u001b[0;34m,\u001b[0m \u001b[0;36m100\u001b[0m\u001b[0;34m)\u001b[0m\u001b[0;34m,\u001b[0m \u001b[0;34m(\u001b[0m\u001b[0;34m-\u001b[0m\u001b[0;36m100\u001b[0m\u001b[0;34m,\u001b[0m \u001b[0;36m100\u001b[0m\u001b[0;34m)\u001b[0m\u001b[0;34m]\u001b[0m\u001b[0;34m\u001b[0m\u001b[0;34m\u001b[0m\u001b[0m\n",
      "\u001b[0;31mKeyboardInterrupt\u001b[0m: "
     ]
    }
   ],
   "source": [
    "for i in range(0, 5):\n",
    "    Fox_func(\"sample_matched_NY_demean1.dta\", \"sample_unmatched_NY_demean1.dta\", 100, 0.1)"
   ]
  },
  {
   "cell_type": "code",
   "execution_count": 364,
   "metadata": {},
   "outputs": [
    {
     "name": "stdout",
     "output_type": "stream",
     "text": [
      "     fun: -6251655.0\n",
      " message: 'Optimization terminated successfully.'\n",
      "    nfev: 606\n",
      "     nit: 7\n",
      " success: True\n",
      "       x: array([ 1.00000000e+00, -8.80611821e+01,  3.34176683e-02,  5.43157949e+01,\n",
      "        9.43293346e+01])\n",
      "Differential Evolution time:  723.1010811328888\n",
      "The bumber of inequalities satisfied is\n",
      "6251655\n"
     ]
    }
   ],
   "source": [
    "r11 = Fox_func(\"sample_matched_NY_demean1.dta\", \"sample_unmatched_NY_demean1.dta\", 100, 0.1)"
   ]
  },
  {
   "cell_type": "code",
   "execution_count": 361,
   "metadata": {},
   "outputs": [
    {
     "name": "stdout",
     "output_type": "stream",
     "text": [
      "     fun: -6201458.0\n",
      " message: 'Optimization terminated successfully.'\n",
      "    nfev: 831\n",
      "     nit: 10\n",
      " success: True\n",
      "       x: array([  1.        , -90.58079024,   0.13302473, -82.04290535,\n",
      "        13.81828559])\n",
      "Differential Evolution time:  989.1443526744843\n",
      "The bumber of inequalities satisfied is\n",
      "6201458\n"
     ]
    }
   ],
   "source": [
    "r2 = Fox_func(\"sample_matched_NY_org.dta\", \"sample_unmatched_NY_org.dta\", 100, 0.1)"
   ]
  },
  {
   "cell_type": "code",
   "execution_count": 363,
   "metadata": {},
   "outputs": [
    {
     "name": "stdout",
     "output_type": "stream",
     "text": [
      "     fun: -7328256.0\n",
      " message: 'Optimization terminated successfully.'\n",
      "    nfev: 1506\n",
      "     nit: 19\n",
      " success: True\n",
      "       x: array([ 1.00000000e+00, -7.86944392e+01,  3.55526603e-02,  3.10801718e-02,\n",
      "       -5.34111523e+01])\n",
      "Differential Evolution time:  1793.9496803283691\n",
      "The bumber of inequalities satisfied is\n",
      "7328256\n"
     ]
    }
   ],
   "source": [
    "r3 = Fox_func(\"sample_matched_NY_std.dta\", \"sample_unmatched_NY_std.dta\", 100, 0.1)"
   ]
  },
  {
   "cell_type": "markdown",
   "metadata": {},
   "source": [
    "## 2) In sample prediction: assign firms to lenders according to the estimated value function and count how many of the observed (P820, footnote 51 – Schwert (2018)) Target Output – Table IX X in Schwert (2018)"
   ]
  },
  {
   "cell_type": "markdown",
   "metadata": {},
   "source": [
    "- Calculate the quota for each lender.\n",
    "- Using the estimated value function, matching values are calculated for all pairs in matched sample and unmatched sample.\n",
    "- For every lender, rank the pairs by matching values in descending order and pick the top \"quota\" pairs.\n",
    "- Calculate how many pairs are in matched sample"
   ]
  },
  {
   "cell_type": "code",
   "execution_count": 372,
   "metadata": {},
   "outputs": [],
   "source": [
    "def Ratio_Calculate(path1, path2, beta):\n",
    "    df_matched = pd.read_stata(path1)\n",
    "    df_unmatched = pd.read_stata(path2)\n",
    "    values, counts = np.unique(df_matched[\"lender_id\"], return_counts = True)\n",
    "    df_quota = pd.DataFrame(counts, index = values, columns = [\"quota\"])\n",
    "    df_total = df_matched.append(df_unmatched)\n",
    "    df_total[\"matching_value\"] = df_total.iloc[:,2:].dot(beta)\n",
    "    s = 0\n",
    "    for i in df_quota.index:\n",
    "        quota = int(df_quota.loc[i])\n",
    "        id_sorted = df_total[df_total[\"lender_id\"] == i].sort_values(by = \"matching_value\")[0:quota][\"loan_id\"]\n",
    "        s = s + sum(df_matched[df_matched[\"lender_id\"] == i][\"loan_id\"].isin(id_sorted))\n",
    "    print(s/df_matched.shape[0])\n"
   ]
  },
  {
   "cell_type": "code",
   "execution_count": 373,
   "metadata": {},
   "outputs": [
    {
     "name": "stdout",
     "output_type": "stream",
     "text": [
      "0.07139395897270231\n"
     ]
    }
   ],
   "source": [
    "Ratio_Calculate(\"sample_matched_NY_demean1.dta\", \"sample_unmatched_NY_demean1.dta\", r11.x)"
   ]
  },
  {
   "cell_type": "code",
   "execution_count": 374,
   "metadata": {},
   "outputs": [
    {
     "name": "stdout",
     "output_type": "stream",
     "text": [
      "0.07607817800032304\n"
     ]
    }
   ],
   "source": [
    "Ratio_Calculate(\"sample_matched_NY_org.dta\", \"sample_unmatched_NY_org.dta\", r2.x)"
   ]
  },
  {
   "cell_type": "code",
   "execution_count": 375,
   "metadata": {},
   "outputs": [
    {
     "name": "stdout",
     "output_type": "stream",
     "text": [
      "0.06251009529962849\n"
     ]
    }
   ],
   "source": [
    "Ratio_Calculate(\"sample_matched_NY_std.dta\", \"sample_unmatched_NY_std.dta\", r3.x)"
   ]
  },
  {
   "cell_type": "code",
   "execution_count": 356,
   "metadata": {},
   "outputs": [
    {
     "data": {
      "text/html": [
       "<div>\n",
       "<style scoped>\n",
       "    .dataframe tbody tr th:only-of-type {\n",
       "        vertical-align: middle;\n",
       "    }\n",
       "\n",
       "    .dataframe tbody tr th {\n",
       "        vertical-align: top;\n",
       "    }\n",
       "\n",
       "    .dataframe thead th {\n",
       "        text-align: right;\n",
       "    }\n",
       "</style>\n",
       "<table border=\"1\" class=\"dataframe\">\n",
       "  <thead>\n",
       "    <tr style=\"text-align: right;\">\n",
       "      <th></th>\n",
       "      <th>quota</th>\n",
       "    </tr>\n",
       "  </thead>\n",
       "  <tbody>\n",
       "    <tr>\n",
       "      <th>14.0</th>\n",
       "      <td>1</td>\n",
       "    </tr>\n",
       "    <tr>\n",
       "      <th>49.0</th>\n",
       "      <td>13</td>\n",
       "    </tr>\n",
       "    <tr>\n",
       "      <th>57.0</th>\n",
       "      <td>1</td>\n",
       "    </tr>\n",
       "    <tr>\n",
       "      <th>60.0</th>\n",
       "      <td>5</td>\n",
       "    </tr>\n",
       "    <tr>\n",
       "      <th>67.0</th>\n",
       "      <td>28</td>\n",
       "    </tr>\n",
       "    <tr>\n",
       "      <th>...</th>\n",
       "      <td>...</td>\n",
       "    </tr>\n",
       "    <tr>\n",
       "      <th>5001.0</th>\n",
       "      <td>8</td>\n",
       "    </tr>\n",
       "    <tr>\n",
       "      <th>5007.0</th>\n",
       "      <td>34</td>\n",
       "    </tr>\n",
       "    <tr>\n",
       "      <th>5009.0</th>\n",
       "      <td>1</td>\n",
       "    </tr>\n",
       "    <tr>\n",
       "      <th>5084.0</th>\n",
       "      <td>1</td>\n",
       "    </tr>\n",
       "    <tr>\n",
       "      <th>5090.0</th>\n",
       "      <td>9</td>\n",
       "    </tr>\n",
       "  </tbody>\n",
       "</table>\n",
       "<p>267 rows × 1 columns</p>\n",
       "</div>"
      ],
      "text/plain": [
       "        quota\n",
       "14.0        1\n",
       "49.0       13\n",
       "57.0        1\n",
       "60.0        5\n",
       "67.0       28\n",
       "...       ...\n",
       "5001.0      8\n",
       "5007.0     34\n",
       "5009.0      1\n",
       "5084.0      1\n",
       "5090.0      9\n",
       "\n",
       "[267 rows x 1 columns]"
      ]
     },
     "execution_count": 356,
     "metadata": {},
     "output_type": "execute_result"
    }
   ],
   "source": [
    "values, counts = np.unique(df_matched[\"lender_id\"], return_counts = True)\n",
    "df_quota = pd.DataFrame(counts, index = values, columns = [\"quota\"])\n",
    "df_quota\n",
    "beta = result.x"
   ]
  },
  {
   "cell_type": "code",
   "execution_count": 357,
   "metadata": {},
   "outputs": [
    {
     "data": {
      "text/html": [
       "<div>\n",
       "<style scoped>\n",
       "    .dataframe tbody tr th:only-of-type {\n",
       "        vertical-align: middle;\n",
       "    }\n",
       "\n",
       "    .dataframe tbody tr th {\n",
       "        vertical-align: top;\n",
       "    }\n",
       "\n",
       "    .dataframe thead th {\n",
       "        text-align: right;\n",
       "    }\n",
       "</style>\n",
       "<table border=\"1\" class=\"dataframe\">\n",
       "  <thead>\n",
       "    <tr style=\"text-align: right;\">\n",
       "      <th></th>\n",
       "      <th>lender_id</th>\n",
       "      <th>loan_id</th>\n",
       "      <th>var1</th>\n",
       "      <th>var2</th>\n",
       "      <th>var3</th>\n",
       "      <th>var4</th>\n",
       "      <th>var5</th>\n",
       "    </tr>\n",
       "  </thead>\n",
       "  <tbody>\n",
       "    <tr>\n",
       "      <th>0</th>\n",
       "      <td>814.0</td>\n",
       "      <td>19445.0</td>\n",
       "      <td>0.0</td>\n",
       "      <td>11.481559</td>\n",
       "      <td>2150.0</td>\n",
       "      <td>0.0</td>\n",
       "      <td>0.0</td>\n",
       "    </tr>\n",
       "    <tr>\n",
       "      <th>1</th>\n",
       "      <td>275.0</td>\n",
       "      <td>3498.0</td>\n",
       "      <td>1.0</td>\n",
       "      <td>169.902786</td>\n",
       "      <td>11088.0</td>\n",
       "      <td>0.0</td>\n",
       "      <td>0.0</td>\n",
       "    </tr>\n",
       "    <tr>\n",
       "      <th>2</th>\n",
       "      <td>3096.0</td>\n",
       "      <td>60530.0</td>\n",
       "      <td>1.0</td>\n",
       "      <td>7.044008</td>\n",
       "      <td>2823.0</td>\n",
       "      <td>0.0</td>\n",
       "      <td>0.0</td>\n",
       "    </tr>\n",
       "    <tr>\n",
       "      <th>3</th>\n",
       "      <td>3813.0</td>\n",
       "      <td>71810.0</td>\n",
       "      <td>0.0</td>\n",
       "      <td>1.056799</td>\n",
       "      <td>28242.0</td>\n",
       "      <td>0.0</td>\n",
       "      <td>0.0</td>\n",
       "    </tr>\n",
       "    <tr>\n",
       "      <th>4</th>\n",
       "      <td>60.0</td>\n",
       "      <td>456.0</td>\n",
       "      <td>0.0</td>\n",
       "      <td>3.011763</td>\n",
       "      <td>1764.0</td>\n",
       "      <td>0.0</td>\n",
       "      <td>0.0</td>\n",
       "    </tr>\n",
       "    <tr>\n",
       "      <th>...</th>\n",
       "      <td>...</td>\n",
       "      <td>...</td>\n",
       "      <td>...</td>\n",
       "      <td>...</td>\n",
       "      <td>...</td>\n",
       "      <td>...</td>\n",
       "      <td>...</td>\n",
       "    </tr>\n",
       "    <tr>\n",
       "      <th>430180</th>\n",
       "      <td>3278.0</td>\n",
       "      <td>36138.0</td>\n",
       "      <td>0.0</td>\n",
       "      <td>174.711655</td>\n",
       "      <td>1337778.0</td>\n",
       "      <td>0.0</td>\n",
       "      <td>0.0</td>\n",
       "    </tr>\n",
       "    <tr>\n",
       "      <th>430181</th>\n",
       "      <td>697.0</td>\n",
       "      <td>19525.0</td>\n",
       "      <td>0.0</td>\n",
       "      <td>1279.236694</td>\n",
       "      <td>772416.0</td>\n",
       "      <td>0.0</td>\n",
       "      <td>0.0</td>\n",
       "    </tr>\n",
       "    <tr>\n",
       "      <th>430182</th>\n",
       "      <td>697.0</td>\n",
       "      <td>36138.0</td>\n",
       "      <td>0.0</td>\n",
       "      <td>1279.236694</td>\n",
       "      <td>2317248.0</td>\n",
       "      <td>0.0</td>\n",
       "      <td>0.0</td>\n",
       "    </tr>\n",
       "    <tr>\n",
       "      <th>430183</th>\n",
       "      <td>3923.0</td>\n",
       "      <td>36138.0</td>\n",
       "      <td>0.0</td>\n",
       "      <td>0.000000</td>\n",
       "      <td>515700.0</td>\n",
       "      <td>4.5</td>\n",
       "      <td>0.0</td>\n",
       "    </tr>\n",
       "    <tr>\n",
       "      <th>430184</th>\n",
       "      <td>3923.0</td>\n",
       "      <td>19525.0</td>\n",
       "      <td>0.0</td>\n",
       "      <td>0.000000</td>\n",
       "      <td>171900.0</td>\n",
       "      <td>1.0</td>\n",
       "      <td>1.0</td>\n",
       "    </tr>\n",
       "  </tbody>\n",
       "</table>\n",
       "<p>436190 rows × 7 columns</p>\n",
       "</div>"
      ],
      "text/plain": [
       "        lender_id  loan_id  var1         var2       var3  var4  var5\n",
       "0           814.0  19445.0   0.0    11.481559     2150.0   0.0   0.0\n",
       "1           275.0   3498.0   1.0   169.902786    11088.0   0.0   0.0\n",
       "2          3096.0  60530.0   1.0     7.044008     2823.0   0.0   0.0\n",
       "3          3813.0  71810.0   0.0     1.056799    28242.0   0.0   0.0\n",
       "4            60.0    456.0   0.0     3.011763     1764.0   0.0   0.0\n",
       "...           ...      ...   ...          ...        ...   ...   ...\n",
       "430180     3278.0  36138.0   0.0   174.711655  1337778.0   0.0   0.0\n",
       "430181      697.0  19525.0   0.0  1279.236694   772416.0   0.0   0.0\n",
       "430182      697.0  36138.0   0.0  1279.236694  2317248.0   0.0   0.0\n",
       "430183     3923.0  36138.0   0.0     0.000000   515700.0   4.5   0.0\n",
       "430184     3923.0  19525.0   0.0     0.000000   171900.0   1.0   1.0\n",
       "\n",
       "[436190 rows x 7 columns]"
      ]
     },
     "execution_count": 357,
     "metadata": {},
     "output_type": "execute_result"
    }
   ],
   "source": [
    "df_total = df_matched.append(df_unmatched)\n",
    "df_total"
   ]
  },
  {
   "cell_type": "code",
   "execution_count": 354,
   "metadata": {},
   "outputs": [
    {
     "data": {
      "text/plain": [
       "array([  1.        ,  -4.47262905,  36.31679535, -41.54346339,\n",
       "        88.40841153])"
      ]
     },
     "execution_count": 354,
     "metadata": {},
     "output_type": "execute_result"
    }
   ],
   "source": [
    "beta = result.x\n",
    "beta"
   ]
  },
  {
   "cell_type": "code",
   "execution_count": 317,
   "metadata": {},
   "outputs": [
    {
     "data": {
      "text/html": [
       "<div>\n",
       "<style scoped>\n",
       "    .dataframe tbody tr th:only-of-type {\n",
       "        vertical-align: middle;\n",
       "    }\n",
       "\n",
       "    .dataframe tbody tr th {\n",
       "        vertical-align: top;\n",
       "    }\n",
       "\n",
       "    .dataframe thead th {\n",
       "        text-align: right;\n",
       "    }\n",
       "</style>\n",
       "<table border=\"1\" class=\"dataframe\">\n",
       "  <thead>\n",
       "    <tr style=\"text-align: right;\">\n",
       "      <th></th>\n",
       "      <th>lender_id</th>\n",
       "      <th>loan_id</th>\n",
       "      <th>var1</th>\n",
       "      <th>var2</th>\n",
       "      <th>var3</th>\n",
       "      <th>var4</th>\n",
       "      <th>var5</th>\n",
       "      <th>matching_value</th>\n",
       "    </tr>\n",
       "  </thead>\n",
       "  <tbody>\n",
       "    <tr>\n",
       "      <th>0</th>\n",
       "      <td>814.0</td>\n",
       "      <td>19445.0</td>\n",
       "      <td>0.0</td>\n",
       "      <td>11.481559</td>\n",
       "      <td>2150.0</td>\n",
       "      <td>0.0</td>\n",
       "      <td>0.0</td>\n",
       "      <td>7.802976e+04</td>\n",
       "    </tr>\n",
       "    <tr>\n",
       "      <th>1</th>\n",
       "      <td>275.0</td>\n",
       "      <td>3498.0</td>\n",
       "      <td>1.0</td>\n",
       "      <td>169.902786</td>\n",
       "      <td>11088.0</td>\n",
       "      <td>0.0</td>\n",
       "      <td>0.0</td>\n",
       "      <td>4.019217e+05</td>\n",
       "    </tr>\n",
       "    <tr>\n",
       "      <th>2</th>\n",
       "      <td>3096.0</td>\n",
       "      <td>60530.0</td>\n",
       "      <td>1.0</td>\n",
       "      <td>7.044008</td>\n",
       "      <td>2823.0</td>\n",
       "      <td>0.0</td>\n",
       "      <td>0.0</td>\n",
       "      <td>1.024918e+05</td>\n",
       "    </tr>\n",
       "    <tr>\n",
       "      <th>3</th>\n",
       "      <td>3813.0</td>\n",
       "      <td>71810.0</td>\n",
       "      <td>0.0</td>\n",
       "      <td>1.056799</td>\n",
       "      <td>28242.0</td>\n",
       "      <td>0.0</td>\n",
       "      <td>0.0</td>\n",
       "      <td>1.025654e+06</td>\n",
       "    </tr>\n",
       "    <tr>\n",
       "      <th>4</th>\n",
       "      <td>60.0</td>\n",
       "      <td>456.0</td>\n",
       "      <td>0.0</td>\n",
       "      <td>3.011763</td>\n",
       "      <td>1764.0</td>\n",
       "      <td>0.0</td>\n",
       "      <td>0.0</td>\n",
       "      <td>6.404936e+04</td>\n",
       "    </tr>\n",
       "    <tr>\n",
       "      <th>...</th>\n",
       "      <td>...</td>\n",
       "      <td>...</td>\n",
       "      <td>...</td>\n",
       "      <td>...</td>\n",
       "      <td>...</td>\n",
       "      <td>...</td>\n",
       "      <td>...</td>\n",
       "      <td>...</td>\n",
       "    </tr>\n",
       "    <tr>\n",
       "      <th>430180</th>\n",
       "      <td>3278.0</td>\n",
       "      <td>36138.0</td>\n",
       "      <td>0.0</td>\n",
       "      <td>174.711655</td>\n",
       "      <td>1337778.0</td>\n",
       "      <td>0.0</td>\n",
       "      <td>0.0</td>\n",
       "      <td>4.858303e+07</td>\n",
       "    </tr>\n",
       "    <tr>\n",
       "      <th>430181</th>\n",
       "      <td>697.0</td>\n",
       "      <td>19525.0</td>\n",
       "      <td>0.0</td>\n",
       "      <td>1279.236694</td>\n",
       "      <td>772416.0</td>\n",
       "      <td>0.0</td>\n",
       "      <td>0.0</td>\n",
       "      <td>2.804595e+07</td>\n",
       "    </tr>\n",
       "    <tr>\n",
       "      <th>430182</th>\n",
       "      <td>697.0</td>\n",
       "      <td>36138.0</td>\n",
       "      <td>0.0</td>\n",
       "      <td>1279.236694</td>\n",
       "      <td>2317248.0</td>\n",
       "      <td>0.0</td>\n",
       "      <td>0.0</td>\n",
       "      <td>8.414930e+07</td>\n",
       "    </tr>\n",
       "    <tr>\n",
       "      <th>430183</th>\n",
       "      <td>3923.0</td>\n",
       "      <td>36138.0</td>\n",
       "      <td>0.0</td>\n",
       "      <td>0.000000</td>\n",
       "      <td>515700.0</td>\n",
       "      <td>4.5</td>\n",
       "      <td>0.0</td>\n",
       "      <td>1.872838e+07</td>\n",
       "    </tr>\n",
       "    <tr>\n",
       "      <th>430184</th>\n",
       "      <td>3923.0</td>\n",
       "      <td>19525.0</td>\n",
       "      <td>0.0</td>\n",
       "      <td>0.000000</td>\n",
       "      <td>171900.0</td>\n",
       "      <td>1.0</td>\n",
       "      <td>1.0</td>\n",
       "      <td>6.242904e+06</td>\n",
       "    </tr>\n",
       "  </tbody>\n",
       "</table>\n",
       "<p>436190 rows × 8 columns</p>\n",
       "</div>"
      ],
      "text/plain": [
       "        lender_id  loan_id  var1         var2       var3  var4  var5  \\\n",
       "0           814.0  19445.0   0.0    11.481559     2150.0   0.0   0.0   \n",
       "1           275.0   3498.0   1.0   169.902786    11088.0   0.0   0.0   \n",
       "2          3096.0  60530.0   1.0     7.044008     2823.0   0.0   0.0   \n",
       "3          3813.0  71810.0   0.0     1.056799    28242.0   0.0   0.0   \n",
       "4            60.0    456.0   0.0     3.011763     1764.0   0.0   0.0   \n",
       "...           ...      ...   ...          ...        ...   ...   ...   \n",
       "430180     3278.0  36138.0   0.0   174.711655  1337778.0   0.0   0.0   \n",
       "430181      697.0  19525.0   0.0  1279.236694   772416.0   0.0   0.0   \n",
       "430182      697.0  36138.0   0.0  1279.236694  2317248.0   0.0   0.0   \n",
       "430183     3923.0  36138.0   0.0     0.000000   515700.0   4.5   0.0   \n",
       "430184     3923.0  19525.0   0.0     0.000000   171900.0   1.0   1.0   \n",
       "\n",
       "        matching_value  \n",
       "0         7.802976e+04  \n",
       "1         4.019217e+05  \n",
       "2         1.024918e+05  \n",
       "3         1.025654e+06  \n",
       "4         6.404936e+04  \n",
       "...                ...  \n",
       "430180    4.858303e+07  \n",
       "430181    2.804595e+07  \n",
       "430182    8.414930e+07  \n",
       "430183    1.872838e+07  \n",
       "430184    6.242904e+06  \n",
       "\n",
       "[436190 rows x 8 columns]"
      ]
     },
     "execution_count": 317,
     "metadata": {},
     "output_type": "execute_result"
    }
   ],
   "source": [
    "df_total[\"matching_value\"] = df_total.iloc[:,2:].dot(beta)\n",
    "df_total"
   ]
  },
  {
   "cell_type": "code",
   "execution_count": 348,
   "metadata": {},
   "outputs": [
    {
     "name": "stdout",
     "output_type": "stream",
     "text": [
      "0.07610324729392173\n"
     ]
    }
   ],
   "source": [
    "s = 0\n",
    "for i in df_quota.index:\n",
    "    quota = int(df_quota.loc[i])\n",
    "    id_sorted = df_total[df_total[\"lender_id\"] == i].sort_values(by = \"matching_value\")[0:quota][\"loan_id\"]\n",
    "    s = s + sum(df_matched[df_matched[\"lender_id\"] == i][\"loan_id\"].isin(id_sorted))\n",
    "print(s/df_matched.shape[0])"
   ]
  },
  {
   "cell_type": "code",
   "execution_count": null,
   "metadata": {},
   "outputs": [],
   "source": []
  }
 ],
 "metadata": {
  "kernelspec": {
   "display_name": "Python 3",
   "language": "python",
   "name": "python3"
  },
  "language_info": {
   "codemirror_mode": {
    "name": "ipython",
    "version": 3
   },
   "file_extension": ".py",
   "mimetype": "text/x-python",
   "name": "python",
   "nbconvert_exporter": "python",
   "pygments_lexer": "ipython3",
   "version": "3.7.9"
  }
 },
 "nbformat": 4,
 "nbformat_minor": 4
}
