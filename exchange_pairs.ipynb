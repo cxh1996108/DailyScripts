{
 "cells": [
  {
   "cell_type": "markdown",
   "metadata": {},
   "source": [
    "# Step 1: Exchange pairs"
   ]
  },
  {
   "cell_type": "code",
   "execution_count": 25,
   "metadata": {},
   "outputs": [],
   "source": [
    "import numpy as np\n",
    "import pandas as pd\n",
    "import matplotlib.pyplot as plt\n",
    "from scipy.optimize import differential_evolution\n",
    "import time"
   ]
  },
  {
   "cell_type": "code",
   "execution_count": 124,
   "metadata": {},
   "outputs": [
    {
     "data": {
      "text/html": [
       "<div>\n",
       "<style scoped>\n",
       "    .dataframe tbody tr th:only-of-type {\n",
       "        vertical-align: middle;\n",
       "    }\n",
       "\n",
       "    .dataframe tbody tr th {\n",
       "        vertical-align: top;\n",
       "    }\n",
       "\n",
       "    .dataframe thead th {\n",
       "        text-align: right;\n",
       "    }\n",
       "</style>\n",
       "<table border=\"1\" class=\"dataframe\">\n",
       "  <thead>\n",
       "    <tr style=\"text-align: right;\">\n",
       "      <th></th>\n",
       "      <th>value1</th>\n",
       "      <th>value2</th>\n",
       "      <th>value3</th>\n",
       "      <th>value4</th>\n",
       "      <th>value5</th>\n",
       "    </tr>\n",
       "  </thead>\n",
       "  <tbody>\n",
       "    <tr>\n",
       "      <th>0</th>\n",
       "      <td>1.0</td>\n",
       "      <td>-128.862122</td>\n",
       "      <td>95195504.0</td>\n",
       "      <td>0.000000</td>\n",
       "      <td>0.0</td>\n",
       "    </tr>\n",
       "    <tr>\n",
       "      <th>1</th>\n",
       "      <td>1.0</td>\n",
       "      <td>-123.937958</td>\n",
       "      <td>96773328.0</td>\n",
       "      <td>0.000000</td>\n",
       "      <td>0.0</td>\n",
       "    </tr>\n",
       "    <tr>\n",
       "      <th>2</th>\n",
       "      <td>0.0</td>\n",
       "      <td>94.940582</td>\n",
       "      <td>97036304.0</td>\n",
       "      <td>0.000000</td>\n",
       "      <td>0.0</td>\n",
       "    </tr>\n",
       "    <tr>\n",
       "      <th>3</th>\n",
       "      <td>0.0</td>\n",
       "      <td>-97.312332</td>\n",
       "      <td>23914.0</td>\n",
       "      <td>3.413793</td>\n",
       "      <td>0.0</td>\n",
       "    </tr>\n",
       "    <tr>\n",
       "      <th>4</th>\n",
       "      <td>0.0</td>\n",
       "      <td>-97.312332</td>\n",
       "      <td>0.0</td>\n",
       "      <td>0.413793</td>\n",
       "      <td>1.0</td>\n",
       "    </tr>\n",
       "    <tr>\n",
       "      <th>...</th>\n",
       "      <td>...</td>\n",
       "      <td>...</td>\n",
       "      <td>...</td>\n",
       "      <td>...</td>\n",
       "      <td>...</td>\n",
       "    </tr>\n",
       "    <tr>\n",
       "      <th>11222911</th>\n",
       "      <td>0.0</td>\n",
       "      <td>-163.896729</td>\n",
       "      <td>-27316.0</td>\n",
       "      <td>2.000000</td>\n",
       "      <td>-1.0</td>\n",
       "    </tr>\n",
       "    <tr>\n",
       "      <th>11222912</th>\n",
       "      <td>0.0</td>\n",
       "      <td>-163.896729</td>\n",
       "      <td>109264.0</td>\n",
       "      <td>2.600000</td>\n",
       "      <td>-1.0</td>\n",
       "    </tr>\n",
       "    <tr>\n",
       "      <th>11222913</th>\n",
       "      <td>0.0</td>\n",
       "      <td>-152.651489</td>\n",
       "      <td>-54632.0</td>\n",
       "      <td>3.000000</td>\n",
       "      <td>0.0</td>\n",
       "    </tr>\n",
       "    <tr>\n",
       "      <th>11222914</th>\n",
       "      <td>0.0</td>\n",
       "      <td>-31.092916</td>\n",
       "      <td>-109264.0</td>\n",
       "      <td>4.000000</td>\n",
       "      <td>-1.0</td>\n",
       "    </tr>\n",
       "    <tr>\n",
       "      <th>11222915</th>\n",
       "      <td>0.0</td>\n",
       "      <td>-24.015055</td>\n",
       "      <td>0.0</td>\n",
       "      <td>3.600000</td>\n",
       "      <td>-1.0</td>\n",
       "    </tr>\n",
       "  </tbody>\n",
       "</table>\n",
       "<p>11222916 rows × 5 columns</p>\n",
       "</div>"
      ],
      "text/plain": [
       "          value1      value2      value3    value4  value5\n",
       "0            1.0 -128.862122  95195504.0  0.000000     0.0\n",
       "1            1.0 -123.937958  96773328.0  0.000000     0.0\n",
       "2            0.0   94.940582  97036304.0  0.000000     0.0\n",
       "3            0.0  -97.312332     23914.0  3.413793     0.0\n",
       "4            0.0  -97.312332         0.0  0.413793     1.0\n",
       "...          ...         ...         ...       ...     ...\n",
       "11222911     0.0 -163.896729    -27316.0  2.000000    -1.0\n",
       "11222912     0.0 -163.896729    109264.0  2.600000    -1.0\n",
       "11222913     0.0 -152.651489    -54632.0  3.000000     0.0\n",
       "11222914     0.0  -31.092916   -109264.0  4.000000    -1.0\n",
       "11222915     0.0  -24.015055         0.0  3.600000    -1.0\n",
       "\n",
       "[11222916 rows x 5 columns]"
      ]
     },
     "execution_count": 124,
     "metadata": {},
     "output_type": "execute_result"
    }
   ],
   "source": [
    "df_matched = pd.read_stata('sample_matched_NY.dta')\n",
    "df_unmatched = pd.read_stata('sample_unmatched_NY.dta')\n",
    "\n",
    "'''\n",
    "df_matched = pd.read_stata('test_sample_matched.dta')\n",
    "df_unmatched = pd.read_stata('sample_unmatched.dta')\n",
    "'''\n",
    "def Exchange_pairs(df_matched, df_unmatched):\n",
    "    # t1 = time.time()\n",
    "    \n",
    "    df_matched_column = df_matched.columns\n",
    "    df_matched.columns = df_matched_column + '1m'\n",
    "    df_unmatched.columns = df_unmatched.columns.str.replace('lender_id', 'lender_id1m')\n",
    "    df1 = pd.merge(df_matched, df_unmatched, on = 'lender_id1m', how = 'inner')\n",
    "    \n",
    "    l = df1.columns[:-6].append([df1.columns[-6:] + '1um'])\n",
    "    df1.columns = l\n",
    "    df_matched.columns = df_matched_column\n",
    "    df2 = pd.merge(df_matched, df1, left_on = 'loan_id', right_on = 'loan_id1um', how = 'inner') \n",
    "    \n",
    "    ll = (df2.columns[:7]+'2m').append(df2.columns[7:])\n",
    "    df2.columns = ll\n",
    "    df_unmatched.columns = df_unmatched.columns.str.replace('lender_id1m', 'lender_id')\n",
    "    df3 = pd.merge(df_unmatched, df2, left_on = ['lender_id','loan_id'], right_on = ['lender_id2m','loan_id1m'], how = 'inner')\n",
    "    lll = (df3.columns[:7]+'2um').append(df3.columns[7:])\n",
    "    df3.columns = lll\n",
    "    \n",
    "    df_keep = pd.DataFrame()\n",
    "    for i in range(1, 6):\n",
    "        name = \"value\" + str(i)\n",
    "        df_keep[name] = df3[\"var\"+str(i)+\"1m\"] + df3[\"var\"+str(i)+\"2m\"] - df3[\"var\"+str(i)+\"1um\"] - df3[\"var\"+str(i)+\"2um\"]\n",
    "    # t2 = time.time()\n",
    "    # print(\"Running time: \", t2-t1)\n",
    "    return df_keep\n",
    "df_keep = Exchange_pairs(df_matched, df_unmatched)\n",
    "df_keep"
   ]
  },
  {
   "cell_type": "markdown",
   "metadata": {},
   "source": [
    "# Step 2: Define objective function "
   ]
  },
  {
   "cell_type": "markdown",
   "metadata": {},
   "source": [
    "Step 2: Define objective function -- (P15 equation 7 in Fox (2018) or P818 equation 4 in Schwert (2018) )\n",
    "define a function that calculates the score of the matching model for given parameters\n",
    "i.e. count how many inequalities are satisfied under given parameters \n",
    "objective function (score) =sum of 1(inequalities satisfied), where\n",
    "$$Inequalities = beta \\times value \\geqslant 0$$\n",
    "$\\beta$ is the parameter vector\n",
    "Value vector for a given data point (i.e. value 1-6 for a given data point)\n",
    "Hint: apply (multiply) the parameter vector to the data matrix (transposed) and then count the non-negative values"
   ]
  },
  {
   "cell_type": "markdown",
   "metadata": {},
   "source": [
    "The objective function $$Q(\\beta) = \\Sigma \\mathbb{1}[X_{N\\times 6}\\beta_{6\\times 1}]$$"
   ]
  },
  {
   "cell_type": "markdown",
   "metadata": {},
   "source": [
    "# Step 3: Differential Evolution"
   ]
  },
  {
   "cell_type": "code",
   "execution_count": 64,
   "metadata": {},
   "outputs": [],
   "source": [
    "# use differential_evolution in scipy.optimize to find the parameters than maximize the score calculated in step 2\n",
    "# Reference\n",
    "# https://docs.scipy.org/doc/scipy/reference/generated/scipy.optimize.differential_evolution.html\n",
    "# https://pablormier.github.io/2017/09/05/a-tutorial-on-differential-evolution-with-python/"
   ]
  },
  {
   "cell_type": "code",
   "execution_count": 18,
   "metadata": {},
   "outputs": [
    {
     "data": {
      "text/html": [
       "<div>\n",
       "<style scoped>\n",
       "    .dataframe tbody tr th:only-of-type {\n",
       "        vertical-align: middle;\n",
       "    }\n",
       "\n",
       "    .dataframe tbody tr th {\n",
       "        vertical-align: top;\n",
       "    }\n",
       "\n",
       "    .dataframe thead th {\n",
       "        text-align: right;\n",
       "    }\n",
       "</style>\n",
       "<table border=\"1\" class=\"dataframe\">\n",
       "  <thead>\n",
       "    <tr style=\"text-align: right;\">\n",
       "      <th></th>\n",
       "      <th>value1</th>\n",
       "      <th>value2</th>\n",
       "      <th>value3</th>\n",
       "      <th>value4</th>\n",
       "      <th>value5</th>\n",
       "    </tr>\n",
       "  </thead>\n",
       "  <tbody>\n",
       "    <tr>\n",
       "      <th>0</th>\n",
       "      <td>1.0</td>\n",
       "      <td>-128.862122</td>\n",
       "      <td>95195504.0</td>\n",
       "      <td>0.000000</td>\n",
       "      <td>0.0</td>\n",
       "    </tr>\n",
       "    <tr>\n",
       "      <th>1</th>\n",
       "      <td>1.0</td>\n",
       "      <td>-123.937958</td>\n",
       "      <td>96773328.0</td>\n",
       "      <td>0.000000</td>\n",
       "      <td>0.0</td>\n",
       "    </tr>\n",
       "    <tr>\n",
       "      <th>2</th>\n",
       "      <td>0.0</td>\n",
       "      <td>94.940582</td>\n",
       "      <td>97036304.0</td>\n",
       "      <td>0.000000</td>\n",
       "      <td>0.0</td>\n",
       "    </tr>\n",
       "    <tr>\n",
       "      <th>3</th>\n",
       "      <td>0.0</td>\n",
       "      <td>-97.312332</td>\n",
       "      <td>23914.0</td>\n",
       "      <td>3.413793</td>\n",
       "      <td>0.0</td>\n",
       "    </tr>\n",
       "    <tr>\n",
       "      <th>4</th>\n",
       "      <td>0.0</td>\n",
       "      <td>-97.312332</td>\n",
       "      <td>0.0</td>\n",
       "      <td>0.413793</td>\n",
       "      <td>1.0</td>\n",
       "    </tr>\n",
       "  </tbody>\n",
       "</table>\n",
       "</div>"
      ],
      "text/plain": [
       "   value1      value2      value3    value4  value5\n",
       "0     1.0 -128.862122  95195504.0  0.000000     0.0\n",
       "1     1.0 -123.937958  96773328.0  0.000000     0.0\n",
       "2     0.0   94.940582  97036304.0  0.000000     0.0\n",
       "3     0.0  -97.312332     23914.0  3.413793     0.0\n",
       "4     0.0  -97.312332         0.0  0.413793     1.0"
      ]
     },
     "execution_count": 18,
     "metadata": {},
     "output_type": "execute_result"
    }
   ],
   "source": [
    "df_test = df_keep.iloc[: 5, :]\n",
    "df_test"
   ]
  },
  {
   "cell_type": "code",
   "execution_count": 161,
   "metadata": {},
   "outputs": [],
   "source": [
    "# 1. When input, make sure df contains all the values you need\n",
    "# 2. specify df = X in def objectfunc(beta, df = df_test) before you run differential_evolution\n",
    "def objectfunc(beta, df = df_keep):\n",
    "    '''\n",
    "    num = df.shape[1] # This is the num of Parameters( dimension of beta)\n",
    "    obj = 0\n",
    "    for i in range(0, num):\n",
    "        obj = obj + np.array(df.iloc[:, i]) * beta[i]\n",
    "        # print(obj)\n",
    "    return -sum(obj >= 0)\n",
    "    '''\n",
    "    return -sum(df.dot(beta) >=0 )"
   ]
  },
  {
   "cell_type": "code",
   "execution_count": 162,
   "metadata": {},
   "outputs": [
    {
     "data": {
      "text/plain": [
       "-5908089"
      ]
     },
     "execution_count": 162,
     "metadata": {},
     "output_type": "execute_result"
    }
   ],
   "source": [
    "# This is a test for debugging\n",
    "beta = np.array([1, 2, 3, 4, 5])\n",
    "obj = objectfunc(beta, df_keep)\n",
    "obj"
   ]
  },
  {
   "cell_type": "code",
   "execution_count": 163,
   "metadata": {},
   "outputs": [
    {
     "data": {
      "text/plain": [
       "-4"
      ]
     },
     "execution_count": 163,
     "metadata": {},
     "output_type": "execute_result"
    }
   ],
   "source": [
    "# This is a test for debugging\n",
    "beta = np.array([1, 2, 3, 4, 5])\n",
    "obj = objectfunc(beta, df_test)\n",
    "obj"
   ]
  },
  {
   "cell_type": "code",
   "execution_count": 115,
   "metadata": {},
   "outputs": [
    {
     "name": "stdout",
     "output_type": "stream",
     "text": [
      "     fun: 0.0\n",
      " message: 'Optimization terminated successfully.'\n",
      "    nfev: 606\n",
      "     nit: 7\n",
      " success: True\n",
      "       x: array([  1.        ,  52.72167492, -88.99536062,  15.67398543,\n",
      "        27.12052265])\n",
      "Running time:  0.19236969947814941\n"
     ]
    }
   ],
   "source": [
    "# specify bounds of every parameters\n",
    "'''\n",
    "num = df_test.shape[0]\n",
    "num = df_test.shape[0]\n",
    "bounds = [(-100, 100)] * num\n",
    "'''\n",
    "t1 = time.time()\n",
    "bounds = [(1, 1.000000001), (-100, 100), (-100, 100), (-100, 100), (-100, 100)]\n",
    "result = differential_evolution(objectfunc, bounds)\n",
    "print(result)\n",
    "t2 = time.time()\n",
    "print(\"Running time: \", t2-t1)"
   ]
  },
  {
   "cell_type": "markdown",
   "metadata": {},
   "source": [
    "# Step 4: Use subsampling to construct confidence intervals"
   ]
  },
  {
   "cell_type": "markdown",
   "metadata": {},
   "source": [
    "The idea is to select some random subsamples (100-200) that mimics the original sample and re-do the step1-3 and get another estimated parameter. Then calculate the 5% and 95% percentile of the 100 (200) parameters.\n",
    "To mimic the original sample, we choose the subsample for fixed share for each state."
   ]
  },
  {
   "cell_type": "code",
   "execution_count": 122,
   "metadata": {},
   "outputs": [],
   "source": [
    "# The random sampling ratio = 10% here\n",
    "def Subsample(df, ratio):\n",
    "    # t1 = time.time()\n",
    "    df_sample = df.loc[np.random.choice(df.index, round(len(df) * ratio), replace = False)]\n",
    "    # t2 = time.time()\n",
    "    # print(\"Running time: \", t2-t1)\n",
    "    return df_sample\n",
    "df_matched_sample = Subsample(df_matched, 0.1)\n",
    "df_unmatched_sample = Subsample(df_unmatched, 0.1)"
   ]
  },
  {
   "cell_type": "code",
   "execution_count": 148,
   "metadata": {},
   "outputs": [
    {
     "name": "stdout",
     "output_type": "stream",
     "text": [
      "Simulation time:  54.844584465026855\n"
     ]
    },
    {
     "data": {
      "text/html": [
       "<div>\n",
       "<style scoped>\n",
       "    .dataframe tbody tr th:only-of-type {\n",
       "        vertical-align: middle;\n",
       "    }\n",
       "\n",
       "    .dataframe tbody tr th {\n",
       "        vertical-align: top;\n",
       "    }\n",
       "\n",
       "    .dataframe thead th {\n",
       "        text-align: right;\n",
       "    }\n",
       "</style>\n",
       "<table border=\"1\" class=\"dataframe\">\n",
       "  <thead>\n",
       "    <tr style=\"text-align: right;\">\n",
       "      <th></th>\n",
       "      <th>0</th>\n",
       "      <th>1</th>\n",
       "      <th>2</th>\n",
       "      <th>3</th>\n",
       "      <th>4</th>\n",
       "    </tr>\n",
       "  </thead>\n",
       "  <tbody>\n",
       "    <tr>\n",
       "      <th>0</th>\n",
       "      <td>1.0</td>\n",
       "      <td>97.282217</td>\n",
       "      <td>-50.369656</td>\n",
       "      <td>47.810394</td>\n",
       "      <td>-22.267439</td>\n",
       "    </tr>\n",
       "    <tr>\n",
       "      <th>1</th>\n",
       "      <td>1.0</td>\n",
       "      <td>8.647756</td>\n",
       "      <td>-10.767369</td>\n",
       "      <td>4.020486</td>\n",
       "      <td>33.549854</td>\n",
       "    </tr>\n",
       "    <tr>\n",
       "      <th>2</th>\n",
       "      <td>1.0</td>\n",
       "      <td>46.918643</td>\n",
       "      <td>-5.801916</td>\n",
       "      <td>-21.076612</td>\n",
       "      <td>42.511858</td>\n",
       "    </tr>\n",
       "    <tr>\n",
       "      <th>3</th>\n",
       "      <td>1.0</td>\n",
       "      <td>77.949363</td>\n",
       "      <td>-26.799431</td>\n",
       "      <td>-19.884129</td>\n",
       "      <td>64.419495</td>\n",
       "    </tr>\n",
       "    <tr>\n",
       "      <th>4</th>\n",
       "      <td>1.0</td>\n",
       "      <td>69.911933</td>\n",
       "      <td>-73.676332</td>\n",
       "      <td>22.729545</td>\n",
       "      <td>-16.535253</td>\n",
       "    </tr>\n",
       "    <tr>\n",
       "      <th>...</th>\n",
       "      <td>...</td>\n",
       "      <td>...</td>\n",
       "      <td>...</td>\n",
       "      <td>...</td>\n",
       "      <td>...</td>\n",
       "    </tr>\n",
       "    <tr>\n",
       "      <th>195</th>\n",
       "      <td>1.0</td>\n",
       "      <td>52.989474</td>\n",
       "      <td>-52.396316</td>\n",
       "      <td>6.188839</td>\n",
       "      <td>97.536375</td>\n",
       "    </tr>\n",
       "    <tr>\n",
       "      <th>196</th>\n",
       "      <td>1.0</td>\n",
       "      <td>42.337933</td>\n",
       "      <td>-45.487276</td>\n",
       "      <td>13.210631</td>\n",
       "      <td>-12.301303</td>\n",
       "    </tr>\n",
       "    <tr>\n",
       "      <th>197</th>\n",
       "      <td>1.0</td>\n",
       "      <td>85.400034</td>\n",
       "      <td>-22.133411</td>\n",
       "      <td>-65.623209</td>\n",
       "      <td>92.908057</td>\n",
       "    </tr>\n",
       "    <tr>\n",
       "      <th>198</th>\n",
       "      <td>1.0</td>\n",
       "      <td>51.272742</td>\n",
       "      <td>-45.118289</td>\n",
       "      <td>34.067582</td>\n",
       "      <td>-96.971592</td>\n",
       "    </tr>\n",
       "    <tr>\n",
       "      <th>199</th>\n",
       "      <td>1.0</td>\n",
       "      <td>35.815156</td>\n",
       "      <td>-49.459681</td>\n",
       "      <td>-49.837820</td>\n",
       "      <td>23.667256</td>\n",
       "    </tr>\n",
       "  </tbody>\n",
       "</table>\n",
       "<p>200 rows × 5 columns</p>\n",
       "</div>"
      ],
      "text/plain": [
       "       0          1          2          3          4\n",
       "0    1.0  97.282217 -50.369656  47.810394 -22.267439\n",
       "1    1.0   8.647756 -10.767369   4.020486  33.549854\n",
       "2    1.0  46.918643  -5.801916 -21.076612  42.511858\n",
       "3    1.0  77.949363 -26.799431 -19.884129  64.419495\n",
       "4    1.0  69.911933 -73.676332  22.729545 -16.535253\n",
       "..   ...        ...        ...        ...        ...\n",
       "195  1.0  52.989474 -52.396316   6.188839  97.536375\n",
       "196  1.0  42.337933 -45.487276  13.210631 -12.301303\n",
       "197  1.0  85.400034 -22.133411 -65.623209  92.908057\n",
       "198  1.0  51.272742 -45.118289  34.067582 -96.971592\n",
       "199  1.0  35.815156 -49.459681 -49.837820  23.667256\n",
       "\n",
       "[200 rows x 5 columns]"
      ]
     },
     "execution_count": 148,
     "metadata": {},
     "output_type": "execute_result"
    }
   ],
   "source": [
    "# num is the # of random samples(or the # of simulations)\n",
    "# ratio is the random sampling ratio, which is 10% here\n",
    "def Simulation(num, ratio, df_matched, df_unmatched):\n",
    "    df_result = pd.DataFrame()\n",
    "    for i in range(0, num):\n",
    "        df_matched_sample = Subsample(df_matched, ratio)\n",
    "        df_unmatched_sample = Subsample(df_unmatched, ratio)\n",
    "        df_keep = Exchange_pairs(df_matched_sample, df_unmatched_sample)\n",
    "        bounds = [(1, 1.000000001), (-100, 100), (-100, 100), (-100, 100), (-100, 100)] # fix beta_1 = 1\n",
    "        result = differential_evolution(objectfunc, bounds)\n",
    "        df_result = df_result.append(pd.Series(result.x), ignore_index = True)\n",
    "        \n",
    "    \n",
    "    return df_result\n",
    "\n",
    "\n",
    "t1 = time.time()\n",
    "df_result = Simulation(200, 0.1, df_matched, df_unmatched)\n",
    "t2 = time.time()\n",
    "print(\"Simulation time: \", t2-t1)\n",
    "df_result"
   ]
  },
  {
   "cell_type": "code",
   "execution_count": 160,
   "metadata": {},
   "outputs": [
    {
     "name": "stdout",
     "output_type": "stream",
     "text": [
      "The 5% quantile of parameters are\n",
      "0     1.000000\n",
      "1     6.783120\n",
      "2   -91.603813\n",
      "3   -74.832412\n",
      "4   -88.183530\n",
      "Name: 0.05, dtype: float64\n",
      "The 95% quantile of parameters are\n",
      "0     1.000000\n",
      "1    96.682176\n",
      "2    -6.704712\n",
      "3    87.780066\n",
      "4    84.220047\n",
      "Name: 0.95, dtype: float64\n"
     ]
    }
   ],
   "source": [
    "print(\"The 5% quantile of parameters are\")\n",
    "print(df_result.quantile(0.05))\n",
    "print(\"The 95% quantile of parameters are\")\n",
    "print(df_result.quantile(0.95))"
   ]
  },
  {
   "cell_type": "markdown",
   "metadata": {},
   "source": [
    "# Step 5: Model Fitness"
   ]
  },
  {
   "cell_type": "markdown",
   "metadata": {},
   "source": [
    "1) Number of inequalities satisfied: count how many inequalities are satisfied under the optimized parameter choice."
   ]
  },
  {
   "cell_type": "markdown",
   "metadata": {},
   "source": [
    "2) In sample prediction: assign firms to lenders according to the estimated value function and count how many of the observed (P820, footnote 51 – Schwert (2018))\n",
    "Target Output – Table IX X in Schwert (2018)"
   ]
  },
  {
   "cell_type": "code",
   "execution_count": null,
   "metadata": {},
   "outputs": [],
   "source": []
  }
 ],
 "metadata": {
  "kernelspec": {
   "display_name": "Python 3",
   "language": "python",
   "name": "python3"
  },
  "language_info": {
   "codemirror_mode": {
    "name": "ipython",
    "version": 3
   },
   "file_extension": ".py",
   "mimetype": "text/x-python",
   "name": "python",
   "nbconvert_exporter": "python",
   "pygments_lexer": "ipython3",
   "version": "3.7.9"
  }
 },
 "nbformat": 4,
 "nbformat_minor": 4
}
