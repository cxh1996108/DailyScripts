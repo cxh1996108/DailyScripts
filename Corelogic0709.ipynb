{
  "cells": [
    {
      "cell_type": "code",
      "execution_count": null,
      "metadata": {
        "id": "T8FE3F092wi-",
        "colab": {
          "base_uri": "https://localhost:8080/"
        },
        "outputId": "6b677322-38a3-41c6-9c71-b98ce171a6ff"
      },
      "outputs": [
        {
          "output_type": "stream",
          "name": "stdout",
          "text": [
            "Drive already mounted at /content/drive; to attempt to forcibly remount, call drive.mount(\"/content/drive\", force_remount=True).\n"
          ]
        }
      ],
      "source": [
        "# Setting Up the Enivronment\n",
        "import numpy as np\n",
        "import pandas as pd\n",
        "import torch\n",
        "import torch.nn as nn\n",
        "import torch.nn.functional as F\n",
        "import torch.optim as optim\n",
        "import matplotlib.pyplot as plt\n",
        "from sklearn import preprocessing\n",
        "import torch.utils.data as Data\n",
        "from sklearn import metrics\n",
        "import seaborn as sns\n",
        "import time\n",
        "from torch.nn.utils.rnn import pad_sequence, pack_sequence, pack_padded_sequence, pad_packed_sequence\n",
        "from torch.utils.data import Dataset, DataLoader\n",
        "from torch.optim.lr_scheduler import CosineAnnealingLR\n",
        "from google.colab import drive\n",
        "drive.mount('/content/drive')"
      ]
    },
    {
      "cell_type": "code",
      "execution_count": null,
      "metadata": {
        "colab": {
          "base_uri": "https://localhost:8080/"
        },
        "id": "UemjmoDJ2wi_",
        "outputId": "01bd2289-7513-4128-d169-cd0c30f5a937"
      },
      "outputs": [
        {
          "output_type": "stream",
          "name": "stdout",
          "text": [
            "\n",
            "CUDA availability:  False\n",
            "\n"
          ]
        }
      ],
      "source": [
        "# Whether GPU is available\n",
        "print('\\nCUDA availability:  %s\\n' % (torch.cuda.is_available()))\n",
        "device = torch.device('cuda:0' if torch.cuda.is_available() else 'cpu')\n",
        "\n",
        "t1 = time.time()"
      ]
    },
    {
      "cell_type": "markdown",
      "metadata": {
        "id": "Gmmt0V_i2wi_"
      },
      "source": [
        "1. match each house in the Tax data to any sales between 2010-2019 in the Deed data. \n",
        "2. restrict the sales data to arms-length transactions and remove all homes purchased by an owner with ‘LLC’ in the name, as they often involve purchases of many units that have sale prices corresponding to the total purchase rather than each unit. \n",
        "3. restrict to houses sold at prices between $10,000 and $25,000,000."
      ]
    },
    {
      "cell_type": "code",
      "execution_count": null,
      "metadata": {
        "colab": {
          "base_uri": "https://localhost:8080/"
        },
        "id": "UADsXr-J2wjF",
        "outputId": "90672515-9755-43dd-e3f3-c3aa65539640"
      },
      "outputs": [
        {
          "output_type": "stream",
          "name": "stderr",
          "text": [
            "/usr/local/lib/python3.7/dist-packages/IPython/core/interactiveshell.py:2882: DtypeWarning: Columns (1,11,12,19,33,35,36,38,39,40,44,50,57,105,106,107,112,114,115,143,145,146,147,160,165,166,176) have mixed types.Specify dtype option on import or set low_memory=False.\n",
            "  exec(code_obj, self.user_global_ns, self.user_ns)\n",
            "/usr/local/lib/python3.7/dist-packages/IPython/core/interactiveshell.py:2882: DtypeWarning: Columns (32,50,60,87,92) have mixed types.Specify dtype option on import or set low_memory=False.\n",
            "  exec(code_obj, self.user_global_ns, self.user_ns)\n"
          ]
        }
      ],
      "source": [
        "df_tax = pd.read_csv(\"/content/drive/MyDrive/Colab Notebooks/TAX_201906_VI.csv\")\n",
        "df_deed = pd.read_csv(\"/content/drive/MyDrive/Colab Notebooks/deed_201906_VI.csv\")"
      ]
    },
    {
      "cell_type": "code",
      "execution_count": null,
      "metadata": {
        "id": "DkZ5jNMi2wjF",
        "outputId": "ec4343f7-efce-4a2e-f3e7-beacd68519b6",
        "colab": {
          "base_uri": "https://localhost:8080/"
        }
      },
      "outputs": [
        {
          "output_type": "execute_result",
          "data": {
            "text/plain": [
              "{'ABSENTEE_OWNER_STATUS',\n",
              " 'BATCH_ID',\n",
              " 'BATCH_SEQ',\n",
              " 'DOCUMENT_TYPE',\n",
              " 'FIPS',\n",
              " 'LAND_USE',\n",
              " 'MORTGAGE_DATE',\n",
              " 'MORTGAGE_DEED_TYPE',\n",
              " 'MORTGAGE_DUE_DATE',\n",
              " 'MORTGAGE_LOAN_TYPE_CODE',\n",
              " 'MORTGAGE_TERM',\n",
              " 'MORTGAGE_TERM_CODE',\n",
              " 'OWNER_ETAL_INDICATOR',\n",
              " 'OWNER_RELATIONSHIP_TYPE',\n",
              " 'PROPERTY_INDICATOR',\n",
              " 'RESIDENTIAL_MODEL_INDICATOR',\n",
              " 'SALE_CODE',\n",
              " 'SITUS_CARRIER_CODE',\n",
              " 'SITUS_CITY',\n",
              " 'SITUS_DIRECTION',\n",
              " 'SITUS_HOUSE_NUMBER',\n",
              " 'SITUS_HOUSE_NUMBER_PREFIX',\n",
              " 'SITUS_HOUSE_NUMBER_SUFFIX',\n",
              " 'SITUS_MODE',\n",
              " 'SITUS_QUADRANT',\n",
              " 'SITUS_STATE',\n",
              " 'SITUS_STREET_NAME',\n",
              " 'SITUS_ZIP_CODE',\n",
              " 'TITLE_COMPANY_CODE',\n",
              " 'TITLE_COMPANY_NAME',\n",
              " 'TRANSACTION_TYPE'}"
            ]
          },
          "metadata": {},
          "execution_count": 44
        }
      ],
      "source": [
        "set(df_tax.columns) & set(df_deed.columns)"
      ]
    },
    {
      "cell_type": "code",
      "execution_count": null,
      "metadata": {
        "id": "UBx4WUZn2wjF",
        "outputId": "9a3ea80c-ed2d-4149-fb1f-e4de7dab39f1",
        "colab": {
          "base_uri": "https://localhost:8080/"
        }
      },
      "outputs": [
        {
          "output_type": "stream",
          "name": "stdout",
          "text": [
            "(75704, 178)\n",
            "(39122, 97)\n"
          ]
        }
      ],
      "source": [
        "print(df_tax.shape)\n",
        "print(df_deed.shape)"
      ]
    },
    {
      "cell_type": "code",
      "execution_count": null,
      "metadata": {
        "id": "ou7HpWvs2wjF",
        "colab": {
          "base_uri": "https://localhost:8080/"
        },
        "outputId": "d985d90f-98f0-4c00-8794-56b26fface3c"
      },
      "outputs": [
        {
          "output_type": "stream",
          "name": "stderr",
          "text": [
            "/usr/local/lib/python3.7/dist-packages/pandas/util/_decorators.py:311: SettingWithCopyWarning: \n",
            "A value is trying to be set on a copy of a slice from a DataFrame\n",
            "\n",
            "See the caveats in the documentation: https://pandas.pydata.org/pandas-docs/stable/user_guide/indexing.html#returning-a-view-versus-a-copy\n",
            "  return func(*args, **kwargs)\n"
          ]
        }
      ],
      "source": [
        "df_merge = pd.merge(df_deed, df_tax, how = \"left\", left_on = \"APN_UNFORMATTED\", right_on = \"UNFORMATTED_APN\")\n",
        "df_merge.dropna(subset = [\"APN_UNFORMATTED\"], inplace = True)\n",
        "df_merge = df_merge[~df_merge['OWNER_FULL_NAME'].str.contains('LLC')]\n",
        "df_merge.dropna(subset = [\"ASSD_TOTAL_VALUE\"], inplace = True)\n",
        "df_merge = df_merge[df_merge[\"ASSD_TOTAL_VALUE\"] >= 10000]\n",
        "df_merge = df_merge[df_merge[\"ASSD_TOTAL_VALUE\"] <= 25000000]"
      ]
    },
    {
      "cell_type": "markdown",
      "metadata": {
        "id": "rnhfgO_o2wjF"
      },
      "source": [
        "Codebook: Property Basic_v2 Residential.xlsx\n",
        "- Mainly consider highlighted values\n",
        "\n",
        "The Tax data include many characteristics of the property, including: \n",
        "- number of bedrooms and bathrooms: 'BEDROOMS'\n",
        "- living, garage, basement, and land square footage: 'LIVING_SQUARE_FEET', 'GARAGE', 'BASEMENT_SQUARE_FEET', 'LAND_SQUARE_FOOTAGE',\n",
        "- the style of the building, when it was built, and whether refurbished: 'STYLE', 'YEAR_BUILT', 'BLDG_IMPV_CODE', ('BLDG_CODE')\n",
        "- a measure of quality (e.g. ‘Fair’): 'QUALITY'\n",
        "- what type of view the property has (e.g., ‘Mountains’) and other ‘location influences’: 'VIEW'\n",
        "- whether the property has a pool: 'POOL'\n",
        "- the type of air conditioning, heating, fuel, framing, walls, sewage, water, roof, and floor; and the precise location: 'AIR_CONDITIONING', 'HEATING', 'FUEL', 'FRAME', 'EXTERIOR_WALLS', 'SEWER', 'WATER', 'ROOF_TYPE', 'FLOOR', 'LOCATION_INFLUENCE'\n",
        "\n",
        "\n",
        "Some of these variables are frequently missing – in all such cases, I replace the missing values with an indicator for missing data. \n",
        "- Here I will use -1 as an indicator for missing values.\n",
        "\n",
        "\n",
        "Discretize continuous variables such as living square footage into deciles.\n",
        "\n",
        "Labels:\n",
        "- TOTAL_VALUE_CALCULATED\n",
        "\n",
        "AlphaNumeric: 'STYLE', 'BLDG_IMPV_CODE', 'QUALITY', 'VIEW', 'AIR_CONDITIONING', 'HEATING', 'FUEL', 'FRAME', 'EXTERIOR_WALLS', 'SEWER', 'WATER', 'ROOF_TYPE', 'FLOOR', 'LOCATION_INFLUENCE'"
      ]
    },
    {
      "cell_type": "code",
      "execution_count": null,
      "metadata": {
        "id": "wWR4SBsG2wjG"
      },
      "outputs": [],
      "source": [
        "# Remember, don't add 'POOL' here.\n",
        "df_data = df_merge[['TOTAL_VALUE_CALCULATED', 'BEDROOMS', 'LIVING_SQUARE_FEET', 'GARAGE', 'BASEMENT_SQUARE_FEET', 'LAND_SQUARE_FOOTAGE', 'STYLE', 'YEAR_BUILT', 'BLDG_IMPV_CODE', 'QUALITY', 'VIEW', 'AIR_CONDITIONING', 'HEATING', 'FUEL', 'FRAME', 'EXTERIOR_WALLS', 'SEWER', 'WATER', 'ROOF_TYPE', 'FLOOR', 'LOCATION_INFLUENCE']]"
      ]
    },
    {
      "cell_type": "code",
      "execution_count": null,
      "metadata": {
        "id": "XajTKXKu2wjG",
        "outputId": "77b7105c-a4bb-43c3-94b7-200a2c40f263",
        "colab": {
          "base_uri": "https://localhost:8080/"
        }
      },
      "outputs": [
        {
          "output_type": "stream",
          "name": "stderr",
          "text": [
            "/usr/local/lib/python3.7/dist-packages/pandas/core/frame.py:3641: SettingWithCopyWarning: \n",
            "A value is trying to be set on a copy of a slice from a DataFrame.\n",
            "Try using .loc[row_indexer,col_indexer] = value instead\n",
            "\n",
            "See the caveats in the documentation: https://pandas.pydata.org/pandas-docs/stable/user_guide/indexing.html#returning-a-view-versus-a-copy\n",
            "  self[k1] = value[k2]\n"
          ]
        }
      ],
      "source": [
        "AlphaNumeric = ['STYLE', 'BLDG_IMPV_CODE', 'QUALITY', 'VIEW', 'AIR_CONDITIONING', 'HEATING', 'FUEL', 'FRAME', 'EXTERIOR_WALLS', 'SEWER', 'WATER', 'ROOF_TYPE', 'FLOOR', 'LOCATION_INFLUENCE']\n",
        "df_data[AlphaNumeric] = df_data[AlphaNumeric].fillna(\"-1\").astype(\"string\")\n",
        "df_data = df_data.fillna(-1)"
      ]
    },
    {
      "cell_type": "code",
      "execution_count": null,
      "metadata": {
        "id": "hZ9IMKBM2wjG"
      },
      "outputs": [],
      "source": [
        "# Transform all strings into values\n",
        "for col in AlphaNumeric:\n",
        "    labels = list(df_data[col].unique())\n",
        "    le = preprocessing.LabelEncoder()\n",
        "    le.fit_transform(labels)\n",
        "    df_data[col] = le.transform(df_data[col])"
      ]
    },
    {
      "cell_type": "code",
      "execution_count": null,
      "metadata": {
        "id": "N8jaaAPq2wjG",
        "outputId": "6a34aab1-79e9-4fe8-d35e-cf7d54ca40dd",
        "colab": {
          "base_uri": "https://localhost:8080/",
          "height": 283
        }
      },
      "outputs": [
        {
          "output_type": "execute_result",
          "data": {
            "text/plain": [
              "<matplotlib.axes._subplots.AxesSubplot at 0x7f9911d99710>"
            ]
          },
          "metadata": {},
          "execution_count": 50
        },
        {
          "output_type": "display_data",
          "data": {
            "text/plain": [
              "<Figure size 432x288 with 1 Axes>"
            ],
            "image/png": "[encoded data removed]"
          },
          "metadata": {
            "needs_background": "light"
          }
        }
      ],
      "source": [
        "df_data['LIVING_SQUARE_FEET'].dropna().plot()\n",
        "# pd.qcut(df['ext price'], q=4)"
      ]
    },
    {
      "cell_type": "markdown",
      "metadata": {
        "id": "uckxUjiW2wjG"
      },
      "source": [
        "For sale year, sale month, property type, decade built, decile of living square feet, and whether there is a pool, I encode the values using dummy variables. \n",
        "\n",
        "- Create \"SALE_YEAR\" and \"SALE_MONTH\"\n",
        "- BLDG_CODE: The primary building type (e.g., Bowling Alley, Supermarket).\n",
        "- Create \"DACADE_BUILT\"\n",
        "\n",
        "\"decile of living square feet\"\n",
        "\n",
        "- \"POOL\": whether there is a pool"
      ]
    },
    {
      "cell_type": "code",
      "execution_count": null,
      "metadata": {
        "id": "GwTXnutD2wjG"
      },
      "outputs": [],
      "source": [
        "df_merge[\"SALE_YEAR\"] = df_merge[\"SALE_DATE\"]//10000\n",
        "df_merge[\"SALE_MONTH\"] = df_merge[\"SALE_DATE\"]//100 - df_merge[\"SALE_YEAR\"]*100\n",
        "df_merge[\"DACADE_BUILT\"] = df_merge[\"YEAR_BUILT\"]//100"
      ]
    },
    {
      "cell_type": "code",
      "execution_count": null,
      "metadata": {
        "id": "DBuPbhJb2wjH"
      },
      "outputs": [],
      "source": [
        "df_data[['SALE_YEAR', 'SALE_MONTH', 'DACADE_BUILT', 'POOL']] = df_merge[['SALE_YEAR', 'SALE_MONTH', 'DACADE_BUILT', 'POOL']]"
      ]
    },
    {
      "cell_type": "code",
      "execution_count": null,
      "metadata": {
        "id": "VQ6p998e2wjH"
      },
      "outputs": [],
      "source": [
        "dummy = [\"SALE_YEAR\", \"SALE_MONTH\", \"DACADE_BUILT\", \"POOL\"]\n",
        "for col in dummy:\n",
        "    df_data[col] = df_data[col].fillna(col+\"-1\")"
      ]
    },
    {
      "cell_type": "code",
      "execution_count": null,
      "metadata": {
        "id": "7XqmZqOE2wjH"
      },
      "outputs": [],
      "source": [
        "for col in dummy:\n",
        "    df_data = df_data.join(pd.get_dummies(df_data[col]))"
      ]
    },
    {
      "cell_type": "code",
      "execution_count": null,
      "metadata": {
        "id": "jHHuyVlx2wjH",
        "outputId": "47c9fc39-3fcd-43de-9e3f-e4f69833f7fd",
        "colab": {
          "base_uri": "https://localhost:8080/",
          "height": 505
        }
      },
      "outputs": [
        {
          "output_type": "execute_result",
          "data": {
            "text/plain": [
              "       TOTAL_VALUE_CALCULATED  BEDROOMS  LIVING_SQUARE_FEET  GARAGE  \\\n",
              "0                     68000.0      -1.0                -1.0    -1.0   \n",
              "4                     82000.0      -1.0                -1.0    -1.0   \n",
              "12                    83300.0      -1.0                -1.0    -1.0   \n",
              "15                   204800.0      -1.0                -1.0    -1.0   \n",
              "19                   472700.0      -1.0                -1.0    -1.0   \n",
              "...                       ...       ...                 ...     ...   \n",
              "39115                244700.0       3.0              1400.0    -1.0   \n",
              "39116                221200.0       3.0              1420.0    -1.0   \n",
              "39119                384000.0       3.0              1704.0    -1.0   \n",
              "39120                226800.0       3.0              1260.0    -1.0   \n",
              "39121                537600.0       5.0              6028.0    -1.0   \n",
              "\n",
              "       BASEMENT_SQUARE_FEET  LAND_SQUARE_FOOTAGE  STYLE  YEAR_BUILT  \\\n",
              "0                      -1.0              80150.0      0        -1.0   \n",
              "4                      -1.0              20038.0      0      1970.0   \n",
              "12                     -1.0              21780.0      0      1997.0   \n",
              "15                     -1.0              18661.0      0      1991.0   \n",
              "19                     -1.0            1166101.0      0        -1.0   \n",
              "...                     ...                  ...    ...         ...   \n",
              "39115                  -1.0              48787.0      1      1988.0   \n",
              "39116                  -1.0              10018.0      1      2009.0   \n",
              "39119                  -1.0               6098.0      1      1985.0   \n",
              "39120                  -1.0              15522.0      1      1975.0   \n",
              "39121                  -1.0              25265.0      4      2003.0   \n",
              "\n",
              "       BLDG_IMPV_CODE  QUALITY  ...  9.0  10.0  11.0  12.0  SALE_MONTH-1  \\\n",
              "0                   0        0  ...    0     1     0     0             0   \n",
              "4                   0        1  ...    1     0     0     0             0   \n",
              "12                  0        3  ...    0     0     0     0             1   \n",
              "15                  0        3  ...    0     0     0     0             1   \n",
              "19                  0        0  ...    1     0     0     0             0   \n",
              "...               ...      ...  ...  ...   ...   ...   ...           ...   \n",
              "39115               0        1  ...    0     0     0     0             1   \n",
              "39116               0        4  ...    0     0     0     0             0   \n",
              "39119               0        1  ...    0     1     0     0             0   \n",
              "39120               0        1  ...    0     0     0     0             0   \n",
              "39121               0        2  ...    0     0     0     0             0   \n",
              "\n",
              "       18.0  19.0  20.0  DACADE_BUILT-1  POOL-1  \n",
              "0         0     0     0               1       1  \n",
              "4         0     1     0               0       1  \n",
              "12        0     1     0               0       1  \n",
              "15        0     1     0               0       1  \n",
              "19        0     0     0               1       1  \n",
              "...     ...   ...   ...             ...     ...  \n",
              "39115     0     1     0               0       1  \n",
              "39116     0     0     1               0       1  \n",
              "39119     0     1     0               0       1  \n",
              "39120     0     1     0               0       1  \n",
              "39121     0     0     1               0       1  \n",
              "\n",
              "[24001 rows x 68 columns]"
            ],
            "text/html": [
              "\n",
              "  <div id=\"df-aaf9a1ee-67a6-49a2-8762-621efb2e02b7\">\n",
              "    <div class=\"colab-df-container\">\n",
              "      <div>\n",
              "<style scoped>\n",
              "    .dataframe tbody tr th:only-of-type {\n",
              "        vertical-align: middle;\n",
              "    }\n",
              "\n",
              "    .dataframe tbody tr th {\n",
              "        vertical-align: top;\n",
              "    }\n",
              "\n",
              "    .dataframe thead th {\n",
              "        text-align: right;\n",
              "    }\n",
              "</style>\n",
              "<table border=\"1\" class=\"dataframe\">\n",
              "  <thead>\n",
              "    <tr style=\"text-align: right;\">\n",
              "      <th></th>\n",
              "      <th>TOTAL_VALUE_CALCULATED</th>\n",
              "      <th>BEDROOMS</th>\n",
              "      <th>LIVING_SQUARE_FEET</th>\n",
              "      <th>GARAGE</th>\n",
              "      <th>BASEMENT_SQUARE_FEET</th>\n",
              "      <th>LAND_SQUARE_FOOTAGE</th>\n",
              "      <th>STYLE</th>\n",
              "      <th>YEAR_BUILT</th>\n",
              "      <th>BLDG_IMPV_CODE</th>\n",
              "      <th>QUALITY</th>\n",
              "      <th>...</th>\n",
              "      <th>9.0</th>\n",
              "      <th>10.0</th>\n",
              "      <th>11.0</th>\n",
              "      <th>12.0</th>\n",
              "      <th>SALE_MONTH-1</th>\n",
              "      <th>18.0</th>\n",
              "      <th>19.0</th>\n",
              "      <th>20.0</th>\n",
              "      <th>DACADE_BUILT-1</th>\n",
              "      <th>POOL-1</th>\n",
              "    </tr>\n",
              "  </thead>\n",
              "  <tbody>\n",
              "    <tr>\n",
              "      <th>0</th>\n",
              "      <td>68000.0</td>\n",
              "      <td>-1.0</td>\n",
              "      <td>-1.0</td>\n",
              "      <td>-1.0</td>\n",
              "      <td>-1.0</td>\n",
              "      <td>80150.0</td>\n",
              "      <td>0</td>\n",
              "      <td>-1.0</td>\n",
              "      <td>0</td>\n",
              "      <td>0</td>\n",
              "      <td>...</td>\n",
              "      <td>0</td>\n",
              "      <td>1</td>\n",
              "      <td>0</td>\n",
              "      <td>0</td>\n",
              "      <td>0</td>\n",
              "      <td>0</td>\n",
              "      <td>0</td>\n",
              "      <td>0</td>\n",
              "      <td>1</td>\n",
              "      <td>1</td>\n",
              "    </tr>\n",
              "    <tr>\n",
              "      <th>4</th>\n",
              "      <td>82000.0</td>\n",
              "      <td>-1.0</td>\n",
              "      <td>-1.0</td>\n",
              "      <td>-1.0</td>\n",
              "      <td>-1.0</td>\n",
              "      <td>20038.0</td>\n",
              "      <td>0</td>\n",
              "      <td>1970.0</td>\n",
              "      <td>0</td>\n",
              "      <td>1</td>\n",
              "      <td>...</td>\n",
              "      <td>1</td>\n",
              "      <td>0</td>\n",
              "      <td>0</td>\n",
              "      <td>0</td>\n",
              "      <td>0</td>\n",
              "      <td>0</td>\n",
              "      <td>1</td>\n",
              "      <td>0</td>\n",
              "      <td>0</td>\n",
              "      <td>1</td>\n",
              "    </tr>\n",
              "    <tr>\n",
              "      <th>12</th>\n",
              "      <td>83300.0</td>\n",
              "      <td>-1.0</td>\n",
              "      <td>-1.0</td>\n",
              "      <td>-1.0</td>\n",
              "      <td>-1.0</td>\n",
              "      <td>21780.0</td>\n",
              "      <td>0</td>\n",
              "      <td>1997.0</td>\n",
              "      <td>0</td>\n",
              "      <td>3</td>\n",
              "      <td>...</td>\n",
              "      <td>0</td>\n",
              "      <td>0</td>\n",
              "      <td>0</td>\n",
              "      <td>0</td>\n",
              "      <td>1</td>\n",
              "      <td>0</td>\n",
              "      <td>1</td>\n",
              "      <td>0</td>\n",
              "      <td>0</td>\n",
              "      <td>1</td>\n",
              "    </tr>\n",
              "    <tr>\n",
              "      <th>15</th>\n",
              "      <td>204800.0</td>\n",
              "      <td>-1.0</td>\n",
              "      <td>-1.0</td>\n",
              "      <td>-1.0</td>\n",
              "      <td>-1.0</td>\n",
              "      <td>18661.0</td>\n",
              "      <td>0</td>\n",
              "      <td>1991.0</td>\n",
              "      <td>0</td>\n",
              "      <td>3</td>\n",
              "      <td>...</td>\n",
              "      <td>0</td>\n",
              "      <td>0</td>\n",
              "      <td>0</td>\n",
              "      <td>0</td>\n",
              "      <td>1</td>\n",
              "      <td>0</td>\n",
              "      <td>1</td>\n",
              "      <td>0</td>\n",
              "      <td>0</td>\n",
              "      <td>1</td>\n",
              "    </tr>\n",
              "    <tr>\n",
              "      <th>19</th>\n",
              "      <td>472700.0</td>\n",
              "      <td>-1.0</td>\n",
              "      <td>-1.0</td>\n",
              "      <td>-1.0</td>\n",
              "      <td>-1.0</td>\n",
              "      <td>1166101.0</td>\n",
              "      <td>0</td>\n",
              "      <td>-1.0</td>\n",
              "      <td>0</td>\n",
              "      <td>0</td>\n",
              "      <td>...</td>\n",
              "      <td>1</td>\n",
              "      <td>0</td>\n",
              "      <td>0</td>\n",
              "      <td>0</td>\n",
              "      <td>0</td>\n",
              "      <td>0</td>\n",
              "      <td>0</td>\n",
              "      <td>0</td>\n",
              "      <td>1</td>\n",
              "      <td>1</td>\n",
              "    </tr>\n",
              "    <tr>\n",
              "      <th>...</th>\n",
              "      <td>...</td>\n",
              "      <td>...</td>\n",
              "      <td>...</td>\n",
              "      <td>...</td>\n",
              "      <td>...</td>\n",
              "      <td>...</td>\n",
              "      <td>...</td>\n",
              "      <td>...</td>\n",
              "      <td>...</td>\n",
              "      <td>...</td>\n",
              "      <td>...</td>\n",
              "      <td>...</td>\n",
              "      <td>...</td>\n",
              "      <td>...</td>\n",
              "      <td>...</td>\n",
              "      <td>...</td>\n",
              "      <td>...</td>\n",
              "      <td>...</td>\n",
              "      <td>...</td>\n",
              "      <td>...</td>\n",
              "      <td>...</td>\n",
              "    </tr>\n",
              "    <tr>\n",
              "      <th>39115</th>\n",
              "      <td>244700.0</td>\n",
              "      <td>3.0</td>\n",
              "      <td>1400.0</td>\n",
              "      <td>-1.0</td>\n",
              "      <td>-1.0</td>\n",
              "      <td>48787.0</td>\n",
              "      <td>1</td>\n",
              "      <td>1988.0</td>\n",
              "      <td>0</td>\n",
              "      <td>1</td>\n",
              "      <td>...</td>\n",
              "      <td>0</td>\n",
              "      <td>0</td>\n",
              "      <td>0</td>\n",
              "      <td>0</td>\n",
              "      <td>1</td>\n",
              "      <td>0</td>\n",
              "      <td>1</td>\n",
              "      <td>0</td>\n",
              "      <td>0</td>\n",
              "      <td>1</td>\n",
              "    </tr>\n",
              "    <tr>\n",
              "      <th>39116</th>\n",
              "      <td>221200.0</td>\n",
              "      <td>3.0</td>\n",
              "      <td>1420.0</td>\n",
              "      <td>-1.0</td>\n",
              "      <td>-1.0</td>\n",
              "      <td>10018.0</td>\n",
              "      <td>1</td>\n",
              "      <td>2009.0</td>\n",
              "      <td>0</td>\n",
              "      <td>4</td>\n",
              "      <td>...</td>\n",
              "      <td>0</td>\n",
              "      <td>0</td>\n",
              "      <td>0</td>\n",
              "      <td>0</td>\n",
              "      <td>0</td>\n",
              "      <td>0</td>\n",
              "      <td>0</td>\n",
              "      <td>1</td>\n",
              "      <td>0</td>\n",
              "      <td>1</td>\n",
              "    </tr>\n",
              "    <tr>\n",
              "      <th>39119</th>\n",
              "      <td>384000.0</td>\n",
              "      <td>3.0</td>\n",
              "      <td>1704.0</td>\n",
              "      <td>-1.0</td>\n",
              "      <td>-1.0</td>\n",
              "      <td>6098.0</td>\n",
              "      <td>1</td>\n",
              "      <td>1985.0</td>\n",
              "      <td>0</td>\n",
              "      <td>1</td>\n",
              "      <td>...</td>\n",
              "      <td>0</td>\n",
              "      <td>1</td>\n",
              "      <td>0</td>\n",
              "      <td>0</td>\n",
              "      <td>0</td>\n",
              "      <td>0</td>\n",
              "      <td>1</td>\n",
              "      <td>0</td>\n",
              "      <td>0</td>\n",
              "      <td>1</td>\n",
              "    </tr>\n",
              "    <tr>\n",
              "      <th>39120</th>\n",
              "      <td>226800.0</td>\n",
              "      <td>3.0</td>\n",
              "      <td>1260.0</td>\n",
              "      <td>-1.0</td>\n",
              "      <td>-1.0</td>\n",
              "      <td>15522.0</td>\n",
              "      <td>1</td>\n",
              "      <td>1975.0</td>\n",
              "      <td>0</td>\n",
              "      <td>1</td>\n",
              "      <td>...</td>\n",
              "      <td>0</td>\n",
              "      <td>0</td>\n",
              "      <td>0</td>\n",
              "      <td>0</td>\n",
              "      <td>0</td>\n",
              "      <td>0</td>\n",
              "      <td>1</td>\n",
              "      <td>0</td>\n",
              "      <td>0</td>\n",
              "      <td>1</td>\n",
              "    </tr>\n",
              "    <tr>\n",
              "      <th>39121</th>\n",
              "      <td>537600.0</td>\n",
              "      <td>5.0</td>\n",
              "      <td>6028.0</td>\n",
              "      <td>-1.0</td>\n",
              "      <td>-1.0</td>\n",
              "      <td>25265.0</td>\n",
              "      <td>4</td>\n",
              "      <td>2003.0</td>\n",
              "      <td>0</td>\n",
              "      <td>2</td>\n",
              "      <td>...</td>\n",
              "      <td>0</td>\n",
              "      <td>0</td>\n",
              "      <td>0</td>\n",
              "      <td>0</td>\n",
              "      <td>0</td>\n",
              "      <td>0</td>\n",
              "      <td>0</td>\n",
              "      <td>1</td>\n",
              "      <td>0</td>\n",
              "      <td>1</td>\n",
              "    </tr>\n",
              "  </tbody>\n",
              "</table>\n",
              "<p>24001 rows × 68 columns</p>\n",
              "</div>\n",
              "      <button class=\"colab-df-convert\" onclick=\"convertToInteractive('df-aaf9a1ee-67a6-49a2-8762-621efb2e02b7')\"\n",
              "              title=\"Convert this dataframe to an interactive table.\"\n",
              "              style=\"display:none;\">\n",
              "        \n",
              "  <svg xmlns=\"http://www.w3.org/2000/svg\" height=\"24px\"viewBox=\"0 0 24 24\"\n",
              "       width=\"24px\">\n",
              "    <path d=\"M0 0h24v24H0V0z\" fill=\"none\"/>\n",
              "    <path d=\"M18.56 5.44l.94 2.06.94-2.06 2.06-.94-2.06-.94-.94-2.06-.94 2.06-2.06.94zm-11 1L8.5 8.5l.94-2.06 2.06-.94-2.06-.94L8.5 2.5l-.94 2.06-2.06.94zm10 10l.94 2.06.94-2.06 2.06-.94-2.06-.94-.94-2.06-.94 2.06-2.06.94z\"/><path d=\"M17.41 7.96l-1.37-1.37c-.4-.4-.92-.59-1.43-.59-.52 0-1.04.2-1.43.59L10.3 9.45l-7.72 7.72c-.78.78-.78 2.05 0 2.83L4 21.41c.39.39.9.59 1.41.59.51 0 1.02-.2 1.41-.59l7.78-7.78 2.81-2.81c.8-.78.8-2.07 0-2.86zM5.41 20L4 18.59l7.72-7.72 1.47 1.35L5.41 20z\"/>\n",
              "  </svg>\n",
              "      </button>\n",
              "      \n",
              "  <style>\n",
              "    .colab-df-container {\n",
              "      display:flex;\n",
              "      flex-wrap:wrap;\n",
              "      gap: 12px;\n",
              "    }\n",
              "\n",
              "    .colab-df-convert {\n",
              "      background-color: #E8F0FE;\n",
              "      border: none;\n",
              "      border-radius: 50%;\n",
              "      cursor: pointer;\n",
              "      display: none;\n",
              "      fill: #1967D2;\n",
              "      height: 32px;\n",
              "      padding: 0 0 0 0;\n",
              "      width: 32px;\n",
              "    }\n",
              "\n",
              "    .colab-df-convert:hover {\n",
              "      background-color: #E2EBFA;\n",
              "      box-shadow: 0px 1px 2px rgba(60, 64, 67, 0.3), 0px 1px 3px 1px rgba(60, 64, 67, 0.15);\n",
              "      fill: #174EA6;\n",
              "    }\n",
              "\n",
              "    [theme=dark] .colab-df-convert {\n",
              "      background-color: #3B4455;\n",
              "      fill: #D2E3FC;\n",
              "    }\n",
              "\n",
              "    [theme=dark] .colab-df-convert:hover {\n",
              "      background-color: #434B5C;\n",
              "      box-shadow: 0px 1px 3px 1px rgba(0, 0, 0, 0.15);\n",
              "      filter: drop-shadow(0px 1px 2px rgba(0, 0, 0, 0.3));\n",
              "      fill: #FFFFFF;\n",
              "    }\n",
              "  </style>\n",
              "\n",
              "      <script>\n",
              "        const buttonEl =\n",
              "          document.querySelector('#df-aaf9a1ee-67a6-49a2-8762-621efb2e02b7 button.colab-df-convert');\n",
              "        buttonEl.style.display =\n",
              "          google.colab.kernel.accessAllowed ? 'block' : 'none';\n",
              "\n",
              "        async function convertToInteractive(key) {\n",
              "          const element = document.querySelector('#df-aaf9a1ee-67a6-49a2-8762-621efb2e02b7');\n",
              "          const dataTable =\n",
              "            await google.colab.kernel.invokeFunction('convertToInteractive',\n",
              "                                                     [key], {});\n",
              "          if (!dataTable) return;\n",
              "\n",
              "          const docLinkHtml = 'Like what you see? Visit the ' +\n",
              "            '<a target=\"_blank\" href=https://colab.research.google.com/notebooks/data_table.ipynb>data table notebook</a>'\n",
              "            + ' to learn more about interactive tables.';\n",
              "          element.innerHTML = '';\n",
              "          dataTable['output_type'] = 'display_data';\n",
              "          await google.colab.output.renderOutput(dataTable, element);\n",
              "          const docLink = document.createElement('div');\n",
              "          docLink.innerHTML = docLinkHtml;\n",
              "          element.appendChild(docLink);\n",
              "        }\n",
              "      </script>\n",
              "    </div>\n",
              "  </div>\n",
              "  "
            ]
          },
          "metadata": {},
          "execution_count": 55
        }
      ],
      "source": [
        "df_data = df_data.drop(dummy, axis = 1)\n",
        "df_data"
      ]
    },
    {
      "cell_type": "code",
      "execution_count": null,
      "metadata": {
        "id": "nikEhcFg2wjH",
        "outputId": "f6c668b4-fb41-4b64-b764-009c43c17c4b",
        "colab": {
          "base_uri": "https://localhost:8080/"
        }
      },
      "outputs": [
        {
          "output_type": "execute_result",
          "data": {
            "text/plain": [
              "Index(['TOTAL_VALUE_CALCULATED',               'BEDROOMS',\n",
              "           'LIVING_SQUARE_FEET',                 'GARAGE',\n",
              "         'BASEMENT_SQUARE_FEET',    'LAND_SQUARE_FOOTAGE',\n",
              "                        'STYLE',             'YEAR_BUILT',\n",
              "               'BLDG_IMPV_CODE',                'QUALITY',\n",
              "                         'VIEW',       'AIR_CONDITIONING',\n",
              "                      'HEATING',                   'FUEL',\n",
              "                        'FRAME',         'EXTERIOR_WALLS',\n",
              "                        'SEWER',                  'WATER',\n",
              "                    'ROOF_TYPE',                  'FLOOR',\n",
              "           'LOCATION_INFLUENCE',                   1969.0,\n",
              "                         1974.0,                   1986.0,\n",
              "                         1990.0,                   1995.0,\n",
              "                         1996.0,                   1997.0,\n",
              "                         1999.0,                   2000.0,\n",
              "                         2001.0,                   2002.0,\n",
              "                         2003.0,                   2004.0,\n",
              "                         2005.0,                   2006.0,\n",
              "                         2007.0,                   2008.0,\n",
              "                         2009.0,                   2010.0,\n",
              "                         2011.0,                   2012.0,\n",
              "                         2013.0,                   2014.0,\n",
              "                         2015.0,                   2016.0,\n",
              "                         2017.0,                   2018.0,\n",
              "                         2019.0,            'SALE_YEAR-1',\n",
              "                            1.0,                      2.0,\n",
              "                            3.0,                      4.0,\n",
              "                            5.0,                      6.0,\n",
              "                            7.0,                      8.0,\n",
              "                            9.0,                     10.0,\n",
              "                           11.0,                     12.0,\n",
              "                 'SALE_MONTH-1',                     18.0,\n",
              "                           19.0,                     20.0,\n",
              "               'DACADE_BUILT-1',                 'POOL-1'],\n",
              "      dtype='object')"
            ]
          },
          "metadata": {},
          "execution_count": 56
        }
      ],
      "source": [
        "df_data.columns"
      ]
    },
    {
      "cell_type": "markdown",
      "metadata": {
        "id": "ULcOMa3o2wjH"
      },
      "source": [
        "For the remaining characteristics described above, I use embeddings."
      ]
    },
    {
      "cell_type": "markdown",
      "metadata": {
        "id": "U9YU_I5H2wjH"
      },
      "source": [
        "define the embeddings to have dimensionality of half the number of unique values of a column, with a\n",
        "max of 500. I also use embeddings for the Census tract in which the house is located. By using embeddings, the model can ‘discover’ that two tracts (perhaps sharing a border) are quite similar;\n",
        "if the tracts are similar in their e ects on sales, they will be close in the embedding space as well\n",
        "(i.e. their embedding vectors will have similar values)."
      ]
    },
    {
      "cell_type": "code",
      "execution_count": null,
      "metadata": {
        "id": "8-_LmdBw2wjI",
        "outputId": "99d250c5-945a-47d6-aefd-613fada6d7e4",
        "colab": {
          "base_uri": "https://localhost:8080/",
          "height": 89
        }
      },
      "outputs": [
        {
          "output_type": "stream",
          "name": "stdout",
          "text": [
            "train_size is 16800\n",
            "test_size is 7201\n"
          ]
        },
        {
          "output_type": "execute_result",
          "data": {
            "text/plain": [
              "'\\n# Add validation set\\nvalid_size = int(len(trainset) * 0.2)\\ntrain_size = len(trainset) - valid_size\\ntrainset, validset = torch.utils.data.random_split(trainset, [train_size, valid_size], generator=torch.Generator().manual_seed(42))\\n'"
            ],
            "application/vnd.google.colaboratory.intrinsic+json": {
              "type": "string"
            }
          },
          "metadata": {},
          "execution_count": 57
        }
      ],
      "source": [
        "class Corelogic_Dataset(Dataset):\n",
        "    def __init__(self, labels, features):  \n",
        "        self.labels = labels\n",
        "        self.features = features\n",
        "        self.len = len(labels)\n",
        "\n",
        "    def __getitem__(self, index):\n",
        "        label = torch.tensor(self.labels[index])\n",
        "        feature = self.features[index]\n",
        "        return feature, label\n",
        "    \n",
        "    def __len__(self):\n",
        "        return self.len\n",
        "\n",
        "dataset = Corelogic_Dataset(torch.tensor(np.array(df_data.iloc[:, 0])), torch.tensor(np.array(df_data.iloc[:, 1:])))\n",
        "\n",
        "# Split dateset into training set and test set\n",
        "train_size = int(len(dataset) * 0.7)\n",
        "test_size = len(dataset) - train_size\n",
        "trainset, testset = torch.utils.data.random_split(dataset, [train_size, test_size], generator=torch.Generator().manual_seed(42))\n",
        "\n",
        "print(\"train_size is\", train_size)\n",
        "print(\"test_size is\", test_size)\n",
        "\n",
        "'''\n",
        "# Add validation set\n",
        "valid_size = int(len(trainset) * 0.2)\n",
        "train_size = len(trainset) - valid_size\n",
        "trainset, validset = torch.utils.data.random_split(trainset, [train_size, valid_size], generator=torch.Generator().manual_seed(42))\n",
        "'''\n",
        "\n",
        "\n",
        "\n"
      ]
    },
    {
      "cell_type": "code",
      "source": [
        "# restrict estimates to be between 70% of the lowest observed sale price and 130% of the highest observed sale price.\n",
        "def get_restriction(labels):\n",
        "  return 0.7*min(labels), 1.3*max(labels)\n",
        "r_min, r_max = get_restriction(dataset.labels)"
      ],
      "metadata": {
        "id": "ozcLkUAhIqAQ"
      },
      "execution_count": null,
      "outputs": []
    },
    {
      "cell_type": "code",
      "source": [
        "r_min"
      ],
      "metadata": {
        "colab": {
          "base_uri": "https://localhost:8080/"
        },
        "id": "nqEUeKy8j7Bp",
        "outputId": "103f56b1-24fa-40d0-a410-804398169b9b"
      },
      "execution_count": null,
      "outputs": [
        {
          "output_type": "execute_result",
          "data": {
            "text/plain": [
              "tensor(7000., dtype=torch.float64)"
            ]
          },
          "metadata": {},
          "execution_count": 59
        }
      ]
    },
    {
      "cell_type": "code",
      "execution_count": null,
      "metadata": {
        "id": "noT81GI32wjI"
      },
      "outputs": [],
      "source": [
        "# Hyperparameters\n",
        "batch_size = 16\n",
        "epochs = 10"
      ]
    },
    {
      "cell_type": "code",
      "execution_count": null,
      "metadata": {
        "id": "eZC_Z35k2wjI"
      },
      "outputs": [],
      "source": [
        "# Load datasets\n",
        "train_loader = torch.utils.data.DataLoader(dataset = trainset, batch_size = batch_size, shuffle = False) # shuffle has to be False\n",
        "test_loader = torch.utils.data.DataLoader(dataset = testset, batch_size = batch_size, shuffle = False) # shuffle has to be False\n",
        "# valid_loader = torch.utils.data.DataLoader(dataset = validset, batch_size = batch_size, shuffle = False) # shuffle has to be False\n"
      ]
    },
    {
      "cell_type": "markdown",
      "metadata": {
        "tags": [],
        "id": "An6zmiVx2wjI"
      },
      "source": [
        "# Model architecture from the paper"
      ]
    },
    {
      "cell_type": "markdown",
      "source": [
        "![Income-estimation-appendix.jpg](data:image/jpeg;base64,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)"
      ],
      "metadata": {
        "id": "KFrEKAsuiCFt"
      }
    },
    {
      "cell_type": "code",
      "execution_count": null,
      "metadata": {
        "id": "BHJujkJK2wjI"
      },
      "outputs": [],
      "source": [
        "# DNN\n",
        "class DNN(nn.Module):\n",
        "    def __init__(self, input_dim, batch_first = True):\n",
        "        super(DNN, self).__init__()\n",
        "        self.fc1 = nn.Linear(input_dim, 2500)\n",
        "        self.fc1_bn = nn.BatchNorm1d(2500)\n",
        "        \n",
        "        self.fc2 = nn.Linear(2500, 1500)\n",
        "        self.fc2_bn = nn.BatchNorm1d(1500)\n",
        "        \n",
        "        self.fc3 = nn.Linear(1500, 500)\n",
        "        self.fc3_bn = nn.BatchNorm1d(500)\n",
        "        \n",
        "        self.fc4 = nn.Linear(500, 100)\n",
        "        self.fc4_bn = nn.BatchNorm1d(100)\n",
        "        \n",
        "        self.fc5 = nn.Linear(100, 1) # 50\n",
        "        self.fc5_bn = nn.BatchNorm1d(1) # 50\n",
        "        \n",
        "        # self.dropout = nn.Dropout(0.25)\n",
        "        self.sigmoid = nn.Sigmoid()\n",
        "\n",
        "    def forward(self,x):\n",
        "        x = self.fc1_bn(F.relu(self.fc1(x)))\n",
        "        x = self.fc2_bn(F.relu(self.fc2(x)))\n",
        "        x = self.fc3_bn(F.relu(self.fc3(x)))\n",
        "        x = self.fc4_bn(F.relu(self.fc4(x)))\n",
        "        output = self.fc5_bn(F.relu(self.fc5(x)))\n",
        "        '''\n",
        "        if output < r_min:\n",
        "          output = r_min\n",
        "        elif output > r_max:\n",
        "          output = r_max\n",
        "        # output = self.sigmoid(x)\n",
        "        '''\n",
        "        return output"
      ]
    },
    {
      "cell_type": "markdown",
      "metadata": {
        "id": "OPvfeMKp2wjJ"
      },
      "source": [
        "The Tax data include many characteristics of the property, including: number of bedrooms\n",
        "and bathrooms; living, garage, basement, and land square footage; the style of the building, when\n",
        "it was built, and whether refurbished; a measure of quality (e.g. ‘Fair’); what type of view the\n",
        "property has (e.g., ‘Mountains’) and other ‘location influences’; whether the property has a pool;\n",
        "the type of air conditioning, heating, fuel, framing, walls, sewage, water, roof, and floor; and the\n",
        "precise location. Some of these variables are frequently missing – in all such cases, I replace the\n",
        "missing values with an indicator for missing data. I also discretize continuous variables such as\n",
        "living square footage into deciles."
      ]
    },
    {
      "cell_type": "code",
      "execution_count": null,
      "metadata": {
        "id": "2EQI560h2wjJ"
      },
      "outputs": [],
      "source": [
        "num_features = df_data.shape[1] - 1\n",
        "# Model Initialization\n",
        "input_dim = num_features\n",
        "output_dim = 1"
      ]
    },
    {
      "cell_type": "code",
      "source": [
        "# Define root mean squared log error\n",
        "class RMSLELoss(nn.Module):\n",
        "    def __init__(self):\n",
        "        super().__init__()\n",
        "        self.mse = nn.MSELoss()\n",
        "        \n",
        "    def forward(self, pred, actual):\n",
        "        return torch.sqrt(self.mse(torch.log(pred.float() + 1), torch.log(actual.float() + 1)))"
      ],
      "metadata": {
        "id": "ga1eVpzS7eSV"
      },
      "execution_count": null,
      "outputs": []
    },
    {
      "cell_type": "markdown",
      "source": [
        "I use an Adam optimizer with a cosine\n",
        "annealing learning rate, such that the learning rates starts high and then decreases following a\n",
        "half-cosine curve. https://pytorch.org/docs/stable/generated/torch.optim.lr_scheduler.CosineAnnealingLR.html"
      ],
      "metadata": {
        "id": "BM0R5VdW7e1i"
      }
    },
    {
      "cell_type": "code",
      "source": [
        "'''\n",
        "# early stopping patience; how long to wait after last time validation loss improved.\n",
        "patience = 20\n",
        "# initialize the early_stopping object\n",
        "early_stopping = EarlyStopping(patience = patience, verbose = True)\n",
        "'''\n",
        "\n",
        "\n",
        "model = DNN(input_dim).to(device)\n",
        "print(model)\n",
        "\n",
        "# Parameters\n",
        "learning_rate = 0.1 # Initial learning rate\n",
        "optimizer = torch.optim.Adam(model.parameters(), lr = learning_rate)\n",
        "scheduler = CosineAnnealingLR(optimizer, T_max=20) # Default parameters: eta_min=0, last_epoch=-1, verbose=False\n",
        "# criterion = nn.CrossEntropyLoss()\n",
        "# criterion = nn.BCEWithLogitsLoss()\n",
        "criterion = RMSLELoss()\n",
        "\n",
        "def init_weights(m):\n",
        "    for name, param in m.named_parameters():\n",
        "        nn.init.uniform_(param.data, -0.08, 0.08)      \n",
        "\n",
        "model.apply(init_weights)\n",
        "\n",
        "def count_parameters(model):\n",
        "    return sum(p.numel() for p in model.parameters() if p.requires_grad)\n",
        "\n",
        "print(f'The model has {count_parameters(model):,} trainable parameters')"
      ],
      "metadata": {
        "colab": {
          "base_uri": "https://localhost:8080/"
        },
        "id": "CGOEaENzAI_o",
        "outputId": "cdd87729-563b-48f6-b685-ac7da1fc8cc1"
      },
      "execution_count": null,
      "outputs": [
        {
          "output_type": "stream",
          "name": "stdout",
          "text": [
            "DNN(\n",
            "  (fc1): Linear(in_features=67, out_features=2500, bias=True)\n",
            "  (fc1_bn): BatchNorm1d(2500, eps=1e-05, momentum=0.1, affine=True, track_running_stats=True)\n",
            "  (fc2): Linear(in_features=2500, out_features=1500, bias=True)\n",
            "  (fc2_bn): BatchNorm1d(1500, eps=1e-05, momentum=0.1, affine=True, track_running_stats=True)\n",
            "  (fc3): Linear(in_features=1500, out_features=500, bias=True)\n",
            "  (fc3_bn): BatchNorm1d(500, eps=1e-05, momentum=0.1, affine=True, track_running_stats=True)\n",
            "  (fc4): Linear(in_features=500, out_features=100, bias=True)\n",
            "  (fc4_bn): BatchNorm1d(100, eps=1e-05, momentum=0.1, affine=True, track_running_stats=True)\n",
            "  (fc5): Linear(in_features=100, out_features=1, bias=True)\n",
            "  (fc5_bn): BatchNorm1d(1, eps=1e-05, momentum=0.1, affine=True, track_running_stats=True)\n",
            "  (sigmoid): Sigmoid()\n",
            ")\n",
            "The model has 4,731,403 trainable parameters\n"
          ]
        }
      ]
    },
    {
      "cell_type": "code",
      "source": [
        "\n"
      ],
      "metadata": {
        "id": "hm3vFjWTisTd"
      },
      "execution_count": null,
      "outputs": []
    },
    {
      "cell_type": "code",
      "source": [
        "iter = 0\n",
        "for epoch in range(epochs):\n",
        "    for input, target in train_loader:\n",
        "        optimizer.zero_grad()\n",
        "        output = model(input.float()) # Add .float() to solve expected scalar type float but found Double\n",
        "        loss = criterion(output, target.unsqueeze(1)).float() # Add .long() to solve expected scalar type Long but found Double\n",
        "        loss.backward()\n",
        "        optimizer.step()\n",
        "        iter += 1   \n",
        "        if iter % 100 == 0: \n",
        "          print('Iteration: {}, Loss: {:.5f}'.format(iter, loss.item()))\n",
        "    scheduler.step()\n",
        "\n",
        "\n",
        "# load the last checkpoint with the best model\n",
        "# model.load_state_dict(torch.load('checkpoint.pt'))\n"
      ],
      "metadata": {
        "colab": {
          "base_uri": "https://localhost:8080/"
        },
        "id": "cIo2DzWZDdZt",
        "outputId": "797dad13-b8c4-4d2c-c77d-17e5abe9d87a"
      },
      "execution_count": null,
      "outputs": [
        {
          "output_type": "stream",
          "name": "stderr",
          "text": [
            "/usr/local/lib/python3.7/dist-packages/ipykernel_launcher.py:8: UserWarning: To copy construct from a tensor, it is recommended to use sourceTensor.clone().detach() or sourceTensor.clone().detach().requires_grad_(True), rather than torch.tensor(sourceTensor).\n",
            "  \n"
          ]
        },
        {
          "output_type": "stream",
          "name": "stdout",
          "text": [
            "Iteration: 100, Loss: 10.30325\n",
            "Iteration: 200, Loss: 9.78022\n",
            "Iteration: 300, Loss: 9.43076\n",
            "Iteration: 400, Loss: 8.84905\n",
            "Iteration: 500, Loss: 9.02642\n",
            "Iteration: 600, Loss: 8.67964\n",
            "Iteration: 700, Loss: 9.09020\n",
            "Iteration: 800, Loss: 8.53747\n",
            "Iteration: 900, Loss: 8.65429\n",
            "Iteration: 1000, Loss: 8.48397\n",
            "Iteration: 1100, Loss: 8.07523\n",
            "Iteration: 1200, Loss: 8.25571\n",
            "Iteration: 1300, Loss: 8.35730\n",
            "Iteration: 1400, Loss: 8.10994\n",
            "Iteration: 1500, Loss: 8.06956\n",
            "Iteration: 1600, Loss: 7.96055\n",
            "Iteration: 1700, Loss: 8.24831\n",
            "Iteration: 1800, Loss: 7.27908\n",
            "Iteration: 1900, Loss: 8.37387\n",
            "Iteration: 2000, Loss: 7.89317\n",
            "Iteration: 2100, Loss: 8.11038\n",
            "Iteration: 2200, Loss: 8.02274\n",
            "Iteration: 2300, Loss: 7.90931\n",
            "Iteration: 2400, Loss: 7.80271\n",
            "Iteration: 2500, Loss: 7.39175\n",
            "Iteration: 2600, Loss: 7.68878\n",
            "Iteration: 2700, Loss: 7.43941\n",
            "Iteration: 2800, Loss: 7.92912\n",
            "Iteration: 2900, Loss: 7.44238\n",
            "Iteration: 3000, Loss: 7.61545\n",
            "Iteration: 3100, Loss: 7.49585\n",
            "Iteration: 3200, Loss: 7.12949\n",
            "Iteration: 3300, Loss: 7.34800\n",
            "Iteration: 3400, Loss: 7.48803\n",
            "Iteration: 3500, Loss: 7.27183\n",
            "Iteration: 3600, Loss: 7.25185\n",
            "Iteration: 3700, Loss: 7.17310\n",
            "Iteration: 3800, Loss: 7.48085\n",
            "Iteration: 3900, Loss: 6.53662\n",
            "Iteration: 4000, Loss: 7.64837\n",
            "Iteration: 4100, Loss: 7.18573\n",
            "Iteration: 4200, Loss: 7.41962\n",
            "Iteration: 4300, Loss: 7.34624\n",
            "Iteration: 4400, Loss: 7.24835\n",
            "Iteration: 4500, Loss: 7.15702\n",
            "Iteration: 4600, Loss: 6.76268\n",
            "Iteration: 4700, Loss: 7.06955\n",
            "Iteration: 4800, Loss: 6.82992\n",
            "Iteration: 4900, Loss: 7.33039\n",
            "Iteration: 5000, Loss: 6.85421\n",
            "Iteration: 5100, Loss: 7.03549\n",
            "Iteration: 5200, Loss: 6.92660\n",
            "Iteration: 5300, Loss: 6.56886\n",
            "Iteration: 5400, Loss: 6.79534\n",
            "Iteration: 5500, Loss: 6.94885\n",
            "Iteration: 5600, Loss: 6.73842\n",
            "Iteration: 5700, Loss: 6.72080\n",
            "Iteration: 5800, Loss: 6.65361\n",
            "Iteration: 5900, Loss: 6.96573\n",
            "Iteration: 6000, Loss: 6.03159\n",
            "Iteration: 6100, Loss: 7.14749\n",
            "Iteration: 6200, Loss: 6.69275\n",
            "Iteration: 6300, Loss: 6.93317\n",
            "Iteration: 6400, Loss: 6.86404\n",
            "Iteration: 6500, Loss: 6.77176\n",
            "Iteration: 6600, Loss: 6.68923\n",
            "Iteration: 6700, Loss: 6.30401\n",
            "Iteration: 6800, Loss: 6.61359\n",
            "Iteration: 6900, Loss: 6.38065\n",
            "Iteration: 7000, Loss: 6.88591\n",
            "Iteration: 7100, Loss: 6.41534\n",
            "Iteration: 7200, Loss: 6.60162\n",
            "Iteration: 7300, Loss: 6.49912\n",
            "Iteration: 7400, Loss: 6.14532\n",
            "Iteration: 7500, Loss: 6.37774\n",
            "Iteration: 7600, Loss: 6.53955\n",
            "Iteration: 7700, Loss: 6.33424\n",
            "Iteration: 7800, Loss: 6.31644\n",
            "Iteration: 7900, Loss: 6.25687\n",
            "Iteration: 8000, Loss: 6.57368\n",
            "Iteration: 8100, Loss: 5.64745\n",
            "Iteration: 8200, Loss: 6.76690\n",
            "Iteration: 8300, Loss: 6.31767\n",
            "Iteration: 8400, Loss: 6.56319\n",
            "Iteration: 8500, Loss: 6.49804\n",
            "Iteration: 8600, Loss: 6.41125\n",
            "Iteration: 8700, Loss: 6.33473\n",
            "Iteration: 8800, Loss: 5.95675\n",
            "Iteration: 8900, Loss: 6.27034\n",
            "Iteration: 9000, Loss: 6.04171\n",
            "Iteration: 9100, Loss: 6.55213\n",
            "Iteration: 9200, Loss: 6.08560\n",
            "Iteration: 9300, Loss: 6.27612\n",
            "Iteration: 9400, Loss: 6.17877\n",
            "Iteration: 9500, Loss: 5.83043\n",
            "Iteration: 9600, Loss: 6.06636\n",
            "Iteration: 9700, Loss: 6.23618\n",
            "Iteration: 9800, Loss: 6.03560\n",
            "Iteration: 9900, Loss: 6.01857\n",
            "Iteration: 10000, Loss: 5.96656\n",
            "Iteration: 10100, Loss: 6.28641\n",
            "Iteration: 10200, Loss: 5.36787\n",
            "Iteration: 10300, Loss: 6.48831\n",
            "Iteration: 10400, Loss: 6.04603\n",
            "Iteration: 10500, Loss: 6.29620\n"
          ]
        }
      ]
    },
    {
      "cell_type": "code",
      "source": [
        "model.eval()"
      ],
      "metadata": {
        "colab": {
          "base_uri": "https://localhost:8080/"
        },
        "id": "k7I-5mgEGgFS",
        "outputId": "65554d01-30be-4ff4-be23-d7609d2591af"
      },
      "execution_count": null,
      "outputs": [
        {
          "output_type": "execute_result",
          "data": {
            "text/plain": [
              "DNN(\n",
              "  (fc1): Linear(in_features=67, out_features=2500, bias=True)\n",
              "  (fc1_bn): BatchNorm1d(2500, eps=1e-05, momentum=0.1, affine=True, track_running_stats=True)\n",
              "  (fc2): Linear(in_features=2500, out_features=1500, bias=True)\n",
              "  (fc2_bn): BatchNorm1d(1500, eps=1e-05, momentum=0.1, affine=True, track_running_stats=True)\n",
              "  (fc3): Linear(in_features=1500, out_features=500, bias=True)\n",
              "  (fc3_bn): BatchNorm1d(500, eps=1e-05, momentum=0.1, affine=True, track_running_stats=True)\n",
              "  (fc4): Linear(in_features=500, out_features=100, bias=True)\n",
              "  (fc4_bn): BatchNorm1d(100, eps=1e-05, momentum=0.1, affine=True, track_running_stats=True)\n",
              "  (fc5): Linear(in_features=100, out_features=1, bias=True)\n",
              "  (fc5_bn): BatchNorm1d(1, eps=1e-05, momentum=0.1, affine=True, track_running_stats=True)\n",
              "  (sigmoid): Sigmoid()\n",
              ")"
            ]
          },
          "metadata": {},
          "execution_count": 79
        }
      ]
    },
    {
      "cell_type": "code",
      "source": [
        "# Test\n",
        "def test(dataloader, model, criterion):\n",
        "    test_loss = []\n",
        "    Y_valid = []\n",
        "    Y_pred = []\n",
        "    \n",
        "    size = len(dataloader.dataset)\n",
        "    model.eval()\n",
        "    test_loss, correct = 0, 0\n",
        "    with torch.no_grad():\n",
        "      for input, target in dataloader:\n",
        "        optimizer.zero_grad()\n",
        "        output = model(input.float()) \n",
        "        test_loss = criterion(output, target.unsqueeze(1)).item()\n",
        "        # print(test_loss)\n",
        "        Y_valid.append(target)\n",
        "        Y_pred.append(output)\n",
        "\n",
        "    # test_loss /= batch_size \n",
        "    # correct /= size\n",
        "    return Y_valid, Y_pred, test_loss\n",
        "\n",
        "Y_valid, Y_pred, test_loss = test(test_loader, model, criterion)\n",
        "\n",
        "# Save model\n",
        "torch.save(model.state_dict(), \"model.pth\")\n",
        "print(\"Saved PyTorch Model State to model.pth\") "
      ],
      "metadata": {
        "colab": {
          "base_uri": "https://localhost:8080/"
        },
        "id": "pG9t1wbLEvfQ",
        "outputId": "74655977-c1d4-45fb-bec4-f1755b1b791e"
      },
      "execution_count": null,
      "outputs": [
        {
          "output_type": "stream",
          "name": "stderr",
          "text": [
            "/usr/local/lib/python3.7/dist-packages/ipykernel_launcher.py:8: UserWarning: To copy construct from a tensor, it is recommended to use sourceTensor.clone().detach() or sourceTensor.clone().detach().requires_grad_(True), rather than torch.tensor(sourceTensor).\n",
            "  \n"
          ]
        },
        {
          "output_type": "stream",
          "name": "stdout",
          "text": [
            "Saved PyTorch Model State to model.pth\n"
          ]
        }
      ]
    },
    {
      "cell_type": "code",
      "source": [
        "test_loss"
      ],
      "metadata": {
        "colab": {
          "base_uri": "https://localhost:8080/"
        },
        "id": "RHIRrnUjhi-f",
        "outputId": "cd3657cf-1856-4c32-b05e-e5d03b84d131"
      },
      "execution_count": null,
      "outputs": [
        {
          "output_type": "execute_result",
          "data": {
            "text/plain": [
              "3.6395068168640137"
            ]
          },
          "metadata": {},
          "execution_count": 88
        }
      ]
    },
    {
      "cell_type": "code",
      "source": [
        ""
      ],
      "metadata": {
        "id": "3GE0IlnLw9aA"
      },
      "execution_count": null,
      "outputs": []
    },
    {
      "cell_type": "code",
      "execution_count": null,
      "metadata": {
        "id": "Hh_D0Tak2wjJ"
      },
      "outputs": [],
      "source": [
        ""
      ]
    },
    {
      "cell_type": "code",
      "execution_count": null,
      "metadata": {
        "id": "ZzUTRhxe2wjJ"
      },
      "outputs": [],
      "source": [
        ""
      ]
    },
    {
      "cell_type": "markdown",
      "metadata": {
        "id": "DyAQs_wk2wjJ"
      },
      "source": [
        "# Draft"
      ]
    },
    {
      "cell_type": "code",
      "execution_count": null,
      "metadata": {
        "id": "YryvuS-f2wjJ",
        "outputId": "e4fecff3-e37c-4d3a-bcf1-57dfae0b08ec"
      },
      "outputs": [
        {
          "data": {
            "text/plain": [
              "['FIPS_x',\n",
              " 'APN_UNFORMATTED',\n",
              " 'PCL_ID_IRIS_FORMATTED',\n",
              " 'APN_SEQUENCE_NUMBER',\n",
              " 'PENDING_RECORD_INDICATOR',\n",
              " 'CORPORATE_INDICATOR',\n",
              " 'OWNER_FULL_NAME',\n",
              " 'OWNER_1_LAST_NAME',\n",
              " 'OWNER_1_FIRST_NAME___M_I',\n",
              " 'OWNER_2_LAST_NAME',\n",
              " 'OWNER_2_FIRST_NAME___MI',\n",
              " 'OWNER_ETAL_INDICATOR_x',\n",
              " 'C_O_NAME',\n",
              " 'OWNER_RELATIONSHIP_RIGHTS_CODE',\n",
              " 'OWNER_RELATIONSHIP_TYPE_x',\n",
              " 'PARTIAL_INTEREST_INDICATOR',\n",
              " 'ABSENTEE_OWNER_STATUS_x',\n",
              " 'PROPERTY_LEVEL_LATITUDE',\n",
              " 'PROPERTY_LEVEL_LONGITUDE',\n",
              " 'SITUS_HOUSE_NUMBER_PREFIX_x',\n",
              " 'SITUS_HOUSE_NUMBER_x',\n",
              " 'SITUS_HOUSE_NUMBER_SUFFIX_x',\n",
              " 'SITUS_DIRECTION_x',\n",
              " 'SITUS_STREET_NAME_x',\n",
              " 'SITUS_MODE_x',\n",
              " 'SITUS_QUADRANT_x',\n",
              " 'SITUS_APARTMENT_UNIT',\n",
              " 'SITUS_CITY_x',\n",
              " 'SITUS_STATE_x',\n",
              " 'SITUS_ZIP_CODE_x',\n",
              " 'SITUS_CARRIER_CODE_x',\n",
              " 'MAILING_HOUSE_NUMBER_PREFIX',\n",
              " 'MAILING_HOUSE_NUMBER',\n",
              " 'MAILING_HOUSE_NUMBER_SUFFIX',\n",
              " 'MAILING_DIRECTION',\n",
              " 'MAILING_STREET_NAME',\n",
              " 'MAILING_MODE',\n",
              " 'MAILING_QUADRANT',\n",
              " 'MAILING_APARTMENT_UNIT',\n",
              " 'MAILING_PROPERTY_CITY',\n",
              " 'MAILING_PROPERTY_STATE',\n",
              " 'MAILING_PROPERTY_ADDRESS_ZIP_CODE',\n",
              " 'MAILING_CARRIER_CODE',\n",
              " 'BATCH_ID_x',\n",
              " 'BATCH_SEQ_x',\n",
              " 'MULTI_APN',\n",
              " 'SELLER_LAST_NAME',\n",
              " 'SELLER_FIRST_NAME',\n",
              " 'SELLER_FULL_NAME_1',\n",
              " 'SELLER_FULL_NAME_2',\n",
              " 'SALE_CODE_x',\n",
              " 'SALE_AMOUNT',\n",
              " 'SALE_DATE__YYYYMMDD_',\n",
              " 'RECORDING_DATE__YYYYMMDD_',\n",
              " 'DOCUMENT_TYPE_x',\n",
              " 'TRANSACTION_TYPE_x',\n",
              " 'DOCUMENT_NUMBER',\n",
              " 'BOOK_PAGE__6x6_',\n",
              " 'LENDER_FULL_NAME',\n",
              " 'LENDER_LAST_NAME',\n",
              " 'LENDER_FIRST_NAME',\n",
              " 'LENDER_ADDRESS',\n",
              " 'LENDER_CITY',\n",
              " 'LENDER_ST',\n",
              " 'LENDER_ZIP',\n",
              " 'LENDER_COMPANY_CODE',\n",
              " 'TITLE_COMPANY_NAME_x',\n",
              " 'TITLE_COMPANY_CODE_x',\n",
              " 'MORTGAGE_AMOUNT',\n",
              " 'MORTGAGE_DATE_x',\n",
              " 'MORTGAGE_INTEREST_RATE',\n",
              " 'MORTGAGE_LOAN_TYPE_CODE_x',\n",
              " 'MORTGAGE_DEED_TYPE_x',\n",
              " 'MORTGAGE_TERM_CODE_x',\n",
              " 'MORTGAGE_TERM_x',\n",
              " 'MORTGAGE_DUE_DATE_x',\n",
              " 'MORTGAGE_ASSUMPTION_AMOUNT',\n",
              " 'MTG_SEQ_NUMBER',\n",
              " 'PRI_CAT_CODE',\n",
              " 'MTG_SEC_CAT_CODES_1X10',\n",
              " 'DEED_SEC_CAT_CODES_2X10',\n",
              " 'OWNERSHIP_TRANSFER_PERCENTAGE',\n",
              " 'LAND_USE_x',\n",
              " 'PROPERTY_INDICATOR_x',\n",
              " 'SELLER_CARRY_BACK',\n",
              " 'INTER_FAMILY',\n",
              " 'PRIVATE_PARTY_LENDER',\n",
              " 'MORTGAGE_INTEREST_RATE_TYPE',\n",
              " 'CONSTRUCTION_LOAN',\n",
              " 'RESALE_NEW_CONSTRUCTION',\n",
              " 'FORECLOSURE',\n",
              " 'CASH_MORTGAGE_PURCHASE',\n",
              " 'EQUITY_FLAG',\n",
              " 'REFI_FLAG',\n",
              " 'RESIDENTIAL_MODEL_INDICATOR_x',\n",
              " 'ADD_CHANGE_FIELD',\n",
              " 'FILLER',\n",
              " 'FIPS_y',\n",
              " 'UNFORMATTED_APN',\n",
              " 'APN_SEQUENCE_NBR',\n",
              " 'FORMATTED_APN',\n",
              " 'ORIGINAL_APN',\n",
              " 'PREVIOUS_PARCEL_NUMBER',\n",
              " 'P_ID_IRIS_FRMTD',\n",
              " 'ACCOUNT_NUMBER',\n",
              " 'MAP_REFERENCE1',\n",
              " 'MAP_REFERENCE2',\n",
              " 'CENSUS_TRACT',\n",
              " 'BLOCK_NUMBER',\n",
              " 'LOT_NUMBER',\n",
              " 'RANGE',\n",
              " 'TOWNSHIP',\n",
              " 'SECTION',\n",
              " 'QUARTER_SECTION',\n",
              " 'FLOOD_ZONE_COMMUNITY_PANEL_ID',\n",
              " 'LAND_USE_y',\n",
              " 'COUNTY_USE1',\n",
              " 'COUNTY_USE2',\n",
              " 'MOBILE_HOME_IND',\n",
              " 'ZONING',\n",
              " 'PROPERTY_INDICATOR_y',\n",
              " 'MUNICIPALITY_NAME',\n",
              " 'MUNICIPALITY_CODE',\n",
              " 'SUBDIVISION_TRACT_NUMBER',\n",
              " 'SUBDIVISION_PLAT_BOOK',\n",
              " 'SUBDIVISION_PLAT_PAGE',\n",
              " 'SUBDIVISION_NAME',\n",
              " 'PARCEL_LEVEL_LATITUDE',\n",
              " 'PARCEL_LEVEL_LONGITUDE',\n",
              " 'SITUS_HOUSE_NUMBER_PREFIX_y',\n",
              " 'SITUS_HOUSE_NUMBER_y',\n",
              " 'SITUS_HOUSE_NUMBER_2',\n",
              " 'SITUS_HOUSE_NUMBER_SUFFIX_y',\n",
              " 'SITUS_DIRECTION_y',\n",
              " 'SITUS_STREET_NAME_y',\n",
              " 'SITUS_MODE_y',\n",
              " 'SITUS_QUADRANT_y',\n",
              " 'SITUS_UNIT_NUMBER',\n",
              " 'SITUS_CITY_y',\n",
              " 'SITUS_STATE_y',\n",
              " 'SITUS_ZIP_CODE_y',\n",
              " 'SITUS_CARRIER_CODE_y',\n",
              " 'OWNER_CORPORATE_INDICATOR',\n",
              " 'OWNER1_LAST_NAME',\n",
              " 'OWNER1_FIRST_NAME_MI',\n",
              " 'OWNER2_LAST_NAME',\n",
              " 'OWNER2_FIRST_NAME_MI',\n",
              " 'ABSENTEE_OWNER_STATUS_y',\n",
              " 'HOMESTEAD_EXEMPT',\n",
              " 'OWNER_ETAL_INDICATOR_y',\n",
              " 'OWNER_OWNERSHIP_RIGHTS_CODE',\n",
              " 'OWNER_RELATIONSHIP_TYPE_y',\n",
              " 'MAIL_HOUSE_NUMBER_PREFIX',\n",
              " 'MAIL_HOUSE_NUMBER',\n",
              " 'MAIL_HOUSE_NUMBER_2',\n",
              " 'MAIL_HOUSE_NUMBER_SUFFIX',\n",
              " 'MAIL_DIRECTION',\n",
              " 'MAIL_STREET_NAME',\n",
              " 'MAIL_MODE',\n",
              " 'MAIL_QUADRANT',\n",
              " 'MAIL_UNIT_NUMBER',\n",
              " 'MAIL_CITY',\n",
              " 'MAIL_STATE',\n",
              " 'MAIL_ZIP_CODE',\n",
              " 'MAIL_CARRIER_CODE',\n",
              " 'MAILING_OPT_OUT_CODE',\n",
              " 'TOTAL_VALUE_CALCULATED',\n",
              " 'LAND_VALUE_CALCULATED',\n",
              " 'IMPROVEMENT_VALUE_CALCULATED',\n",
              " 'TOTAL_VALUE_CALCULATED_IND',\n",
              " 'LAND_VALUE_CALCULATED_IND',\n",
              " 'IMPROVEMENT_VALUE_CALCULATED_IND',\n",
              " 'ASSD_TOTAL_VALUE',\n",
              " 'ASSD_LAND_VALUE',\n",
              " 'ASSD_IMPROVEMENT_VALUE',\n",
              " 'MKT_TOTAL_VALUE',\n",
              " 'MKT_LAND_VALUE',\n",
              " 'MKT_IMPROVEMENT_VALUE',\n",
              " 'APPR_TOTAL_VALUE',\n",
              " 'APPR_LAND_VALUE',\n",
              " 'APPR_IMPROVEMENT_VALUE',\n",
              " 'TAX_AMOUNT',\n",
              " 'TAX_YEAR',\n",
              " 'ASSESSED_YEAR',\n",
              " 'TAX_CODE_AREA',\n",
              " 'BATCH_ID_y',\n",
              " 'BATCH_SEQ_y',\n",
              " 'MULTI_APN_FLAG',\n",
              " 'DOCUMENT_NO',\n",
              " 'BOOK_PAGE',\n",
              " 'DOCUMENT_TYPE_y',\n",
              " 'RECORDING_DATE',\n",
              " 'SALE_DATE',\n",
              " 'SALE_PRICE',\n",
              " 'SALE_CODE_y',\n",
              " 'SELLER_NAME',\n",
              " 'TRANSACTION_TYPE_y',\n",
              " 'TITLE_COMPANY_CODE_y',\n",
              " 'TITLE_COMPANY_NAME_y',\n",
              " 'RESIDENTIAL_MODEL_INDICATOR_y',\n",
              " 'FIRST_MORTGAGE_AMOUNT',\n",
              " 'MORTGAGE_DATE_y',\n",
              " 'MORTGAGE_LOAN_TYPE_CODE_y',\n",
              " 'MORTGAGE_DEED_TYPE_y',\n",
              " 'MORTGAGE_TERM_CODE_y',\n",
              " 'MORTGAGE_TERM_y',\n",
              " 'MORTGAGE_DUE_DATE_y',\n",
              " 'MORTAGE_ASSUMPTION_AMOUNT',\n",
              " 'LENDER_CODE',\n",
              " 'LENDER_NAME',\n",
              " 'SECOND_MORTGAGE_AMOUNT',\n",
              " 'SECOND_MORTGAGE_LOAN_TYPE_CODE',\n",
              " 'SECOND_DEED_TYPE',\n",
              " 'FRONT_FOOTAGE',\n",
              " 'DEPTH_FOOTAGE',\n",
              " 'ACRES',\n",
              " 'LAND_SQUARE_FOOTAGE',\n",
              " 'UNIVERSAL_BUILDING_SQUARE_FEET',\n",
              " 'BUILDING_SQUARE_FEET_IND',\n",
              " 'BUILDING_SQUARE_FEET',\n",
              " 'LIVING_SQUARE_FEET',\n",
              " 'GROUND_FLOOR_SQUARE_FEET',\n",
              " 'GROSS_SQUARE_FEET',\n",
              " 'ADJUSTED_GROSS_SQUARE_FEET',\n",
              " 'BASEMENT_SQUARE_FEET',\n",
              " 'GARAGE_PARKING_SQUARE_FEET',\n",
              " 'YEAR_BUILT',\n",
              " 'EFFECTIVE_YEAR_BUILT',\n",
              " 'BEDROOMS',\n",
              " 'TOTAL_ROOMS',\n",
              " 'TOTAL_BATHS_CALCULATED',\n",
              " 'TOTAL_BATHS',\n",
              " 'FULL_BATHS',\n",
              " 'HALF_BATHS',\n",
              " 'ONE_QTR_BATHS',\n",
              " 'THREE_QTR_BATHS',\n",
              " 'BATH_FIXTURES',\n",
              " 'AIR_CONDITIONING',\n",
              " 'BASEMENT_FINISH',\n",
              " 'BASEMENT_DESCRIPTION',\n",
              " 'BLDG_CODE',\n",
              " 'BLDG_IMPV_CODE',\n",
              " 'CONDITION',\n",
              " 'CONSTRUCTION_TYPE',\n",
              " 'EXTERIOR_WALLS',\n",
              " 'FIREPLACE_IND',\n",
              " 'FIREPLACE_NUMBER',\n",
              " 'FIREPLACE_TYPE',\n",
              " 'FOUNDATION',\n",
              " 'FLOOR',\n",
              " 'FRAME',\n",
              " 'GARAGE',\n",
              " 'HEATING',\n",
              " 'PARKING_SPACES',\n",
              " 'PARKING_TYPE',\n",
              " 'POOL',\n",
              " 'POOL_CODE',\n",
              " 'QUALITY',\n",
              " 'ROOF_COVER',\n",
              " 'ROOF_TYPE',\n",
              " 'STORIES_CODE',\n",
              " 'STORIES_NUMBER',\n",
              " 'STYLE',\n",
              " 'VIEW',\n",
              " 'LOCATION_INFLUENCE',\n",
              " 'NUMBER_OF_UNITS',\n",
              " 'UNITS_NUMBER',\n",
              " 'ELECTRIC_ENERGY',\n",
              " 'FUEL',\n",
              " 'SEWER',\n",
              " 'UTILITIES',\n",
              " 'WATER',\n",
              " 'LEGAL_ONE',\n",
              " 'LEGAL_TWO',\n",
              " 'LEGAL_THREE']"
            ]
          },
          "execution_count": 18,
          "metadata": {},
          "output_type": "execute_result"
        }
      ],
      "source": [
        "list(df_merge.columns)"
      ]
    },
    {
      "cell_type": "code",
      "execution_count": null,
      "metadata": {
        "id": "-1x4EjVq2wjJ",
        "outputId": "c3f138b6-e2bb-4373-8a53-8a90ecdcc9c9"
      },
      "outputs": [
        {
          "data": {
            "text/html": [
              "<div>\n",
              "<style scoped>\n",
              "    .dataframe tbody tr th:only-of-type {\n",
              "        vertical-align: middle;\n",
              "    }\n",
              "\n",
              "    .dataframe tbody tr th {\n",
              "        vertical-align: top;\n",
              "    }\n",
              "\n",
              "    .dataframe thead th {\n",
              "        text-align: right;\n",
              "    }\n",
              "</style>\n",
              "<table border=\"1\" class=\"dataframe\">\n",
              "  <thead>\n",
              "    <tr style=\"text-align: right;\">\n",
              "      <th></th>\n",
              "      <th>Field name</th>\n",
              "      <th>Type</th>\n",
              "      <th>Mode</th>\n",
              "      <th>Policy Tags</th>\n",
              "      <th>Description</th>\n",
              "      <th>Unnamed: 5</th>\n",
              "    </tr>\n",
              "  </thead>\n",
              "  <tbody>\n",
              "    <tr>\n",
              "      <th>0</th>\n",
              "      <td>FIPS_CODE</td>\n",
              "      <td>INTEGER</td>\n",
              "      <td>NULLABLE</td>\n",
              "      <td>NaN</td>\n",
              "      <td>NaN</td>\n",
              "      <td>NaN</td>\n",
              "    </tr>\n",
              "    <tr>\n",
              "      <th>1</th>\n",
              "      <td>UNFORMATTED_APN</td>\n",
              "      <td>STRING</td>\n",
              "      <td>NULLABLE</td>\n",
              "      <td>NaN</td>\n",
              "      <td>NaN</td>\n",
              "      <td>NaN</td>\n",
              "    </tr>\n",
              "    <tr>\n",
              "      <th>2</th>\n",
              "      <td>APN_SEQUENCE_NBR</td>\n",
              "      <td>INTEGER</td>\n",
              "      <td>NULLABLE</td>\n",
              "      <td>NaN</td>\n",
              "      <td>NaN</td>\n",
              "      <td>NaN</td>\n",
              "    </tr>\n",
              "    <tr>\n",
              "      <th>3</th>\n",
              "      <td>FORMATTED_APN</td>\n",
              "      <td>STRING</td>\n",
              "      <td>NULLABLE</td>\n",
              "      <td>NaN</td>\n",
              "      <td>NaN</td>\n",
              "      <td>NaN</td>\n",
              "    </tr>\n",
              "    <tr>\n",
              "      <th>4</th>\n",
              "      <td>ORIGINAL_APN</td>\n",
              "      <td>STRING</td>\n",
              "      <td>NULLABLE</td>\n",
              "      <td>NaN</td>\n",
              "      <td>NaN</td>\n",
              "      <td>NaN</td>\n",
              "    </tr>\n",
              "    <tr>\n",
              "      <th>...</th>\n",
              "      <td>...</td>\n",
              "      <td>...</td>\n",
              "      <td>...</td>\n",
              "      <td>...</td>\n",
              "      <td>...</td>\n",
              "      <td>...</td>\n",
              "    </tr>\n",
              "    <tr>\n",
              "      <th>173</th>\n",
              "      <td>UTILITIES</td>\n",
              "      <td>STRING</td>\n",
              "      <td>NULLABLE</td>\n",
              "      <td>NaN</td>\n",
              "      <td>NaN</td>\n",
              "      <td>NaN</td>\n",
              "    </tr>\n",
              "    <tr>\n",
              "      <th>174</th>\n",
              "      <td>WATER</td>\n",
              "      <td>STRING</td>\n",
              "      <td>NULLABLE</td>\n",
              "      <td>NaN</td>\n",
              "      <td>NaN</td>\n",
              "      <td>NaN</td>\n",
              "    </tr>\n",
              "    <tr>\n",
              "      <th>175</th>\n",
              "      <td>LEGAL1</td>\n",
              "      <td>STRING</td>\n",
              "      <td>NULLABLE</td>\n",
              "      <td>NaN</td>\n",
              "      <td>NaN</td>\n",
              "      <td>NaN</td>\n",
              "    </tr>\n",
              "    <tr>\n",
              "      <th>176</th>\n",
              "      <td>LEGAL2</td>\n",
              "      <td>STRING</td>\n",
              "      <td>NULLABLE</td>\n",
              "      <td>NaN</td>\n",
              "      <td>NaN</td>\n",
              "      <td>NaN</td>\n",
              "    </tr>\n",
              "    <tr>\n",
              "      <th>177</th>\n",
              "      <td>LEGAL3</td>\n",
              "      <td>STRING</td>\n",
              "      <td>NULLABLE</td>\n",
              "      <td>NaN</td>\n",
              "      <td>NaN</td>\n",
              "      <td>NaN</td>\n",
              "    </tr>\n",
              "  </tbody>\n",
              "</table>\n",
              "<p>178 rows × 6 columns</p>\n",
              "</div>"
            ],
            "text/plain": [
              "           Field name     Type      Mode  Policy Tags   Description  \\\n",
              "0           FIPS_CODE  INTEGER  NULLABLE           NaN          NaN   \n",
              "1     UNFORMATTED_APN   STRING  NULLABLE           NaN          NaN   \n",
              "2    APN_SEQUENCE_NBR  INTEGER  NULLABLE           NaN          NaN   \n",
              "3       FORMATTED_APN   STRING  NULLABLE           NaN          NaN   \n",
              "4        ORIGINAL_APN   STRING  NULLABLE           NaN          NaN   \n",
              "..                ...      ...       ...           ...          ...   \n",
              "173         UTILITIES   STRING  NULLABLE           NaN          NaN   \n",
              "174             WATER   STRING  NULLABLE           NaN          NaN   \n",
              "175            LEGAL1   STRING  NULLABLE           NaN          NaN   \n",
              "176            LEGAL2   STRING  NULLABLE           NaN          NaN   \n",
              "177            LEGAL3   STRING  NULLABLE           NaN          NaN   \n",
              "\n",
              "     Unnamed: 5  \n",
              "0           NaN  \n",
              "1           NaN  \n",
              "2           NaN  \n",
              "3           NaN  \n",
              "4           NaN  \n",
              "..          ...  \n",
              "173         NaN  \n",
              "174         NaN  \n",
              "175         NaN  \n",
              "176         NaN  \n",
              "177         NaN  \n",
              "\n",
              "[178 rows x 6 columns]"
            ]
          },
          "execution_count": 8,
          "metadata": {},
          "output_type": "execute_result"
        }
      ],
      "source": [
        "df_schema = pd.read_csv(\"Corelogic_Schema.csv\")\n",
        "df_schema"
      ]
    },
    {
      "cell_type": "code",
      "execution_count": null,
      "metadata": {
        "id": "7bZ25jkP2wjK"
      },
      "outputs": [],
      "source": [
        "s = \"\"\n",
        "for i in df_schema.index:\n",
        "    s = s + df_schema.iloc[i][0] + \":STRING\" + \",\\n\"\n",
        "with open('schema_tax.txt','w') as f:\n",
        "   f.write(s)"
      ]
    },
    {
      "cell_type": "code",
      "execution_count": null,
      "metadata": {
        "id": "vHXTCDil2wjK",
        "outputId": "6dc6365c-bd6c-4a4e-bdd6-e47093940d0d"
      },
      "outputs": [
        {
          "name": "stdout",
          "output_type": "stream",
          "text": [
            "cast (FIPS_CODE as INTEGER) as FIPS_CODE,\n",
            "cast (UNFORMATTED_APN as STRING) as UNFORMATTED_APN,\n",
            "cast (APN_SEQUENCE_NBR as INTEGER) as APN_SEQUENCE_NBR,\n",
            "cast (FORMATTED_APN as STRING) as FORMATTED_APN,\n",
            "cast (ORIGINAL_APN as STRING) as ORIGINAL_APN,\n",
            "cast (PREVIOUS_PARCEL_NUMBER as STRING) as PREVIOUS_PARCEL_NUMBER,\n",
            "cast (P_ID_IRIS_FRMTD as STRING) as P_ID_IRIS_FRMTD,\n",
            "cast (ACCOUNT_NUMBER as STRING) as ACCOUNT_NUMBER,\n",
            "cast (MAP_REFERENCE1 as STRING) as MAP_REFERENCE1,\n",
            "cast (MAP_REFERENCE2 as STRING) as MAP_REFERENCE2,\n",
            "cast (CENSUS_TRACT as INTEGER) as CENSUS_TRACT,\n",
            "cast (BLOCK_NUMBER as STRING) as BLOCK_NUMBER,\n",
            "cast (LOT_NUMBER as INTEGER) as LOT_NUMBER,\n",
            "cast (RANGE as STRING) as RANGE,\n",
            "cast (TOWNSHIP as STRING) as TOWNSHIP,\n",
            "cast (SECTION as STRING) as SECTION,\n",
            "cast (QUARTER_SECTION as STRING) as QUARTER_SECTION,\n",
            "cast (FLOOD_ZONE_COMMUNITY_PANEL_ID as STRING) as FLOOD_ZONE_COMMUNITY_PANEL_ID,\n",
            "cast (LAND_USE as INTEGER) as LAND_USE,\n",
            "cast (COUNTY_USE1 as INTEGER) as COUNTY_USE1,\n",
            "cast (COUNTY_USE2 as STRING) as COUNTY_USE2,\n",
            "cast (MOBILE_HOME_IND as STRING) as MOBILE_HOME_IND,\n",
            "cast (ZONING as STRING) as ZONING,\n",
            "cast (PROPERTY_INDICATOR as INTEGER) as PROPERTY_INDICATOR,\n",
            "cast (MUNICIPALITY_NAME as STRING) as MUNICIPALITY_NAME,\n",
            "cast (MUNICIPALITY_CODE as INTEGER) as MUNICIPALITY_CODE,\n",
            "cast (SUBDIVISION_TRACT_NUMBER as STRING) as SUBDIVISION_TRACT_NUMBER,\n",
            "cast (SUBDIVISION_PLAT_BOOK as STRING) as SUBDIVISION_PLAT_BOOK,\n",
            "cast (SUBDIVISION_PLAT_PAGE as INTEGER) as SUBDIVISION_PLAT_PAGE,\n",
            "cast (SUBDIVISION_NAME as STRING) as SUBDIVISION_NAME,\n",
            "cast (PARCEL_LEVEL_LATITUDE__2_6_ as FLOAT) as PARCEL_LEVEL_LATITUDE__2_6_,\n",
            "cast (PARCEL_LEVEL_LONGITUDE__3_6_ as FLOAT) as PARCEL_LEVEL_LONGITUDE__3_6_,\n",
            "cast (SITUS_HOUSE_NUMBER_PREFIX as STRING) as SITUS_HOUSE_NUMBER_PREFIX,\n",
            "cast (SITUS_HOUSE_NUMBER as INTEGER) as SITUS_HOUSE_NUMBER,\n",
            "cast (SITUS_HOUSE_NUMBER__2 as INTEGER) as SITUS_HOUSE_NUMBER__2,\n",
            "cast (SITUS_HOUSE_NUMBER_SUFFIX as STRING) as SITUS_HOUSE_NUMBER_SUFFIX,\n",
            "cast (SITUS_DIRECTION as STRING) as SITUS_DIRECTION,\n",
            "cast (SITUS_STREET_NAME as STRING) as SITUS_STREET_NAME,\n",
            "cast (SITUS_MODE as STRING) as SITUS_MODE,\n",
            "cast (SITUS_QUADRANT as STRING) as SITUS_QUADRANT,\n",
            "cast (SITUS_UNIT_NUMBER as STRING) as SITUS_UNIT_NUMBER,\n",
            "cast (SITUS_CITY as STRING) as SITUS_CITY,\n",
            "cast (SITUS_STATE as STRING) as SITUS_STATE,\n",
            "cast (SITUS_ZIP_CODE as INTEGER) as SITUS_ZIP_CODE,\n",
            "cast (SITUS_CARRIER_CODE as STRING) as SITUS_CARRIER_CODE,\n",
            "cast (OWNER_CORPORATE_INDICATOR as BOOLEAN) as OWNER_CORPORATE_INDICATOR,\n",
            "cast (OWNER1_LAST_NAME as STRING) as OWNER1_LAST_NAME,\n",
            "cast (OWNER1_FIRST_NAME___MI as STRING) as OWNER1_FIRST_NAME___MI,\n",
            "cast (OWNER2_LAST_NAME as STRING) as OWNER2_LAST_NAME,\n",
            "cast (OWNER2_FIRST_NAME___MI as STRING) as OWNER2_FIRST_NAME___MI,\n",
            "cast (ABSENTEE_OWNER_STATUS as STRING) as ABSENTEE_OWNER_STATUS,\n",
            "cast (HOMESTEAD_EXEMPT as BOOLEAN) as HOMESTEAD_EXEMPT,\n",
            "cast (OWNER_ETAL_INDICATOR as STRING) as OWNER_ETAL_INDICATOR,\n",
            "cast (OWNER_OWNERSHIP_RIGHTS_CODE as STRING) as OWNER_OWNERSHIP_RIGHTS_CODE,\n",
            "cast (OWNER_RELATIONSHIP_TYPE as STRING) as OWNER_RELATIONSHIP_TYPE,\n",
            "cast (MAIL_HOUSE_NUMBER_PREFIX as STRING) as MAIL_HOUSE_NUMBER_PREFIX,\n",
            "cast (MAIL_HOUSE_NUMBER as INTEGER) as MAIL_HOUSE_NUMBER,\n",
            "cast (MAIL_HOUSE_NUMBER__2 as INTEGER) as MAIL_HOUSE_NUMBER__2,\n",
            "cast (MAIL_HOUSE_NUMBER_SUFFIX as STRING) as MAIL_HOUSE_NUMBER_SUFFIX,\n",
            "cast (MAIL_DIRECTION as STRING) as MAIL_DIRECTION,\n",
            "cast (MAIL_STREET_NAME as STRING) as MAIL_STREET_NAME,\n",
            "cast (MAIL_MODE as STRING) as MAIL_MODE,\n",
            "cast (MAIL_QUADRANT as STRING) as MAIL_QUADRANT,\n",
            "cast (MAIL_UNIT_NUMBER as STRING) as MAIL_UNIT_NUMBER,\n",
            "cast (MAIL_CITY as STRING) as MAIL_CITY,\n",
            "cast (MAIL_STATE as STRING) as MAIL_STATE,\n",
            "cast (MAIL_ZIP_CODE as INTEGER) as MAIL_ZIP_CODE,\n",
            "cast (MAIL_CARRIER_CODE as STRING) as MAIL_CARRIER_CODE,\n",
            "cast (MAILING_OPT_OUT_CODE as BOOLEAN) as MAILING_OPT_OUT_CODE,\n",
            "cast (TOTAL_VALUE_CALCULATED as INTEGER) as TOTAL_VALUE_CALCULATED,\n",
            "cast (LAND_VALUE_CALCULATED as INTEGER) as LAND_VALUE_CALCULATED,\n",
            "cast (IMPROVEMENT_VALUE_CALCULATED as INTEGER) as IMPROVEMENT_VALUE_CALCULATED,\n",
            "cast (TOTAL_VALUE_CALCULATED_IND as STRING) as TOTAL_VALUE_CALCULATED_IND,\n",
            "cast (LAND_VALUE_CALCULATED_IND as STRING) as LAND_VALUE_CALCULATED_IND,\n",
            "cast (IMPROVEMENT_VALUE_CALCULATED_IND as STRING) as IMPROVEMENT_VALUE_CALCULATED_IND,\n",
            "cast (ASSD_TOTAL_VALUE as INTEGER) as ASSD_TOTAL_VALUE,\n",
            "cast (ASSD_LAND_VALUE as INTEGER) as ASSD_LAND_VALUE,\n",
            "cast (ASSD_IMPROVEMENT_VALUE as INTEGER) as ASSD_IMPROVEMENT_VALUE,\n",
            "cast (MKT_TOTAL_VALUE as INTEGER) as MKT_TOTAL_VALUE,\n",
            "cast (MKT_LAND_VALUE as INTEGER) as MKT_LAND_VALUE,\n",
            "cast (MKT_IMPROVEMENT_VALUE as INTEGER) as MKT_IMPROVEMENT_VALUE,\n",
            "cast (APPR_TOTAL_VALUE as STRING) as APPR_TOTAL_VALUE,\n",
            "cast (APPR_LAND_VALUE as STRING) as APPR_LAND_VALUE,\n",
            "cast (APPR_IMPROVEMENT_VALUE as STRING) as APPR_IMPROVEMENT_VALUE,\n",
            "cast (TAX_AMOUNT as FLOAT) as TAX_AMOUNT,\n",
            "cast (TAX_YEAR as INTEGER) as TAX_YEAR,\n",
            "cast (ASSESSED_YEAR as INTEGER) as ASSESSED_YEAR,\n",
            "cast (TAX_CODE_AREA as INTEGER) as TAX_CODE_AREA,\n",
            "cast (BATCH_ID as INTEGER) as BATCH_ID,\n",
            "cast (BATCH_SEQ as INTEGER) as BATCH_SEQ,\n",
            "cast (MULTI_APN_FLAG as BOOLEAN) as MULTI_APN_FLAG,\n",
            "cast (DOCUMENT_NO_ as INTEGER) as DOCUMENT_NO_,\n",
            "cast (BOOK___PAGE as STRING) as BOOK___PAGE,\n",
            "cast (DOCUMENT_TYPE as STRING) as DOCUMENT_TYPE,\n",
            "cast (RECORDING_DATE as INTEGER) as RECORDING_DATE,\n",
            "cast (SALE_DATE as INTEGER) as SALE_DATE,\n",
            "cast (SALE_PRICE as FLOAT) as SALE_PRICE,\n",
            "cast (SALE_CODE as BOOLEAN) as SALE_CODE,\n",
            "cast (SELLER_NAME as STRING) as SELLER_NAME,\n",
            "cast (TRANSACTION_TYPE as INTEGER) as TRANSACTION_TYPE,\n",
            "cast (TITLE_COMPANY_CODE as INTEGER) as TITLE_COMPANY_CODE,\n",
            "cast (TITLE_COMPANY_NAME as STRING) as TITLE_COMPANY_NAME,\n",
            "cast (RESIDENTIAL_MODEL_INDICATOR as BOOLEAN) as RESIDENTIAL_MODEL_INDICATOR,\n",
            "cast (_1st_MORTGAGE_AMOUNT as FLOAT) as _1st_MORTGAGE_AMOUNT,\n",
            "cast (MORTGAGE_DATE as INTEGER) as MORTGAGE_DATE,\n",
            "cast (MORTGAGE_LOAN_TYPE_CODE as STRING) as MORTGAGE_LOAN_TYPE_CODE,\n",
            "cast (MORTGAGE_DEED_TYPE as STRING) as MORTGAGE_DEED_TYPE,\n",
            "cast (MORTGAGE_TERM_CODE as STRING) as MORTGAGE_TERM_CODE,\n",
            "cast (MORTGAGE_TERM as INTEGER) as MORTGAGE_TERM,\n",
            "cast (MORTGAGE_DUE_DATE as INTEGER) as MORTGAGE_DUE_DATE,\n",
            "cast (MORTAGE_ASSUMPTION_AMOUNT as STRING) as MORTAGE_ASSUMPTION_AMOUNT,\n",
            "cast (LENDER_CODE as INTEGER) as LENDER_CODE,\n",
            "cast (LENDER_NAME as STRING) as LENDER_NAME,\n",
            "cast (_2nd_MORTGAGE_AMOUNT as FLOAT) as _2nd_MORTGAGE_AMOUNT,\n",
            "cast (_2nd_MORTGAGE_LOAN_TYPE_CODE as STRING) as _2nd_MORTGAGE_LOAN_TYPE_CODE,\n",
            "cast (_2nd_DEED_TYPE as STRING) as _2nd_DEED_TYPE,\n",
            "cast (FRONT_FOOTAGE as STRING) as FRONT_FOOTAGE,\n",
            "cast (DEPTH_FOOTAGE as STRING) as DEPTH_FOOTAGE,\n",
            "cast (ACRES as FLOAT) as ACRES,\n",
            "cast (LAND_SQUARE_FOOTAGE as INTEGER) as LAND_SQUARE_FOOTAGE,\n",
            "cast (UNIVERSAL_BUILDING_SQUARE_FEET as INTEGER) as UNIVERSAL_BUILDING_SQUARE_FEET,\n",
            "cast (BUILDING_SQUARE_FEET_IND as STRING) as BUILDING_SQUARE_FEET_IND,\n",
            "cast (BUILDING_SQUARE_FEET as INTEGER) as BUILDING_SQUARE_FEET,\n",
            "cast (LIVING_SQUARE_FEET as FLOAT) as LIVING_SQUARE_FEET,\n",
            "cast (GROUND_FLOOR_SQUARE_FEET as STRING) as GROUND_FLOOR_SQUARE_FEET,\n",
            "cast (GROSS_SQUARE_FEET as STRING) as GROSS_SQUARE_FEET,\n",
            "cast (ADJUSTED_GROSS_SQUARE_FEET as STRING) as ADJUSTED_GROSS_SQUARE_FEET,\n",
            "cast (BASEMENT_SQUARE_FEET as FLOAT) as BASEMENT_SQUARE_FEET,\n",
            "cast (GARAGE_PARKING_SQUARE_FEET as STRING) as GARAGE_PARKING_SQUARE_FEET,\n",
            "cast (YEAR_BUILT as INTEGER) as YEAR_BUILT,\n",
            "cast (EFFECTIVE_YEAR_BUILT as INTEGER) as EFFECTIVE_YEAR_BUILT,\n",
            "cast (BEDROOMS as INTEGER) as BEDROOMS,\n",
            "cast (TOTAL_ROOMS as INTEGER) as TOTAL_ROOMS,\n",
            "cast (TOTAL_BATHS_CALCULATED as FLOAT) as TOTAL_BATHS_CALCULATED,\n",
            "cast (TOTAL_BATHS as STRING) as TOTAL_BATHS,\n",
            "cast (FULL_BATHS as INTEGER) as FULL_BATHS,\n",
            "cast (HALF_BATHS as INTEGER) as HALF_BATHS,\n",
            "cast (_1QTR_BATHS as STRING) as _1QTR_BATHS,\n",
            "cast (_3QTR_BATHS as STRING) as _3QTR_BATHS,\n",
            "cast (BATH_FIXTURES as STRING) as BATH_FIXTURES,\n",
            "cast (AIR_CONDITIONING as STRING) as AIR_CONDITIONING,\n",
            "cast (BASEMENT_FINISH as STRING) as BASEMENT_FINISH,\n",
            "cast (BASEMENT_DESCRIPTION as STRING) as BASEMENT_DESCRIPTION,\n",
            "cast (BLDG_CODE as STRING) as BLDG_CODE,\n",
            "cast (BLDG_IMPV_CODE as STRING) as BLDG_IMPV_CODE,\n",
            "cast (CONDITION as STRING) as CONDITION,\n",
            "cast (CONSTRUCTION_TYPE as STRING) as CONSTRUCTION_TYPE,\n",
            "cast (EXTERIOR_WALLS as STRING) as EXTERIOR_WALLS,\n",
            "cast (FIREPLACE_IND as BOOLEAN) as FIREPLACE_IND,\n",
            "cast (FIREPLACE_NUMBER as INTEGER) as FIREPLACE_NUMBER,\n",
            "cast (FIREPLACE_TYPE as INTEGER) as FIREPLACE_TYPE,\n",
            "cast (FOUNDATION as STRING) as FOUNDATION,\n",
            "cast (FLOOR as STRING) as FLOOR,\n",
            "cast (FRAME as STRING) as FRAME,\n",
            "cast (GARAGE as STRING) as GARAGE,\n",
            "cast (HEATING as STRING) as HEATING,\n",
            "cast (PARKING_SPACES as INTEGER) as PARKING_SPACES,\n",
            "cast (PARKING_TYPE as STRING) as PARKING_TYPE,\n",
            "cast (POOL as BOOLEAN) as POOL,\n",
            "cast (POOL_CODE as INTEGER) as POOL_CODE,\n",
            "cast (QUALITY as STRING) as QUALITY,\n",
            "cast (ROOF_COVER as INTEGER) as ROOF_COVER,\n",
            "cast (ROOF_TYPE as STRING) as ROOF_TYPE,\n",
            "cast (STORIES_CODE as STRING) as STORIES_CODE,\n",
            "cast (STORIES_NUMBER as FLOAT) as STORIES_NUMBER,\n",
            "cast (STYLE as STRING) as STYLE,\n",
            "cast (VIEW as STRING) as VIEW,\n",
            "cast (LOCATION_INFLUENCE as STRING) as LOCATION_INFLUENCE,\n",
            "cast (NUMBER_OF_UNITS as INTEGER) as NUMBER_OF_UNITS,\n",
            "cast (UNITS_NUMBER as INTEGER) as UNITS_NUMBER,\n",
            "cast (ELECTRIC_ENERGY as STRING) as ELECTRIC_ENERGY,\n",
            "cast (FUEL as STRING) as FUEL,\n",
            "cast (SEWER as STRING) as SEWER,\n",
            "cast (UTILITIES as STRING) as UTILITIES,\n",
            "cast (WATER as STRING) as WATER,\n",
            "cast (LEGAL1 as STRING) as LEGAL1,\n",
            "cast (LEGAL2 as STRING) as LEGAL2,\n",
            "cast (LEGAL3 as STRING) as LEGAL3,\n",
            "\n"
          ]
        }
      ],
      "source": [
        "# Example: cast (FA_StatusChangeDate as timestamp) as FA_StatusChangeDate,\n",
        "s = \"\"\n",
        "for i in df_schema.index:\n",
        "    s = s + \"cast (\" + df_schema.iloc[i][0] + \" as \" + df_schema.iloc[i][1] + \") as \" + df_schema.iloc[i][0] + \",\\n\"\n",
        "print(s)"
      ]
    },
    {
      "cell_type": "code",
      "execution_count": null,
      "metadata": {
        "id": "rZ6vN6OE2wjK",
        "outputId": "4fbe42cc-444c-4643-ad61-b161dfa37743"
      },
      "outputs": [
        {
          "data": {
            "text/plain": [
              "torch.Size([2, 4, 3])"
            ]
          },
          "execution_count": 108,
          "metadata": {},
          "output_type": "execute_result"
        }
      ],
      "source": [
        "# an Embedding module containing 10 tensors of size 3\n",
        "embedding = nn.Embedding(10, 3)\n",
        "# a batch of 2 samples of 4 indices each\n",
        "input = torch.LongTensor([[1,2,4,5],[4,3,2,9]])\n",
        "embedding(input).shape"
      ]
    },
    {
      "cell_type": "code",
      "execution_count": null,
      "metadata": {
        "id": "0-z8OOP82wjK",
        "outputId": "0d00a230-4418-4101-bf52-98256f94d883"
      },
      "outputs": [
        {
          "data": {
            "text/plain": [
              "torch.Size([2, 4])"
            ]
          },
          "execution_count": 109,
          "metadata": {},
          "output_type": "execute_result"
        }
      ],
      "source": [
        "input.shape"
      ]
    },
    {
      "cell_type": "code",
      "execution_count": null,
      "metadata": {
        "id": "kBPcSQUn2wjK",
        "outputId": "50f23a24-a700-43ca-878b-9c1fffa77786"
      },
      "outputs": [
        {
          "data": {
            "text/plain": [
              "tensor([[-0.6969, -0.3368,  0.0170,  2.5383,  0.6692]],\n",
              "       grad_fn=<EmbeddingBackward0>)"
            ]
          },
          "execution_count": 95,
          "metadata": {},
          "output_type": "execute_result"
        }
      ],
      "source": [
        "a = torch.LongTensor([0])\n",
        "embedding = torch.nn.Embedding(2, 5)\n",
        "b = embedding(a)\n",
        "b"
      ]
    },
    {
      "cell_type": "code",
      "execution_count": null,
      "metadata": {
        "id": "ovprCd152wjK",
        "outputId": "e743e5cd-c45c-4d16-936a-9815650b55e3"
      },
      "outputs": [
        {
          "data": {
            "text/plain": [
              "torch.Size([1, 5])"
            ]
          },
          "execution_count": 98,
          "metadata": {},
          "output_type": "execute_result"
        }
      ],
      "source": [
        "b.shape"
      ]
    },
    {
      "cell_type": "code",
      "execution_count": null,
      "metadata": {
        "id": "PxSE7np52wjK",
        "outputId": "a39f5229-5799-4fcd-b267-3a9247cb8ec8"
      },
      "outputs": [
        {
          "data": {
            "text/plain": [
              "tensor([[-1.9749, -0.7586,  1.4398,  0.5521, -0.9233]],\n",
              "       grad_fn=<EmbeddingBackward0>)"
            ]
          },
          "execution_count": 107,
          "metadata": {},
          "output_type": "execute_result"
        }
      ],
      "source": [
        "a = torch.LongTensor([0])\n",
        "embedding = torch.nn.Embedding(2, 5)\n",
        "b = embedding(a)\n",
        "b"
      ]
    },
    {
      "cell_type": "code",
      "execution_count": null,
      "metadata": {
        "id": "iAncYRLY2wjK",
        "outputId": "f345edbe-a9c2-40e5-9741-545af7e28cc9"
      },
      "outputs": [
        {
          "data": {
            "text/plain": [
              "tensor([[[0.0580, 0.5820, 0.9879],\n",
              "         [0.8315, 0.5699, 0.0161],\n",
              "         [0.4875, 0.5510, 0.1167],\n",
              "         [0.8401, 0.6876, 0.5747]]])"
            ]
          },
          "execution_count": 113,
          "metadata": {},
          "output_type": "execute_result"
        }
      ],
      "source": [
        "import torch.nn.functional as F\n",
        "import torch\n",
        "\n",
        "input = torch.tensor([[1,2,4,5]])\n",
        "weights = torch.rand(10, 3)\n",
        "F.embedding(input, weights)"
      ]
    },
    {
      "cell_type": "code",
      "execution_count": null,
      "metadata": {
        "id": "ZQinLEPJ2wjK",
        "outputId": "d949f6fa-7b1e-4a83-e986-04af5da12815"
      },
      "outputs": [
        {
          "data": {
            "text/plain": [
              "torch.Size([1, 4, 3])"
            ]
          },
          "execution_count": 114,
          "metadata": {},
          "output_type": "execute_result"
        }
      ],
      "source": [
        "F.embedding(input, weights).shape"
      ]
    },
    {
      "cell_type": "code",
      "execution_count": null,
      "metadata": {
        "id": "A3fg6N7J2wjK",
        "outputId": "065c0f99-5c0c-4912-d8e0-8fcbf50a7dca"
      },
      "outputs": [
        {
          "data": {
            "text/plain": [
              "tensor([[1, 0, 0],\n",
              "        [0, 1, 0],\n",
              "        [0, 0, 1],\n",
              "        [1, 0, 0],\n",
              "        [0, 1, 0]])"
            ]
          },
          "execution_count": 115,
          "metadata": {},
          "output_type": "execute_result"
        }
      ],
      "source": [
        "F.one_hot(torch.arange(0, 5) % 3)"
      ]
    },
    {
      "cell_type": "code",
      "execution_count": null,
      "metadata": {
        "id": "c05_NMEK2wjK",
        "outputId": "5614c167-fdbf-438a-c2fd-6f74f267e67b"
      },
      "outputs": [
        {
          "data": {
            "text/plain": [
              "tensor([[1, 0, 0],\n",
              "        [0, 1, 0],\n",
              "        [0, 0, 1],\n",
              "        [1, 0, 0],\n",
              "        [0, 1, 0]])"
            ]
          },
          "execution_count": 119,
          "metadata": {},
          "output_type": "execute_result"
        }
      ],
      "source": [
        "F.one_hot(torch.arange(0, 5) % 3)"
      ]
    },
    {
      "cell_type": "code",
      "execution_count": null,
      "metadata": {
        "id": "hr4WpHvw2wjK",
        "outputId": "aea0247e-7428-4d4c-dc46-4f5932661c8e"
      },
      "outputs": [
        {
          "ename": "TypeError",
          "evalue": "one_hot(): argument 'input' (position 1) must be Tensor, not numpy.ndarray",
          "output_type": "error",
          "traceback": [
            "\u001b[0;31m---------------------------------------------------------------------------\u001b[0m",
            "\u001b[0;31mTypeError\u001b[0m                                 Traceback (most recent call last)",
            "Input \u001b[0;32mIn [122]\u001b[0m, in \u001b[0;36m<module>\u001b[0;34m\u001b[0m\n\u001b[0;32m----> 1\u001b[0m \u001b[43mF\u001b[49m\u001b[38;5;241;43m.\u001b[39;49m\u001b[43mone_hot\u001b[49m\u001b[43m(\u001b[49m\u001b[43mdf_data\u001b[49m\u001b[43m[\u001b[49m\u001b[38;5;124;43m\"\u001b[39;49m\u001b[38;5;124;43mQUALITY\u001b[39;49m\u001b[38;5;124;43m\"\u001b[39;49m\u001b[43m]\u001b[49m\u001b[38;5;241;43m.\u001b[39;49m\u001b[43mvalues\u001b[49m\u001b[43m)\u001b[49m\n",
            "\u001b[0;31mTypeError\u001b[0m: one_hot(): argument 'input' (position 1) must be Tensor, not numpy.ndarray"
          ]
        }
      ],
      "source": [
        "F.one_hot(df_data[\"QUALITY\"].values)"
      ]
    },
    {
      "cell_type": "code",
      "execution_count": null,
      "metadata": {
        "id": "r2mIhHu72wjK",
        "outputId": "35eac15a-7327-4675-b850-2560283fd100"
      },
      "outputs": [
        {
          "data": {
            "text/plain": [
              "['-1', '001', 'DES', 'MAN', 'CTB', 1.0, 'TWN', 'RAN']"
            ]
          },
          "execution_count": 193,
          "metadata": {},
          "output_type": "execute_result"
        }
      ],
      "source": [
        "list(df_data[\"STYLE\"].unique())"
      ]
    },
    {
      "cell_type": "code",
      "execution_count": null,
      "metadata": {
        "id": "nWUS7cYo2wjK",
        "outputId": "1c0f931d-d67c-4e97-f4c5-87be3a80b817"
      },
      "outputs": [
        {
          "data": {
            "text/plain": [
              "['-1', 'QAV', 'QFA', 'QGO', 'QVV', 'QPO', 'QEX']"
            ]
          },
          "execution_count": 194,
          "metadata": {},
          "output_type": "execute_result"
        }
      ],
      "source": [
        "labels"
      ]
    },
    {
      "cell_type": "code",
      "execution_count": null,
      "metadata": {
        "id": "E7jgcloQ2wjK",
        "outputId": "7a381042-2cd9-4084-a8b0-aab016e29745"
      },
      "outputs": [
        {
          "data": {
            "text/plain": [
              "array([0, 0, 0, ..., 1, 1, 4])"
            ]
          },
          "execution_count": 211,
          "metadata": {},
          "output_type": "execute_result"
        }
      ],
      "source": [
        "from sklearn import preprocessing\n",
        "import torch\n",
        "\n",
        "labels = list(df_data[\"STYLE\"].unique())\n",
        "le = preprocessing.LabelEncoder()\n",
        "le.fit_transform(labels)\n",
        "le.transform(df_data[\"STYLE\"])\n",
        "\n",
        "# targets = torch.as_tensor(targets)\n",
        "# targets: tensor([0, 1, 2, 3])"
      ]
    },
    {
      "cell_type": "code",
      "execution_count": null,
      "metadata": {
        "id": "vy0TTHfG2wjK",
        "outputId": "a7806dcd-7a6e-49e6-ccab-096e5b203fec"
      },
      "outputs": [
        {
          "data": {
            "text/plain": [
              "LabelEncoder()"
            ]
          },
          "execution_count": 132,
          "metadata": {},
          "output_type": "execute_result"
        }
      ],
      "source": [
        "le"
      ]
    },
    {
      "cell_type": "code",
      "execution_count": null,
      "metadata": {
        "id": "c27dvuiV2wjL",
        "outputId": "8f5c7f16-29c4-4a7f-8cda-f1fccc07964b"
      },
      "outputs": [
        {
          "data": {
            "text/plain": [
              "tensor([0, 1, 3, 4, 6, 5, 2])"
            ]
          },
          "execution_count": 128,
          "metadata": {},
          "output_type": "execute_result"
        }
      ],
      "source": [
        "targets"
      ]
    },
    {
      "cell_type": "code",
      "execution_count": null,
      "metadata": {
        "id": "Xqwh_F9A2wjL"
      },
      "outputs": [],
      "source": [
        ""
      ]
    }
  ],
  "metadata": {
    "kernelspec": {
      "display_name": "Python 3 (ipykernel)",
      "language": "python",
      "name": "python3"
    },
    "language_info": {
      "codemirror_mode": {
        "name": "ipython",
        "version": 3
      },
      "file_extension": ".py",
      "mimetype": "text/x-python",
      "name": "python",
      "nbconvert_exporter": "python",
      "pygments_lexer": "ipython3",
      "version": "3.8.12"
    },
    "colab": {
      "name": "Corelogic.ipynb",
      "provenance": [],
      "collapsed_sections": [
        "DyAQs_wk2wjJ"
      ]
    }
  },
  "nbformat": 4,
  "nbformat_minor": 0
}