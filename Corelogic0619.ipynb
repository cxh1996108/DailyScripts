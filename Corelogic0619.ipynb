{
  "cells": [
    {
      "cell_type": "markdown",
      "metadata": {
        "id": "view-in-github",
        "colab_type": "text"
      },
      "source": [
        "<a href=\"https://colab.research.google.com/github/cxh1996108/DailyScripts/blob/main/Corelogic0619.ipynb\" target=\"_parent\"><img src=\"https://colab.research.google.com/assets/colab-badge.svg\" alt=\"Open In Colab\"/></a>"
      ]
    },
    {
      "cell_type": "code",
      "execution_count": 4,
      "metadata": {
        "id": "T8FE3F092wi-",
        "colab": {
          "base_uri": "https://localhost:8080/",
          "height": 0
        },
        "outputId": "a4d236ac-fbed-42e3-82e6-eff97f5d2dad"
      },
      "outputs": [
        {
          "output_type": "stream",
          "name": "stdout",
          "text": [
            "Mounted at /content/drive\n"
          ]
        }
      ],
      "source": [
        "# Setting Up the Enivronment\n",
        "import numpy as np\n",
        "import pandas as pd\n",
        "import torch\n",
        "import torch.nn as nn\n",
        "import torch.nn.functional as F\n",
        "import torch.optim as optim\n",
        "import matplotlib.pyplot as plt\n",
        "from sklearn import preprocessing\n",
        "import torch.utils.data as Data\n",
        "from sklearn import metrics\n",
        "import seaborn as sns\n",
        "import time\n",
        "from torch.nn.utils.rnn import pad_sequence, pack_sequence, pack_padded_sequence, pad_packed_sequence\n",
        "from torch.utils.data import Dataset, DataLoader\n",
        "from torch.optim.lr_scheduler import CosineAnnealingLR\n",
        "from google.colab import drive\n",
        "drive.mount('/content/drive')"
      ]
    },
    {
      "cell_type": "code",
      "execution_count": 5,
      "metadata": {
        "colab": {
          "base_uri": "https://localhost:8080/",
          "height": 0
        },
        "id": "UemjmoDJ2wi_",
        "outputId": "292b5c7f-7d05-4b49-9e78-fde07f868cc9"
      },
      "outputs": [
        {
          "output_type": "stream",
          "name": "stdout",
          "text": [
            "\n",
            "CUDA availability:  False\n",
            "\n"
          ]
        }
      ],
      "source": [
        "# Whether GPU is available\n",
        "print('\\nCUDA availability:  %s\\n' % (torch.cuda.is_available()))\n",
        "device = torch.device('cuda:0' if torch.cuda.is_available() else 'cpu')\n",
        "\n",
        "t1 = time.time()"
      ]
    },
    {
      "cell_type": "markdown",
      "metadata": {
        "id": "Gmmt0V_i2wi_"
      },
      "source": [
        "1. match each house in the Tax data to any sales between 2010-2019 in the Deed data. \n",
        "2. restrict the sales data to arms-length transactions and remove all homes purchased by an owner with ‘LLC’ in the name, as they often involve purchases of many units that have sale prices corresponding to the total purchase rather than each unit. \n",
        "3. restrict to houses sold at prices between $10,000 and $25,000,000."
      ]
    },
    {
      "cell_type": "code",
      "execution_count": 7,
      "metadata": {
        "colab": {
          "base_uri": "https://localhost:8080/",
          "height": 0
        },
        "id": "UADsXr-J2wjF",
        "outputId": "aea62923-7249-439f-b854-5fe9a57a62df"
      },
      "outputs": [
        {
          "output_type": "stream",
          "name": "stderr",
          "text": [
            "/usr/local/lib/python3.7/dist-packages/IPython/core/interactiveshell.py:2882: DtypeWarning: Columns (1,11,12,19,33,35,36,38,39,40,44,50,57,105,106,107,112,114,115,143,145,146,147,160,165,166,176) have mixed types.Specify dtype option on import or set low_memory=False.\n",
            "  exec(code_obj, self.user_global_ns, self.user_ns)\n",
            "/usr/local/lib/python3.7/dist-packages/IPython/core/interactiveshell.py:2882: DtypeWarning: Columns (32,50,60,87,92) have mixed types.Specify dtype option on import or set low_memory=False.\n",
            "  exec(code_obj, self.user_global_ns, self.user_ns)\n"
          ]
        }
      ],
      "source": [
        "df_tax = pd.read_csv(\"/content/drive/MyDrive/Colab Notebooks/TAX_201906_VI.csv\")\n",
        "df_deed = pd.read_csv(\"/content/drive/MyDrive/Colab Notebooks/deed_201906_VI.csv\")"
      ]
    },
    {
      "cell_type": "code",
      "execution_count": 8,
      "metadata": {
        "id": "DkZ5jNMi2wjF",
        "outputId": "f795aab9-85ce-4c6b-9334-3d07beda5aa5",
        "colab": {
          "base_uri": "https://localhost:8080/",
          "height": 0
        }
      },
      "outputs": [
        {
          "output_type": "execute_result",
          "data": {
            "text/plain": [
              "{'ABSENTEE_OWNER_STATUS',\n",
              " 'BATCH_ID',\n",
              " 'BATCH_SEQ',\n",
              " 'DOCUMENT_TYPE',\n",
              " 'FIPS',\n",
              " 'LAND_USE',\n",
              " 'MORTGAGE_DATE',\n",
              " 'MORTGAGE_DEED_TYPE',\n",
              " 'MORTGAGE_DUE_DATE',\n",
              " 'MORTGAGE_LOAN_TYPE_CODE',\n",
              " 'MORTGAGE_TERM',\n",
              " 'MORTGAGE_TERM_CODE',\n",
              " 'OWNER_ETAL_INDICATOR',\n",
              " 'OWNER_RELATIONSHIP_TYPE',\n",
              " 'PROPERTY_INDICATOR',\n",
              " 'RESIDENTIAL_MODEL_INDICATOR',\n",
              " 'SALE_CODE',\n",
              " 'SITUS_CARRIER_CODE',\n",
              " 'SITUS_CITY',\n",
              " 'SITUS_DIRECTION',\n",
              " 'SITUS_HOUSE_NUMBER',\n",
              " 'SITUS_HOUSE_NUMBER_PREFIX',\n",
              " 'SITUS_HOUSE_NUMBER_SUFFIX',\n",
              " 'SITUS_MODE',\n",
              " 'SITUS_QUADRANT',\n",
              " 'SITUS_STATE',\n",
              " 'SITUS_STREET_NAME',\n",
              " 'SITUS_ZIP_CODE',\n",
              " 'TITLE_COMPANY_CODE',\n",
              " 'TITLE_COMPANY_NAME',\n",
              " 'TRANSACTION_TYPE'}"
            ]
          },
          "metadata": {},
          "execution_count": 8
        }
      ],
      "source": [
        "set(df_tax.columns) & set(df_deed.columns)"
      ]
    },
    {
      "cell_type": "code",
      "execution_count": 9,
      "metadata": {
        "id": "UBx4WUZn2wjF",
        "outputId": "29bde09e-3b4a-4e08-a302-c459a686fc14",
        "colab": {
          "base_uri": "https://localhost:8080/",
          "height": 0
        }
      },
      "outputs": [
        {
          "output_type": "stream",
          "name": "stdout",
          "text": [
            "(75704, 178)\n",
            "(39122, 97)\n"
          ]
        }
      ],
      "source": [
        "print(df_tax.shape)\n",
        "print(df_deed.shape)"
      ]
    },
    {
      "cell_type": "code",
      "execution_count": 10,
      "metadata": {
        "id": "ou7HpWvs2wjF",
        "colab": {
          "base_uri": "https://localhost:8080/",
          "height": 0
        },
        "outputId": "55a54184-e5f2-4367-c639-cc6c8e97f1b7"
      },
      "outputs": [
        {
          "output_type": "stream",
          "name": "stderr",
          "text": [
            "/usr/local/lib/python3.7/dist-packages/pandas/util/_decorators.py:311: SettingWithCopyWarning: \n",
            "A value is trying to be set on a copy of a slice from a DataFrame\n",
            "\n",
            "See the caveats in the documentation: https://pandas.pydata.org/pandas-docs/stable/user_guide/indexing.html#returning-a-view-versus-a-copy\n",
            "  return func(*args, **kwargs)\n"
          ]
        }
      ],
      "source": [
        "df_merge = pd.merge(df_deed, df_tax, how = \"left\", left_on = \"APN_UNFORMATTED\", right_on = \"UNFORMATTED_APN\")\n",
        "df_merge.dropna(subset = [\"APN_UNFORMATTED\"], inplace = True)\n",
        "df_merge = df_merge[~df_merge['OWNER_FULL_NAME'].str.contains('LLC')]\n",
        "df_merge.dropna(subset = [\"ASSD_TOTAL_VALUE\"], inplace = True)\n",
        "df_merge = df_merge[df_merge[\"ASSD_TOTAL_VALUE\"] >= 10000]\n",
        "df_merge = df_merge[df_merge[\"ASSD_TOTAL_VALUE\"] <= 25000000]"
      ]
    },
    {
      "cell_type": "markdown",
      "metadata": {
        "id": "rnhfgO_o2wjF"
      },
      "source": [
        "Codebook: Property Basic_v2 Residential.xlsx\n",
        "- Mainly consider highlighted values\n",
        "\n",
        "The Tax data include many characteristics of the property, including: \n",
        "- number of bedrooms and bathrooms: 'BEDROOMS'\n",
        "- living, garage, basement, and land square footage: 'LIVING_SQUARE_FEET', 'GARAGE', 'BASEMENT_SQUARE_FEET', 'LAND_SQUARE_FOOTAGE',\n",
        "- the style of the building, when it was built, and whether refurbished: 'STYLE', 'YEAR_BUILT', 'BLDG_IMPV_CODE', ('BLDG_CODE')\n",
        "- a measure of quality (e.g. ‘Fair’): 'QUALITY'\n",
        "- what type of view the property has (e.g., ‘Mountains’) and other ‘location influences’: 'VIEW'\n",
        "- whether the property has a pool: 'POOL'\n",
        "- the type of air conditioning, heating, fuel, framing, walls, sewage, water, roof, and floor; and the precise location: 'AIR_CONDITIONING', 'HEATING', 'FUEL', 'FRAME', 'EXTERIOR_WALLS', 'SEWER', 'WATER', 'ROOF_TYPE', 'FLOOR', 'LOCATION_INFLUENCE'\n",
        "\n",
        "\n",
        "Some of these variables are frequently missing – in all such cases, I replace the missing values with an indicator for missing data. \n",
        "- Here I will use -1 as an indicator for missing values.\n",
        "\n",
        "\n",
        "Discretize continuous variables such as living square footage into deciles.\n",
        "\n",
        "Labels:\n",
        "- TOTAL_VALUE_CALCULATED\n",
        "\n",
        "AlphaNumeric: 'STYLE', 'BLDG_IMPV_CODE', 'QUALITY', 'VIEW', 'AIR_CONDITIONING', 'HEATING', 'FUEL', 'FRAME', 'EXTERIOR_WALLS', 'SEWER', 'WATER', 'ROOF_TYPE', 'FLOOR', 'LOCATION_INFLUENCE'"
      ]
    },
    {
      "cell_type": "code",
      "execution_count": 11,
      "metadata": {
        "id": "wWR4SBsG2wjG"
      },
      "outputs": [],
      "source": [
        "# Remember, don't add 'POOL' here.\n",
        "df_data = df_merge[['TOTAL_VALUE_CALCULATED', 'BEDROOMS', 'LIVING_SQUARE_FEET', 'GARAGE', 'BASEMENT_SQUARE_FEET', 'LAND_SQUARE_FOOTAGE', 'STYLE', 'YEAR_BUILT', 'BLDG_IMPV_CODE', 'QUALITY', 'VIEW', 'AIR_CONDITIONING', 'HEATING', 'FUEL', 'FRAME', 'EXTERIOR_WALLS', 'SEWER', 'WATER', 'ROOF_TYPE', 'FLOOR', 'LOCATION_INFLUENCE']]"
      ]
    },
    {
      "cell_type": "code",
      "execution_count": 12,
      "metadata": {
        "id": "XajTKXKu2wjG",
        "outputId": "c2012d42-e711-4203-eb0f-773bee838f03",
        "colab": {
          "base_uri": "https://localhost:8080/",
          "height": 0
        }
      },
      "outputs": [
        {
          "output_type": "stream",
          "name": "stderr",
          "text": [
            "/usr/local/lib/python3.7/dist-packages/pandas/core/frame.py:3641: SettingWithCopyWarning: \n",
            "A value is trying to be set on a copy of a slice from a DataFrame.\n",
            "Try using .loc[row_indexer,col_indexer] = value instead\n",
            "\n",
            "See the caveats in the documentation: https://pandas.pydata.org/pandas-docs/stable/user_guide/indexing.html#returning-a-view-versus-a-copy\n",
            "  self[k1] = value[k2]\n"
          ]
        }
      ],
      "source": [
        "AlphaNumeric = ['STYLE', 'BLDG_IMPV_CODE', 'QUALITY', 'VIEW', 'AIR_CONDITIONING', 'HEATING', 'FUEL', 'FRAME', 'EXTERIOR_WALLS', 'SEWER', 'WATER', 'ROOF_TYPE', 'FLOOR', 'LOCATION_INFLUENCE']\n",
        "df_data[AlphaNumeric] = df_data[AlphaNumeric].fillna(\"-1\").astype(\"string\")\n",
        "df_data = df_data.fillna(-1)"
      ]
    },
    {
      "cell_type": "code",
      "execution_count": 13,
      "metadata": {
        "id": "hZ9IMKBM2wjG"
      },
      "outputs": [],
      "source": [
        "# Transform all strings into values\n",
        "for col in AlphaNumeric:\n",
        "    labels = list(df_data[col].unique())\n",
        "    le = preprocessing.LabelEncoder()\n",
        "    le.fit_transform(labels)\n",
        "    df_data[col] = le.transform(df_data[col])"
      ]
    },
    {
      "cell_type": "code",
      "execution_count": 14,
      "metadata": {
        "id": "N8jaaAPq2wjG",
        "outputId": "06a658e3-dbd0-45d9-a3ea-99d9eb98ca26",
        "colab": {
          "base_uri": "https://localhost:8080/",
          "height": 283
        }
      },
      "outputs": [
        {
          "output_type": "execute_result",
          "data": {
            "text/plain": [
              "<matplotlib.axes._subplots.AxesSubplot at 0x7f538f4344d0>"
            ]
          },
          "metadata": {},
          "execution_count": 14
        },
        {
          "output_type": "display_data",
          "data": {
            "text/plain": [
              "<Figure size 432x288 with 1 Axes>"
            ],
            "image/png": "[encoded data removed]"
          },
          "metadata": {
            "needs_background": "light"
          }
        }
      ],
      "source": [
        "df_data['LIVING_SQUARE_FEET'].dropna().plot()\n",
        "# pd.qcut(df['ext price'], q=4)"
      ]
    },
    {
      "cell_type": "markdown",
      "metadata": {
        "id": "uckxUjiW2wjG"
      },
      "source": [
        "For sale year, sale month, property type, decade built, decile of living square feet, and whether there is a pool, I encode the values using dummy variables. \n",
        "\n",
        "- Create \"SALE_YEAR\" and \"SALE_MONTH\"\n",
        "- BLDG_CODE: The primary building type (e.g., Bowling Alley, Supermarket).\n",
        "- Create \"DACADE_BUILT\"\n",
        "\n",
        "\"decile of living square feet\"\n",
        "\n",
        "- \"POOL\": whether there is a pool"
      ]
    },
    {
      "cell_type": "code",
      "execution_count": 15,
      "metadata": {
        "id": "GwTXnutD2wjG"
      },
      "outputs": [],
      "source": [
        "df_merge[\"SALE_YEAR\"] = df_merge[\"SALE_DATE\"]//10000\n",
        "df_merge[\"SALE_MONTH\"] = df_merge[\"SALE_DATE\"]//100 - df_merge[\"SALE_YEAR\"]*100\n",
        "df_merge[\"DACADE_BUILT\"] = df_merge[\"YEAR_BUILT\"]//100"
      ]
    },
    {
      "cell_type": "code",
      "execution_count": 16,
      "metadata": {
        "id": "DBuPbhJb2wjH"
      },
      "outputs": [],
      "source": [
        "df_data[['SALE_YEAR', 'SALE_MONTH', 'DACADE_BUILT', 'POOL']] = df_merge[['SALE_YEAR', 'SALE_MONTH', 'DACADE_BUILT', 'POOL']]"
      ]
    },
    {
      "cell_type": "code",
      "execution_count": 17,
      "metadata": {
        "id": "VQ6p998e2wjH"
      },
      "outputs": [],
      "source": [
        "dummy = [\"SALE_YEAR\", \"SALE_MONTH\", \"DACADE_BUILT\", \"POOL\"]\n",
        "for col in dummy:\n",
        "    df_data[col] = df_data[col].fillna(col+\"-1\")"
      ]
    },
    {
      "cell_type": "code",
      "execution_count": 18,
      "metadata": {
        "id": "7XqmZqOE2wjH"
      },
      "outputs": [],
      "source": [
        "for col in dummy:\n",
        "    df_data = df_data.join(pd.get_dummies(df_data[col]))"
      ]
    },
    {
      "cell_type": "code",
      "execution_count": 19,
      "metadata": {
        "id": "jHHuyVlx2wjH",
        "outputId": "ec0549ef-504c-40d4-b4c7-0b73f3230b95",
        "colab": {
          "base_uri": "https://localhost:8080/",
          "height": 505
        }
      },
      "outputs": [
        {
          "output_type": "execute_result",
          "data": {
            "text/plain": [
              "       TOTAL_VALUE_CALCULATED  BEDROOMS  LIVING_SQUARE_FEET  GARAGE  \\\n",
              "0                     68000.0      -1.0                -1.0    -1.0   \n",
              "4                     82000.0      -1.0                -1.0    -1.0   \n",
              "12                    83300.0      -1.0                -1.0    -1.0   \n",
              "15                   204800.0      -1.0                -1.0    -1.0   \n",
              "19                   472700.0      -1.0                -1.0    -1.0   \n",
              "...                       ...       ...                 ...     ...   \n",
              "39115                244700.0       3.0              1400.0    -1.0   \n",
              "39116                221200.0       3.0              1420.0    -1.0   \n",
              "39119                384000.0       3.0              1704.0    -1.0   \n",
              "39120                226800.0       3.0              1260.0    -1.0   \n",
              "39121                537600.0       5.0              6028.0    -1.0   \n",
              "\n",
              "       BASEMENT_SQUARE_FEET  LAND_SQUARE_FOOTAGE  STYLE  YEAR_BUILT  \\\n",
              "0                      -1.0              80150.0      0        -1.0   \n",
              "4                      -1.0              20038.0      0      1970.0   \n",
              "12                     -1.0              21780.0      0      1997.0   \n",
              "15                     -1.0              18661.0      0      1991.0   \n",
              "19                     -1.0            1166101.0      0        -1.0   \n",
              "...                     ...                  ...    ...         ...   \n",
              "39115                  -1.0              48787.0      1      1988.0   \n",
              "39116                  -1.0              10018.0      1      2009.0   \n",
              "39119                  -1.0               6098.0      1      1985.0   \n",
              "39120                  -1.0              15522.0      1      1975.0   \n",
              "39121                  -1.0              25265.0      4      2003.0   \n",
              "\n",
              "       BLDG_IMPV_CODE  QUALITY  ...  9.0  10.0  11.0  12.0  SALE_MONTH-1  \\\n",
              "0                   0        0  ...    0     1     0     0             0   \n",
              "4                   0        1  ...    1     0     0     0             0   \n",
              "12                  0        3  ...    0     0     0     0             1   \n",
              "15                  0        3  ...    0     0     0     0             1   \n",
              "19                  0        0  ...    1     0     0     0             0   \n",
              "...               ...      ...  ...  ...   ...   ...   ...           ...   \n",
              "39115               0        1  ...    0     0     0     0             1   \n",
              "39116               0        4  ...    0     0     0     0             0   \n",
              "39119               0        1  ...    0     1     0     0             0   \n",
              "39120               0        1  ...    0     0     0     0             0   \n",
              "39121               0        2  ...    0     0     0     0             0   \n",
              "\n",
              "       18.0  19.0  20.0  DACADE_BUILT-1  POOL-1  \n",
              "0         0     0     0               1       1  \n",
              "4         0     1     0               0       1  \n",
              "12        0     1     0               0       1  \n",
              "15        0     1     0               0       1  \n",
              "19        0     0     0               1       1  \n",
              "...     ...   ...   ...             ...     ...  \n",
              "39115     0     1     0               0       1  \n",
              "39116     0     0     1               0       1  \n",
              "39119     0     1     0               0       1  \n",
              "39120     0     1     0               0       1  \n",
              "39121     0     0     1               0       1  \n",
              "\n",
              "[24001 rows x 68 columns]"
            ],
            "text/html": [
              "\n",
              "  <div id=\"df-6b698dd4-f26a-4def-91bc-661beb7a2574\">\n",
              "    <div class=\"colab-df-container\">\n",
              "      <div>\n",
              "<style scoped>\n",
              "    .dataframe tbody tr th:only-of-type {\n",
              "        vertical-align: middle;\n",
              "    }\n",
              "\n",
              "    .dataframe tbody tr th {\n",
              "        vertical-align: top;\n",
              "    }\n",
              "\n",
              "    .dataframe thead th {\n",
              "        text-align: right;\n",
              "    }\n",
              "</style>\n",
              "<table border=\"1\" class=\"dataframe\">\n",
              "  <thead>\n",
              "    <tr style=\"text-align: right;\">\n",
              "      <th></th>\n",
              "      <th>TOTAL_VALUE_CALCULATED</th>\n",
              "      <th>BEDROOMS</th>\n",
              "      <th>LIVING_SQUARE_FEET</th>\n",
              "      <th>GARAGE</th>\n",
              "      <th>BASEMENT_SQUARE_FEET</th>\n",
              "      <th>LAND_SQUARE_FOOTAGE</th>\n",
              "      <th>STYLE</th>\n",
              "      <th>YEAR_BUILT</th>\n",
              "      <th>BLDG_IMPV_CODE</th>\n",
              "      <th>QUALITY</th>\n",
              "      <th>...</th>\n",
              "      <th>9.0</th>\n",
              "      <th>10.0</th>\n",
              "      <th>11.0</th>\n",
              "      <th>12.0</th>\n",
              "      <th>SALE_MONTH-1</th>\n",
              "      <th>18.0</th>\n",
              "      <th>19.0</th>\n",
              "      <th>20.0</th>\n",
              "      <th>DACADE_BUILT-1</th>\n",
              "      <th>POOL-1</th>\n",
              "    </tr>\n",
              "  </thead>\n",
              "  <tbody>\n",
              "    <tr>\n",
              "      <th>0</th>\n",
              "      <td>68000.0</td>\n",
              "      <td>-1.0</td>\n",
              "      <td>-1.0</td>\n",
              "      <td>-1.0</td>\n",
              "      <td>-1.0</td>\n",
              "      <td>80150.0</td>\n",
              "      <td>0</td>\n",
              "      <td>-1.0</td>\n",
              "      <td>0</td>\n",
              "      <td>0</td>\n",
              "      <td>...</td>\n",
              "      <td>0</td>\n",
              "      <td>1</td>\n",
              "      <td>0</td>\n",
              "      <td>0</td>\n",
              "      <td>0</td>\n",
              "      <td>0</td>\n",
              "      <td>0</td>\n",
              "      <td>0</td>\n",
              "      <td>1</td>\n",
              "      <td>1</td>\n",
              "    </tr>\n",
              "    <tr>\n",
              "      <th>4</th>\n",
              "      <td>82000.0</td>\n",
              "      <td>-1.0</td>\n",
              "      <td>-1.0</td>\n",
              "      <td>-1.0</td>\n",
              "      <td>-1.0</td>\n",
              "      <td>20038.0</td>\n",
              "      <td>0</td>\n",
              "      <td>1970.0</td>\n",
              "      <td>0</td>\n",
              "      <td>1</td>\n",
              "      <td>...</td>\n",
              "      <td>1</td>\n",
              "      <td>0</td>\n",
              "      <td>0</td>\n",
              "      <td>0</td>\n",
              "      <td>0</td>\n",
              "      <td>0</td>\n",
              "      <td>1</td>\n",
              "      <td>0</td>\n",
              "      <td>0</td>\n",
              "      <td>1</td>\n",
              "    </tr>\n",
              "    <tr>\n",
              "      <th>12</th>\n",
              "      <td>83300.0</td>\n",
              "      <td>-1.0</td>\n",
              "      <td>-1.0</td>\n",
              "      <td>-1.0</td>\n",
              "      <td>-1.0</td>\n",
              "      <td>21780.0</td>\n",
              "      <td>0</td>\n",
              "      <td>1997.0</td>\n",
              "      <td>0</td>\n",
              "      <td>3</td>\n",
              "      <td>...</td>\n",
              "      <td>0</td>\n",
              "      <td>0</td>\n",
              "      <td>0</td>\n",
              "      <td>0</td>\n",
              "      <td>1</td>\n",
              "      <td>0</td>\n",
              "      <td>1</td>\n",
              "      <td>0</td>\n",
              "      <td>0</td>\n",
              "      <td>1</td>\n",
              "    </tr>\n",
              "    <tr>\n",
              "      <th>15</th>\n",
              "      <td>204800.0</td>\n",
              "      <td>-1.0</td>\n",
              "      <td>-1.0</td>\n",
              "      <td>-1.0</td>\n",
              "      <td>-1.0</td>\n",
              "      <td>18661.0</td>\n",
              "      <td>0</td>\n",
              "      <td>1991.0</td>\n",
              "      <td>0</td>\n",
              "      <td>3</td>\n",
              "      <td>...</td>\n",
              "      <td>0</td>\n",
              "      <td>0</td>\n",
              "      <td>0</td>\n",
              "      <td>0</td>\n",
              "      <td>1</td>\n",
              "      <td>0</td>\n",
              "      <td>1</td>\n",
              "      <td>0</td>\n",
              "      <td>0</td>\n",
              "      <td>1</td>\n",
              "    </tr>\n",
              "    <tr>\n",
              "      <th>19</th>\n",
              "      <td>472700.0</td>\n",
              "      <td>-1.0</td>\n",
              "      <td>-1.0</td>\n",
              "      <td>-1.0</td>\n",
              "      <td>-1.0</td>\n",
              "      <td>1166101.0</td>\n",
              "      <td>0</td>\n",
              "      <td>-1.0</td>\n",
              "      <td>0</td>\n",
              "      <td>0</td>\n",
              "      <td>...</td>\n",
              "      <td>1</td>\n",
              "      <td>0</td>\n",
              "      <td>0</td>\n",
              "      <td>0</td>\n",
              "      <td>0</td>\n",
              "      <td>0</td>\n",
              "      <td>0</td>\n",
              "      <td>0</td>\n",
              "      <td>1</td>\n",
              "      <td>1</td>\n",
              "    </tr>\n",
              "    <tr>\n",
              "      <th>...</th>\n",
              "      <td>...</td>\n",
              "      <td>...</td>\n",
              "      <td>...</td>\n",
              "      <td>...</td>\n",
              "      <td>...</td>\n",
              "      <td>...</td>\n",
              "      <td>...</td>\n",
              "      <td>...</td>\n",
              "      <td>...</td>\n",
              "      <td>...</td>\n",
              "      <td>...</td>\n",
              "      <td>...</td>\n",
              "      <td>...</td>\n",
              "      <td>...</td>\n",
              "      <td>...</td>\n",
              "      <td>...</td>\n",
              "      <td>...</td>\n",
              "      <td>...</td>\n",
              "      <td>...</td>\n",
              "      <td>...</td>\n",
              "      <td>...</td>\n",
              "    </tr>\n",
              "    <tr>\n",
              "      <th>39115</th>\n",
              "      <td>244700.0</td>\n",
              "      <td>3.0</td>\n",
              "      <td>1400.0</td>\n",
              "      <td>-1.0</td>\n",
              "      <td>-1.0</td>\n",
              "      <td>48787.0</td>\n",
              "      <td>1</td>\n",
              "      <td>1988.0</td>\n",
              "      <td>0</td>\n",
              "      <td>1</td>\n",
              "      <td>...</td>\n",
              "      <td>0</td>\n",
              "      <td>0</td>\n",
              "      <td>0</td>\n",
              "      <td>0</td>\n",
              "      <td>1</td>\n",
              "      <td>0</td>\n",
              "      <td>1</td>\n",
              "      <td>0</td>\n",
              "      <td>0</td>\n",
              "      <td>1</td>\n",
              "    </tr>\n",
              "    <tr>\n",
              "      <th>39116</th>\n",
              "      <td>221200.0</td>\n",
              "      <td>3.0</td>\n",
              "      <td>1420.0</td>\n",
              "      <td>-1.0</td>\n",
              "      <td>-1.0</td>\n",
              "      <td>10018.0</td>\n",
              "      <td>1</td>\n",
              "      <td>2009.0</td>\n",
              "      <td>0</td>\n",
              "      <td>4</td>\n",
              "      <td>...</td>\n",
              "      <td>0</td>\n",
              "      <td>0</td>\n",
              "      <td>0</td>\n",
              "      <td>0</td>\n",
              "      <td>0</td>\n",
              "      <td>0</td>\n",
              "      <td>0</td>\n",
              "      <td>1</td>\n",
              "      <td>0</td>\n",
              "      <td>1</td>\n",
              "    </tr>\n",
              "    <tr>\n",
              "      <th>39119</th>\n",
              "      <td>384000.0</td>\n",
              "      <td>3.0</td>\n",
              "      <td>1704.0</td>\n",
              "      <td>-1.0</td>\n",
              "      <td>-1.0</td>\n",
              "      <td>6098.0</td>\n",
              "      <td>1</td>\n",
              "      <td>1985.0</td>\n",
              "      <td>0</td>\n",
              "      <td>1</td>\n",
              "      <td>...</td>\n",
              "      <td>0</td>\n",
              "      <td>1</td>\n",
              "      <td>0</td>\n",
              "      <td>0</td>\n",
              "      <td>0</td>\n",
              "      <td>0</td>\n",
              "      <td>1</td>\n",
              "      <td>0</td>\n",
              "      <td>0</td>\n",
              "      <td>1</td>\n",
              "    </tr>\n",
              "    <tr>\n",
              "      <th>39120</th>\n",
              "      <td>226800.0</td>\n",
              "      <td>3.0</td>\n",
              "      <td>1260.0</td>\n",
              "      <td>-1.0</td>\n",
              "      <td>-1.0</td>\n",
              "      <td>15522.0</td>\n",
              "      <td>1</td>\n",
              "      <td>1975.0</td>\n",
              "      <td>0</td>\n",
              "      <td>1</td>\n",
              "      <td>...</td>\n",
              "      <td>0</td>\n",
              "      <td>0</td>\n",
              "      <td>0</td>\n",
              "      <td>0</td>\n",
              "      <td>0</td>\n",
              "      <td>0</td>\n",
              "      <td>1</td>\n",
              "      <td>0</td>\n",
              "      <td>0</td>\n",
              "      <td>1</td>\n",
              "    </tr>\n",
              "    <tr>\n",
              "      <th>39121</th>\n",
              "      <td>537600.0</td>\n",
              "      <td>5.0</td>\n",
              "      <td>6028.0</td>\n",
              "      <td>-1.0</td>\n",
              "      <td>-1.0</td>\n",
              "      <td>25265.0</td>\n",
              "      <td>4</td>\n",
              "      <td>2003.0</td>\n",
              "      <td>0</td>\n",
              "      <td>2</td>\n",
              "      <td>...</td>\n",
              "      <td>0</td>\n",
              "      <td>0</td>\n",
              "      <td>0</td>\n",
              "      <td>0</td>\n",
              "      <td>0</td>\n",
              "      <td>0</td>\n",
              "      <td>0</td>\n",
              "      <td>1</td>\n",
              "      <td>0</td>\n",
              "      <td>1</td>\n",
              "    </tr>\n",
              "  </tbody>\n",
              "</table>\n",
              "<p>24001 rows × 68 columns</p>\n",
              "</div>\n",
              "      <button class=\"colab-df-convert\" onclick=\"convertToInteractive('df-6b698dd4-f26a-4def-91bc-661beb7a2574')\"\n",
              "              title=\"Convert this dataframe to an interactive table.\"\n",
              "              style=\"display:none;\">\n",
              "        \n",
              "  <svg xmlns=\"http://www.w3.org/2000/svg\" height=\"24px\"viewBox=\"0 0 24 24\"\n",
              "       width=\"24px\">\n",
              "    <path d=\"M0 0h24v24H0V0z\" fill=\"none\"/>\n",
              "    <path d=\"M18.56 5.44l.94 2.06.94-2.06 2.06-.94-2.06-.94-.94-2.06-.94 2.06-2.06.94zm-11 1L8.5 8.5l.94-2.06 2.06-.94-2.06-.94L8.5 2.5l-.94 2.06-2.06.94zm10 10l.94 2.06.94-2.06 2.06-.94-2.06-.94-.94-2.06-.94 2.06-2.06.94z\"/><path d=\"M17.41 7.96l-1.37-1.37c-.4-.4-.92-.59-1.43-.59-.52 0-1.04.2-1.43.59L10.3 9.45l-7.72 7.72c-.78.78-.78 2.05 0 2.83L4 21.41c.39.39.9.59 1.41.59.51 0 1.02-.2 1.41-.59l7.78-7.78 2.81-2.81c.8-.78.8-2.07 0-2.86zM5.41 20L4 18.59l7.72-7.72 1.47 1.35L5.41 20z\"/>\n",
              "  </svg>\n",
              "      </button>\n",
              "      \n",
              "  <style>\n",
              "    .colab-df-container {\n",
              "      display:flex;\n",
              "      flex-wrap:wrap;\n",
              "      gap: 12px;\n",
              "    }\n",
              "\n",
              "    .colab-df-convert {\n",
              "      background-color: #E8F0FE;\n",
              "      border: none;\n",
              "      border-radius: 50%;\n",
              "      cursor: pointer;\n",
              "      display: none;\n",
              "      fill: #1967D2;\n",
              "      height: 32px;\n",
              "      padding: 0 0 0 0;\n",
              "      width: 32px;\n",
              "    }\n",
              "\n",
              "    .colab-df-convert:hover {\n",
              "      background-color: #E2EBFA;\n",
              "      box-shadow: 0px 1px 2px rgba(60, 64, 67, 0.3), 0px 1px 3px 1px rgba(60, 64, 67, 0.15);\n",
              "      fill: #174EA6;\n",
              "    }\n",
              "\n",
              "    [theme=dark] .colab-df-convert {\n",
              "      background-color: #3B4455;\n",
              "      fill: #D2E3FC;\n",
              "    }\n",
              "\n",
              "    [theme=dark] .colab-df-convert:hover {\n",
              "      background-color: #434B5C;\n",
              "      box-shadow: 0px 1px 3px 1px rgba(0, 0, 0, 0.15);\n",
              "      filter: drop-shadow(0px 1px 2px rgba(0, 0, 0, 0.3));\n",
              "      fill: #FFFFFF;\n",
              "    }\n",
              "  </style>\n",
              "\n",
              "      <script>\n",
              "        const buttonEl =\n",
              "          document.querySelector('#df-6b698dd4-f26a-4def-91bc-661beb7a2574 button.colab-df-convert');\n",
              "        buttonEl.style.display =\n",
              "          google.colab.kernel.accessAllowed ? 'block' : 'none';\n",
              "\n",
              "        async function convertToInteractive(key) {\n",
              "          const element = document.querySelector('#df-6b698dd4-f26a-4def-91bc-661beb7a2574');\n",
              "          const dataTable =\n",
              "            await google.colab.kernel.invokeFunction('convertToInteractive',\n",
              "                                                     [key], {});\n",
              "          if (!dataTable) return;\n",
              "\n",
              "          const docLinkHtml = 'Like what you see? Visit the ' +\n",
              "            '<a target=\"_blank\" href=https://colab.research.google.com/notebooks/data_table.ipynb>data table notebook</a>'\n",
              "            + ' to learn more about interactive tables.';\n",
              "          element.innerHTML = '';\n",
              "          dataTable['output_type'] = 'display_data';\n",
              "          await google.colab.output.renderOutput(dataTable, element);\n",
              "          const docLink = document.createElement('div');\n",
              "          docLink.innerHTML = docLinkHtml;\n",
              "          element.appendChild(docLink);\n",
              "        }\n",
              "      </script>\n",
              "    </div>\n",
              "  </div>\n",
              "  "
            ]
          },
          "metadata": {},
          "execution_count": 19
        }
      ],
      "source": [
        "df_data = df_data.drop(dummy, axis = 1)\n",
        "df_data"
      ]
    },
    {
      "cell_type": "code",
      "execution_count": 20,
      "metadata": {
        "id": "nikEhcFg2wjH",
        "outputId": "d7fd63d5-244d-403d-d5a3-1cba07377b73",
        "colab": {
          "base_uri": "https://localhost:8080/",
          "height": 0
        }
      },
      "outputs": [
        {
          "output_type": "execute_result",
          "data": {
            "text/plain": [
              "Index(['TOTAL_VALUE_CALCULATED',               'BEDROOMS',\n",
              "           'LIVING_SQUARE_FEET',                 'GARAGE',\n",
              "         'BASEMENT_SQUARE_FEET',    'LAND_SQUARE_FOOTAGE',\n",
              "                        'STYLE',             'YEAR_BUILT',\n",
              "               'BLDG_IMPV_CODE',                'QUALITY',\n",
              "                         'VIEW',       'AIR_CONDITIONING',\n",
              "                      'HEATING',                   'FUEL',\n",
              "                        'FRAME',         'EXTERIOR_WALLS',\n",
              "                        'SEWER',                  'WATER',\n",
              "                    'ROOF_TYPE',                  'FLOOR',\n",
              "           'LOCATION_INFLUENCE',                   1969.0,\n",
              "                         1974.0,                   1986.0,\n",
              "                         1990.0,                   1995.0,\n",
              "                         1996.0,                   1997.0,\n",
              "                         1999.0,                   2000.0,\n",
              "                         2001.0,                   2002.0,\n",
              "                         2003.0,                   2004.0,\n",
              "                         2005.0,                   2006.0,\n",
              "                         2007.0,                   2008.0,\n",
              "                         2009.0,                   2010.0,\n",
              "                         2011.0,                   2012.0,\n",
              "                         2013.0,                   2014.0,\n",
              "                         2015.0,                   2016.0,\n",
              "                         2017.0,                   2018.0,\n",
              "                         2019.0,            'SALE_YEAR-1',\n",
              "                            1.0,                      2.0,\n",
              "                            3.0,                      4.0,\n",
              "                            5.0,                      6.0,\n",
              "                            7.0,                      8.0,\n",
              "                            9.0,                     10.0,\n",
              "                           11.0,                     12.0,\n",
              "                 'SALE_MONTH-1',                     18.0,\n",
              "                           19.0,                     20.0,\n",
              "               'DACADE_BUILT-1',                 'POOL-1'],\n",
              "      dtype='object')"
            ]
          },
          "metadata": {},
          "execution_count": 20
        }
      ],
      "source": [
        "df_data.columns"
      ]
    },
    {
      "cell_type": "markdown",
      "metadata": {
        "id": "ULcOMa3o2wjH"
      },
      "source": [
        "For the remaining characteristics described above, I use embeddings."
      ]
    },
    {
      "cell_type": "markdown",
      "metadata": {
        "id": "U9YU_I5H2wjH"
      },
      "source": [
        "define the embeddings to have dimensionality of half the number of unique values of a column, with a\n",
        "max of 500. I also use embeddings for the Census tract in which the house is located. By using embeddings, the model can ‘discover’ that two tracts (perhaps sharing a border) are quite similar;\n",
        "if the tracts are similar in their e ects on sales, they will be close in the embedding space as well\n",
        "(i.e. their embedding vectors will have similar values)."
      ]
    },
    {
      "cell_type": "code",
      "execution_count": 21,
      "metadata": {
        "id": "8-_LmdBw2wjI",
        "outputId": "a26d442d-9951-4725-9fca-f20c7038b1af",
        "colab": {
          "base_uri": "https://localhost:8080/",
          "height": 89
        }
      },
      "outputs": [
        {
          "output_type": "stream",
          "name": "stdout",
          "text": [
            "train_size is 16800\n",
            "test_size is 7201\n"
          ]
        },
        {
          "output_type": "execute_result",
          "data": {
            "text/plain": [
              "'\\n# Add validation set\\nvalid_size = int(len(trainset) * 0.2)\\ntrain_size = len(trainset) - valid_size\\ntrainset, validset = torch.utils.data.random_split(trainset, [train_size, valid_size], generator=torch.Generator().manual_seed(42))\\n'"
            ],
            "application/vnd.google.colaboratory.intrinsic+json": {
              "type": "string"
            }
          },
          "metadata": {},
          "execution_count": 21
        }
      ],
      "source": [
        "class Corelogic_Dataset(Dataset):\n",
        "    def __init__(self, labels, features):  \n",
        "        self.labels = labels\n",
        "        self.features = features\n",
        "        self.len = len(labels)\n",
        "\n",
        "    def __getitem__(self, index):\n",
        "        label = torch.tensor(self.labels[index])\n",
        "        feature = self.features[index]\n",
        "        return feature, label\n",
        "    \n",
        "    def __len__(self):\n",
        "        return self.len\n",
        "\n",
        "dataset = Corelogic_Dataset(torch.tensor(np.array(df_data.iloc[:, 0])), torch.tensor(np.array(df_data.iloc[:, 1:])))\n",
        "\n",
        "# Split dateset into training set and test set\n",
        "train_size = int(len(dataset) * 0.7)\n",
        "test_size = len(dataset) - train_size\n",
        "trainset, testset = torch.utils.data.random_split(dataset, [train_size, test_size], generator=torch.Generator().manual_seed(42))\n",
        "\n",
        "print(\"train_size is\", train_size)\n",
        "print(\"test_size is\", test_size)\n",
        "\n",
        "'''\n",
        "# Add validation set\n",
        "valid_size = int(len(trainset) * 0.2)\n",
        "train_size = len(trainset) - valid_size\n",
        "trainset, validset = torch.utils.data.random_split(trainset, [train_size, valid_size], generator=torch.Generator().manual_seed(42))\n",
        "'''\n",
        "\n",
        "\n",
        "\n"
      ]
    },
    {
      "cell_type": "code",
      "source": [
        "dataset.labels[0]"
      ],
      "metadata": {
        "colab": {
          "base_uri": "https://localhost:8080/",
          "height": 0
        },
        "id": "ozcLkUAhIqAQ",
        "outputId": "f903aa21-40bd-401f-f7b2-7d7e76aa4c7d"
      },
      "execution_count": 22,
      "outputs": [
        {
          "output_type": "execute_result",
          "data": {
            "text/plain": [
              "tensor(68000., dtype=torch.float64)"
            ]
          },
          "metadata": {},
          "execution_count": 22
        }
      ]
    },
    {
      "cell_type": "code",
      "execution_count": 23,
      "metadata": {
        "id": "noT81GI32wjI"
      },
      "outputs": [],
      "source": [
        "# Hyperparameters\n",
        "batch_size = 16\n",
        "epochs = 10"
      ]
    },
    {
      "cell_type": "code",
      "execution_count": 24,
      "metadata": {
        "id": "eZC_Z35k2wjI"
      },
      "outputs": [],
      "source": [
        "# Load datasets\n",
        "train_loader = torch.utils.data.DataLoader(dataset = trainset, batch_size = batch_size, shuffle = False) # shuffle has to be False\n",
        "test_loader = torch.utils.data.DataLoader(dataset = testset, batch_size = batch_size, shuffle = False) # shuffle has to be False\n",
        "# valid_loader = torch.utils.data.DataLoader(dataset = validset, batch_size = batch_size, shuffle = False) # shuffle has to be False\n"
      ]
    },
    {
      "cell_type": "markdown",
      "metadata": {
        "tags": [],
        "id": "An6zmiVx2wjI"
      },
      "source": [
        "# Model architecture from the paper"
      ]
    },
    {
      "cell_type": "code",
      "execution_count": null,
      "metadata": {
        "id": "bxix3X392wjI"
      },
      "outputs": [],
      "source": [
        "![](https://drive.google.com/uc?export=view&id=XXX)"
      ]
    },
    {
      "cell_type": "markdown",
      "source": [
        "![](/content/Model architecture.jpg）"
      ],
      "metadata": {
        "id": "4FPsyBzt4jDe"
      }
    },
    {
      "cell_type": "code",
      "execution_count": 25,
      "metadata": {
        "id": "BHJujkJK2wjI"
      },
      "outputs": [],
      "source": [
        "# DNN\n",
        "class DNN(nn.Module):\n",
        "    def __init__(self, input_dim, batch_first = True):\n",
        "        super(DNN, self).__init__()\n",
        "        self.fc1 = nn.Linear(input_dim, 2500)\n",
        "        self.fc1_bn = nn.BatchNorm1d(2500)\n",
        "        \n",
        "        self.fc2 = nn.Linear(2500, 1500)\n",
        "        self.fc2_bn = nn.BatchNorm1d(1500)\n",
        "        \n",
        "        self.fc3 = nn.Linear(1500, 500)\n",
        "        self.fc3_bn = nn.BatchNorm1d(500)\n",
        "        \n",
        "        self.fc4 = nn.Linear(500, 100)\n",
        "        self.fc4_bn = nn.BatchNorm1d(100)\n",
        "        \n",
        "        self.fc5 = nn.Linear(100, 1) # 50\n",
        "        self.fc5_bn = nn.BatchNorm1d(1) # 50\n",
        "        \n",
        "        # self.dropout = nn.Dropout(0.25)\n",
        "        self.sigmoid = nn.Sigmoid()\n",
        "\n",
        "    def forward(self,x):\n",
        "        x = self.fc1_bn(F.relu(self.fc1(x)))\n",
        "        x = self.fc2_bn(F.relu(self.fc2(x)))\n",
        "        x = self.fc3_bn(F.relu(self.fc3(x)))\n",
        "        x = self.fc4_bn(F.relu(self.fc4(x)))\n",
        "        output = self.fc5_bn(F.relu(self.fc5(x)))\n",
        "        # output = self.sigmoid(x)\n",
        "        \n",
        "        return output"
      ]
    },
    {
      "cell_type": "markdown",
      "metadata": {
        "id": "OPvfeMKp2wjJ"
      },
      "source": [
        "The Tax data include many characteristics of the property, including: number of bedrooms\n",
        "and bathrooms; living, garage, basement, and land square footage; the style of the building, when\n",
        "it was built, and whether refurbished; a measure of quality (e.g. ‘Fair’); what type of view the\n",
        "property has (e.g., ‘Mountains’) and other ‘location influences’; whether the property has a pool;\n",
        "the type of air conditioning, heating, fuel, framing, walls, sewage, water, roof, and floor; and the\n",
        "precise location. Some of these variables are frequently missing – in all such cases, I replace the\n",
        "missing values with an indicator for missing data. I also discretize continuous variables such as\n",
        "living square footage into deciles."
      ]
    },
    {
      "cell_type": "code",
      "execution_count": 26,
      "metadata": {
        "id": "2EQI560h2wjJ"
      },
      "outputs": [],
      "source": [
        "num_features = df_data.shape[1] - 1\n",
        "# Model Initialization\n",
        "input_dim = num_features\n",
        "output_dim = 1"
      ]
    },
    {
      "cell_type": "code",
      "source": [
        ""
      ],
      "metadata": {
        "id": "ga1eVpzS7eSV"
      },
      "execution_count": 26,
      "outputs": []
    },
    {
      "cell_type": "markdown",
      "source": [
        "I use an Adam optimizer with a cosine\n",
        "annealing learning rate, such that the learning rates starts high and then decreases following a\n",
        "half-cosine curve. https://pytorch.org/docs/stable/generated/torch.optim.lr_scheduler.CosineAnnealingLR.html"
      ],
      "metadata": {
        "id": "BM0R5VdW7e1i"
      }
    },
    {
      "cell_type": "code",
      "source": [
        "'''\n",
        "# early stopping patience; how long to wait after last time validation loss improved.\n",
        "patience = 20\n",
        "# initialize the early_stopping object\n",
        "early_stopping = EarlyStopping(patience = patience, verbose = True)\n",
        "'''\n",
        "\n",
        "\n",
        "model = DNN(input_dim).to(device)\n",
        "print(model)\n",
        "\n",
        "# Parameters\n",
        "learning_rate = 0.1 # Initial learning rate\n",
        "optimizer = torch.optim.Adam(model.parameters(), lr = learning_rate)\n",
        "scheduler = CosineAnnealingLR(optimizer, T_max=20) # Default parameters: eta_min=0, last_epoch=-1, verbose=False\n",
        "# criterion = nn.CrossEntropyLoss()\n",
        "criterion = nn.BCEWithLogitsLoss()\n",
        "\n",
        "def init_weights(m):\n",
        "    for name, param in m.named_parameters():\n",
        "        nn.init.uniform_(param.data, -0.08, 0.08)      \n",
        "\n",
        "model.apply(init_weights)\n",
        "\n",
        "def count_parameters(model):\n",
        "    return sum(p.numel() for p in model.parameters() if p.requires_grad)\n",
        "\n",
        "print(f'The model has {count_parameters(model):,} trainable parameters')"
      ],
      "metadata": {
        "colab": {
          "base_uri": "https://localhost:8080/",
          "height": 0
        },
        "id": "CGOEaENzAI_o",
        "outputId": "c4c56b91-84df-456c-91ff-0fe8d80ec597"
      },
      "execution_count": 27,
      "outputs": [
        {
          "output_type": "stream",
          "name": "stdout",
          "text": [
            "DNN(\n",
            "  (fc1): Linear(in_features=67, out_features=2500, bias=True)\n",
            "  (fc1_bn): BatchNorm1d(2500, eps=1e-05, momentum=0.1, affine=True, track_running_stats=True)\n",
            "  (fc2): Linear(in_features=2500, out_features=1500, bias=True)\n",
            "  (fc2_bn): BatchNorm1d(1500, eps=1e-05, momentum=0.1, affine=True, track_running_stats=True)\n",
            "  (fc3): Linear(in_features=1500, out_features=500, bias=True)\n",
            "  (fc3_bn): BatchNorm1d(500, eps=1e-05, momentum=0.1, affine=True, track_running_stats=True)\n",
            "  (fc4): Linear(in_features=500, out_features=100, bias=True)\n",
            "  (fc4_bn): BatchNorm1d(100, eps=1e-05, momentum=0.1, affine=True, track_running_stats=True)\n",
            "  (fc5): Linear(in_features=100, out_features=1, bias=True)\n",
            "  (fc5_bn): BatchNorm1d(1, eps=1e-05, momentum=0.1, affine=True, track_running_stats=True)\n",
            "  (sigmoid): Sigmoid()\n",
            ")\n",
            "The model has 4,731,403 trainable parameters\n"
          ]
        }
      ]
    },
    {
      "cell_type": "code",
      "source": [
        "output[0].shape"
      ],
      "metadata": {
        "colab": {
          "base_uri": "https://localhost:8080/",
          "height": 169
        },
        "id": "WniTXF5FJabt",
        "outputId": "92d2c10b-5e4c-42e9-db09-0a0b3c23ffe4"
      },
      "execution_count": 28,
      "outputs": [
        {
          "output_type": "error",
          "ename": "NameError",
          "evalue": "ignored",
          "traceback": [
            "\u001b[0;31m---------------------------------------------------------------------------\u001b[0m",
            "\u001b[0;31mNameError\u001b[0m                                 Traceback (most recent call last)",
            "\u001b[0;32m<ipython-input-28-0f89fa563bba>\u001b[0m in \u001b[0;36m<module>\u001b[0;34m()\u001b[0m\n\u001b[0;32m----> 1\u001b[0;31m \u001b[0moutput\u001b[0m\u001b[0;34m[\u001b[0m\u001b[0;36m0\u001b[0m\u001b[0;34m]\u001b[0m\u001b[0;34m.\u001b[0m\u001b[0mshape\u001b[0m\u001b[0;34m\u001b[0m\u001b[0;34m\u001b[0m\u001b[0m\n\u001b[0m",
            "\u001b[0;31mNameError\u001b[0m: name 'output' is not defined"
          ]
        }
      ]
    },
    {
      "cell_type": "code",
      "source": [
        "iter = 0\n",
        "for epoch in range(epochs):\n",
        "    for input, target in train_loader:\n",
        "        optimizer.zero_grad()\n",
        "        output = model(input.float()) # Add .float() to solve expected scalar type float but found Double\n",
        "        loss = criterion(output, target.unsqueeze(1)) # Add .long() to solve expected scalar type Long but found Double\n",
        "        loss.backward()\n",
        "        optimizer.step()\n",
        "        iter += 1   \n",
        "        if iter % 100 == 0: \n",
        "          print('Iteration: {}, Loss: {:.5f}'.format(iter, loss.item()))\n",
        "    scheduler.step()\n",
        "\n",
        "\n",
        "# load the last checkpoint with the best model\n",
        "model.load_state_dict(torch.load('checkpoint.pt'))"
      ],
      "metadata": {
        "colab": {
          "base_uri": "https://localhost:8080/",
          "height": 2284
        },
        "id": "cIo2DzWZDdZt",
        "outputId": "85cac63c-ba7d-42d0-8f7a-cd487fcd8dd9"
      },
      "execution_count": 29,
      "outputs": [
        {
          "output_type": "stream",
          "name": "stderr",
          "text": [
            "/usr/local/lib/python3.7/dist-packages/ipykernel_launcher.py:8: UserWarning: To copy construct from a tensor, it is recommended to use sourceTensor.clone().detach() or sourceTensor.clone().detach().requires_grad_(True), rather than torch.tensor(sourceTensor).\n",
            "  \n"
          ]
        },
        {
          "output_type": "stream",
          "name": "stdout",
          "text": [
            "Iteration: 100, Loss: -3479900.35631\n",
            "Iteration: 200, Loss: -6737378.06103\n",
            "Iteration: 300, Loss: -15609158.67138\n",
            "Iteration: 400, Loss: -25234945.18420\n",
            "Iteration: 500, Loss: -18560958.32121\n",
            "Iteration: 600, Loss: -17350287.81968\n",
            "Iteration: 700, Loss: -47038803.30809\n",
            "Iteration: 800, Loss: -20045648.15400\n",
            "Iteration: 900, Loss: -30667744.00017\n",
            "Iteration: 1000, Loss: -31939404.48967\n",
            "Iteration: 1100, Loss: -25180248.07381\n",
            "Iteration: 1200, Loss: -37426839.31559\n",
            "Iteration: 1300, Loss: -47756881.05061\n",
            "Iteration: 1400, Loss: -100959241.18331\n",
            "Iteration: 1500, Loss: -30334604.40928\n",
            "Iteration: 1600, Loss: -46871049.27447\n",
            "Iteration: 1700, Loss: -48737597.94056\n",
            "Iteration: 1800, Loss: -21778398.12693\n",
            "Iteration: 1900, Loss: -86940081.12433\n",
            "Iteration: 2000, Loss: -106800938.18758\n",
            "Iteration: 2100, Loss: -95661328.89362\n",
            "Iteration: 2200, Loss: -76102239.11430\n",
            "Iteration: 2300, Loss: -71169429.05367\n",
            "Iteration: 2400, Loss: -113592465.14164\n",
            "Iteration: 2500, Loss: -145921653.10852\n",
            "Iteration: 2600, Loss: -89317688.00429\n",
            "Iteration: 2700, Loss: -79449840.25860\n",
            "Iteration: 2800, Loss: -173190407.93313\n",
            "Iteration: 2900, Loss: -72334134.02000\n",
            "Iteration: 3000, Loss: -84851310.25103\n",
            "Iteration: 3100, Loss: -101072456.95667\n",
            "Iteration: 3200, Loss: -72121357.06156\n",
            "Iteration: 3300, Loss: -99645182.40228\n",
            "Iteration: 3400, Loss: -119243655.98593\n",
            "Iteration: 3500, Loss: -244654285.65962\n",
            "Iteration: 3600, Loss: -72635943.07015\n",
            "Iteration: 3700, Loss: -103825150.22516\n",
            "Iteration: 3800, Loss: -115915906.83041\n",
            "Iteration: 3900, Loss: -46320853.74502\n",
            "Iteration: 4000, Loss: -181167222.69724\n",
            "Iteration: 4100, Loss: -208230885.34624\n",
            "Iteration: 4200, Loss: -191714420.92741\n",
            "Iteration: 4300, Loss: -144758315.59283\n",
            "Iteration: 4400, Loss: -133679010.44272\n",
            "Iteration: 4500, Loss: -203367446.90469\n",
            "Iteration: 4600, Loss: -265328680.01288\n",
            "Iteration: 4700, Loss: -158292686.60837\n",
            "Iteration: 4800, Loss: -148023936.96165\n",
            "Iteration: 4900, Loss: -285054553.71440\n",
            "Iteration: 5000, Loss: -122402408.06348\n",
            "Iteration: 5100, Loss: -139782689.88915\n",
            "Iteration: 5200, Loss: -168006310.54943\n",
            "Iteration: 5300, Loss: -116398017.93920\n",
            "Iteration: 5400, Loss: -158592396.70095\n",
            "Iteration: 5500, Loss: -180941914.06271\n",
            "Iteration: 5600, Loss: -465706557.69682\n",
            "Iteration: 5700, Loss: -111116925.58940\n",
            "Iteration: 5800, Loss: -158391011.42191\n",
            "Iteration: 5900, Loss: -177502388.36502\n",
            "Iteration: 6000, Loss: -70597480.08693\n",
            "Iteration: 6100, Loss: -267863123.18293\n",
            "Iteration: 6200, Loss: -305612767.69702\n",
            "Iteration: 6300, Loss: -278606977.75837\n",
            "Iteration: 6400, Loss: -203171532.33129\n",
            "Iteration: 6500, Loss: -189816512.45763\n",
            "Iteration: 6600, Loss: -288441049.19806\n",
            "Iteration: 6700, Loss: -376201754.53471\n",
            "Iteration: 6800, Loss: -226868290.95771\n",
            "Iteration: 6900, Loss: -196966470.48682\n",
            "Iteration: 7000, Loss: -399393223.17956\n",
            "Iteration: 7100, Loss: -166145457.14964\n",
            "Iteration: 7200, Loss: -205032914.57717\n",
            "Iteration: 7300, Loss: -230309189.42902\n",
            "Iteration: 7400, Loss: -152734919.91108\n",
            "Iteration: 7500, Loss: -207093927.05360\n",
            "Iteration: 7600, Loss: -238579957.21598\n",
            "Iteration: 7700, Loss: -646496379.65934\n",
            "Iteration: 7800, Loss: -145266290.94842\n",
            "Iteration: 7900, Loss: -207121456.22523\n",
            "Iteration: 8000, Loss: -230852945.28342\n",
            "Iteration: 8100, Loss: -92865651.55095\n",
            "Iteration: 8200, Loss: -343563499.24224\n",
            "Iteration: 8300, Loss: -388365534.96369\n",
            "Iteration: 8400, Loss: -352443138.89149\n",
            "Iteration: 8500, Loss: -256498341.35356\n",
            "Iteration: 8600, Loss: -240379819.78187\n",
            "Iteration: 8700, Loss: -354063281.04250\n",
            "Iteration: 8800, Loss: -477186240.20534\n",
            "Iteration: 8900, Loss: -279992621.17568\n",
            "Iteration: 9000, Loss: -248653118.01280\n",
            "Iteration: 9100, Loss: -483975063.81978\n",
            "Iteration: 9200, Loss: -205690649.79892\n",
            "Iteration: 9300, Loss: -253383230.11907\n",
            "Iteration: 9400, Loss: -277286449.22799\n",
            "Iteration: 9500, Loss: -185141459.22556\n",
            "Iteration: 9600, Loss: -253822117.76630\n",
            "Iteration: 9700, Loss: -283773651.23022\n",
            "Iteration: 9800, Loss: -739652038.63802\n",
            "Iteration: 9900, Loss: -175407525.87121\n",
            "Iteration: 10000, Loss: -250852466.81373\n",
            "Iteration: 10100, Loss: -270089305.91239\n",
            "Iteration: 10200, Loss: -109337106.04733\n",
            "Iteration: 10300, Loss: -404527448.48024\n",
            "Iteration: 10400, Loss: -461936256.74813\n",
            "Iteration: 10500, Loss: -416106225.71363\n"
          ]
        },
        {
          "output_type": "error",
          "ename": "FileNotFoundError",
          "evalue": "ignored",
          "traceback": [
            "\u001b[0;31m---------------------------------------------------------------------------\u001b[0m",
            "\u001b[0;31mFileNotFoundError\u001b[0m                         Traceback (most recent call last)",
            "\u001b[0;32m<ipython-input-29-b8c3082d4c82>\u001b[0m in \u001b[0;36m<module>\u001b[0;34m()\u001b[0m\n\u001b[1;32m     14\u001b[0m \u001b[0;34m\u001b[0m\u001b[0m\n\u001b[1;32m     15\u001b[0m \u001b[0;31m# load the last checkpoint with the best model\u001b[0m\u001b[0;34m\u001b[0m\u001b[0;34m\u001b[0m\u001b[0;34m\u001b[0m\u001b[0m\n\u001b[0;32m---> 16\u001b[0;31m \u001b[0mmodel\u001b[0m\u001b[0;34m.\u001b[0m\u001b[0mload_state_dict\u001b[0m\u001b[0;34m(\u001b[0m\u001b[0mtorch\u001b[0m\u001b[0;34m.\u001b[0m\u001b[0mload\u001b[0m\u001b[0;34m(\u001b[0m\u001b[0;34m'checkpoint.pt'\u001b[0m\u001b[0;34m)\u001b[0m\u001b[0;34m)\u001b[0m\u001b[0;34m\u001b[0m\u001b[0;34m\u001b[0m\u001b[0m\n\u001b[0m",
            "\u001b[0;32m/usr/local/lib/python3.7/dist-packages/torch/serialization.py\u001b[0m in \u001b[0;36mload\u001b[0;34m(f, map_location, pickle_module, **pickle_load_args)\u001b[0m\n\u001b[1;32m    697\u001b[0m         \u001b[0mpickle_load_args\u001b[0m\u001b[0;34m[\u001b[0m\u001b[0;34m'encoding'\u001b[0m\u001b[0;34m]\u001b[0m \u001b[0;34m=\u001b[0m \u001b[0;34m'utf-8'\u001b[0m\u001b[0;34m\u001b[0m\u001b[0;34m\u001b[0m\u001b[0m\n\u001b[1;32m    698\u001b[0m \u001b[0;34m\u001b[0m\u001b[0m\n\u001b[0;32m--> 699\u001b[0;31m     \u001b[0;32mwith\u001b[0m \u001b[0m_open_file_like\u001b[0m\u001b[0;34m(\u001b[0m\u001b[0mf\u001b[0m\u001b[0;34m,\u001b[0m \u001b[0;34m'rb'\u001b[0m\u001b[0;34m)\u001b[0m \u001b[0;32mas\u001b[0m \u001b[0mopened_file\u001b[0m\u001b[0;34m:\u001b[0m\u001b[0;34m\u001b[0m\u001b[0;34m\u001b[0m\u001b[0m\n\u001b[0m\u001b[1;32m    700\u001b[0m         \u001b[0;32mif\u001b[0m \u001b[0m_is_zipfile\u001b[0m\u001b[0;34m(\u001b[0m\u001b[0mopened_file\u001b[0m\u001b[0;34m)\u001b[0m\u001b[0;34m:\u001b[0m\u001b[0;34m\u001b[0m\u001b[0;34m\u001b[0m\u001b[0m\n\u001b[1;32m    701\u001b[0m             \u001b[0;31m# The zipfile reader is going to advance the current file position.\u001b[0m\u001b[0;34m\u001b[0m\u001b[0;34m\u001b[0m\u001b[0;34m\u001b[0m\u001b[0m\n",
            "\u001b[0;32m/usr/local/lib/python3.7/dist-packages/torch/serialization.py\u001b[0m in \u001b[0;36m_open_file_like\u001b[0;34m(name_or_buffer, mode)\u001b[0m\n\u001b[1;32m    229\u001b[0m \u001b[0;32mdef\u001b[0m \u001b[0m_open_file_like\u001b[0m\u001b[0;34m(\u001b[0m\u001b[0mname_or_buffer\u001b[0m\u001b[0;34m,\u001b[0m \u001b[0mmode\u001b[0m\u001b[0;34m)\u001b[0m\u001b[0;34m:\u001b[0m\u001b[0;34m\u001b[0m\u001b[0;34m\u001b[0m\u001b[0m\n\u001b[1;32m    230\u001b[0m     \u001b[0;32mif\u001b[0m \u001b[0m_is_path\u001b[0m\u001b[0;34m(\u001b[0m\u001b[0mname_or_buffer\u001b[0m\u001b[0;34m)\u001b[0m\u001b[0;34m:\u001b[0m\u001b[0;34m\u001b[0m\u001b[0;34m\u001b[0m\u001b[0m\n\u001b[0;32m--> 231\u001b[0;31m         \u001b[0;32mreturn\u001b[0m \u001b[0m_open_file\u001b[0m\u001b[0;34m(\u001b[0m\u001b[0mname_or_buffer\u001b[0m\u001b[0;34m,\u001b[0m \u001b[0mmode\u001b[0m\u001b[0;34m)\u001b[0m\u001b[0;34m\u001b[0m\u001b[0;34m\u001b[0m\u001b[0m\n\u001b[0m\u001b[1;32m    232\u001b[0m     \u001b[0;32melse\u001b[0m\u001b[0;34m:\u001b[0m\u001b[0;34m\u001b[0m\u001b[0;34m\u001b[0m\u001b[0m\n\u001b[1;32m    233\u001b[0m         \u001b[0;32mif\u001b[0m \u001b[0;34m'w'\u001b[0m \u001b[0;32min\u001b[0m \u001b[0mmode\u001b[0m\u001b[0;34m:\u001b[0m\u001b[0;34m\u001b[0m\u001b[0;34m\u001b[0m\u001b[0m\n",
            "\u001b[0;32m/usr/local/lib/python3.7/dist-packages/torch/serialization.py\u001b[0m in \u001b[0;36m__init__\u001b[0;34m(self, name, mode)\u001b[0m\n\u001b[1;32m    210\u001b[0m \u001b[0;32mclass\u001b[0m \u001b[0m_open_file\u001b[0m\u001b[0;34m(\u001b[0m\u001b[0m_opener\u001b[0m\u001b[0;34m)\u001b[0m\u001b[0;34m:\u001b[0m\u001b[0;34m\u001b[0m\u001b[0;34m\u001b[0m\u001b[0m\n\u001b[1;32m    211\u001b[0m     \u001b[0;32mdef\u001b[0m \u001b[0m__init__\u001b[0m\u001b[0;34m(\u001b[0m\u001b[0mself\u001b[0m\u001b[0;34m,\u001b[0m \u001b[0mname\u001b[0m\u001b[0;34m,\u001b[0m \u001b[0mmode\u001b[0m\u001b[0;34m)\u001b[0m\u001b[0;34m:\u001b[0m\u001b[0;34m\u001b[0m\u001b[0;34m\u001b[0m\u001b[0m\n\u001b[0;32m--> 212\u001b[0;31m         \u001b[0msuper\u001b[0m\u001b[0;34m(\u001b[0m\u001b[0m_open_file\u001b[0m\u001b[0;34m,\u001b[0m \u001b[0mself\u001b[0m\u001b[0;34m)\u001b[0m\u001b[0;34m.\u001b[0m\u001b[0m__init__\u001b[0m\u001b[0;34m(\u001b[0m\u001b[0mopen\u001b[0m\u001b[0;34m(\u001b[0m\u001b[0mname\u001b[0m\u001b[0;34m,\u001b[0m \u001b[0mmode\u001b[0m\u001b[0;34m)\u001b[0m\u001b[0;34m)\u001b[0m\u001b[0;34m\u001b[0m\u001b[0;34m\u001b[0m\u001b[0m\n\u001b[0m\u001b[1;32m    213\u001b[0m \u001b[0;34m\u001b[0m\u001b[0m\n\u001b[1;32m    214\u001b[0m     \u001b[0;32mdef\u001b[0m \u001b[0m__exit__\u001b[0m\u001b[0;34m(\u001b[0m\u001b[0mself\u001b[0m\u001b[0;34m,\u001b[0m \u001b[0;34m*\u001b[0m\u001b[0margs\u001b[0m\u001b[0;34m)\u001b[0m\u001b[0;34m:\u001b[0m\u001b[0;34m\u001b[0m\u001b[0;34m\u001b[0m\u001b[0m\n",
            "\u001b[0;31mFileNotFoundError\u001b[0m: [Errno 2] No such file or directory: 'checkpoint.pt'"
          ]
        }
      ]
    },
    {
      "cell_type": "code",
      "source": [
        "model.eval()"
      ],
      "metadata": {
        "colab": {
          "base_uri": "https://localhost:8080/",
          "height": 0
        },
        "id": "k7I-5mgEGgFS",
        "outputId": "6f2c9ee4-a7d6-484b-923f-953fc4b1bb22"
      },
      "execution_count": 30,
      "outputs": [
        {
          "output_type": "execute_result",
          "data": {
            "text/plain": [
              "DNN(\n",
              "  (fc1): Linear(in_features=67, out_features=2500, bias=True)\n",
              "  (fc1_bn): BatchNorm1d(2500, eps=1e-05, momentum=0.1, affine=True, track_running_stats=True)\n",
              "  (fc2): Linear(in_features=2500, out_features=1500, bias=True)\n",
              "  (fc2_bn): BatchNorm1d(1500, eps=1e-05, momentum=0.1, affine=True, track_running_stats=True)\n",
              "  (fc3): Linear(in_features=1500, out_features=500, bias=True)\n",
              "  (fc3_bn): BatchNorm1d(500, eps=1e-05, momentum=0.1, affine=True, track_running_stats=True)\n",
              "  (fc4): Linear(in_features=500, out_features=100, bias=True)\n",
              "  (fc4_bn): BatchNorm1d(100, eps=1e-05, momentum=0.1, affine=True, track_running_stats=True)\n",
              "  (fc5): Linear(in_features=100, out_features=1, bias=True)\n",
              "  (fc5_bn): BatchNorm1d(1, eps=1e-05, momentum=0.1, affine=True, track_running_stats=True)\n",
              "  (sigmoid): Sigmoid()\n",
              ")"
            ]
          },
          "metadata": {},
          "execution_count": 30
        }
      ]
    },
    {
      "cell_type": "code",
      "source": [
        "# Test\n",
        "def test(dataloader, model, criterion):\n",
        "    test_loss = []\n",
        "    Y_valid = []\n",
        "    Y_pred = []\n",
        "    \n",
        "    size = len(dataloader.dataset)\n",
        "    model.eval()\n",
        "    test_loss, correct = 0, 0\n",
        "    with torch.no_grad():\n",
        "      for input, target in dataloader:\n",
        "        optimizer.zero_grad()\n",
        "        output = model(input.float()) \n",
        "        test_loss += criterion(output, target.unsqueeze(1)).item()\n",
        "        Y_valid.append(target)\n",
        "        Y_pred.append(output)\n",
        "\n",
        "    test_loss /= batch_size \n",
        "    # correct /= size\n",
        "    return Y_valid, Y_pred, test_loss\n",
        "\n",
        "Y_valid, Y_pred, test_loss = test(test_loader, model, criterion)\n",
        "\n",
        "# Save model\n",
        "torch.save(model.state_dict(), \"model.pth\")\n",
        "print(\"Saved PyTorch Model State to model.pth\") "
      ],
      "metadata": {
        "colab": {
          "base_uri": "https://localhost:8080/",
          "height": 0
        },
        "id": "pG9t1wbLEvfQ",
        "outputId": "dffb056b-c40f-459a-88e2-73411be77ba1"
      },
      "execution_count": 35,
      "outputs": [
        {
          "output_type": "stream",
          "name": "stderr",
          "text": [
            "/usr/local/lib/python3.7/dist-packages/ipykernel_launcher.py:8: UserWarning: To copy construct from a tensor, it is recommended to use sourceTensor.clone().detach() or sourceTensor.clone().detach().requires_grad_(True), rather than torch.tensor(sourceTensor).\n",
            "  \n"
          ]
        },
        {
          "output_type": "stream",
          "name": "stdout",
          "text": [
            "Saved PyTorch Model State to model.pth\n"
          ]
        }
      ]
    },
    {
      "cell_type": "code",
      "source": [
        "test_loss"
      ],
      "metadata": {
        "colab": {
          "base_uri": "https://localhost:8080/",
          "height": 0
        },
        "id": "RHIRrnUjhi-f",
        "outputId": "61b0265c-057a-4553-f419-b30139ee9da0"
      },
      "execution_count": 36,
      "outputs": [
        {
          "output_type": "execute_result",
          "data": {
            "text/plain": [
              "4084040301185933.0"
            ]
          },
          "metadata": {},
          "execution_count": 36
        }
      ]
    },
    {
      "cell_type": "code",
      "execution_count": null,
      "metadata": {
        "id": "g1KZylN72wjJ",
        "colab": {
          "base_uri": "https://localhost:8080/",
          "height": 445
        },
        "outputId": "edb23c4f-39e0-4549-8698-73c3caf8fd96"
      },
      "outputs": [
        {
          "output_type": "stream",
          "name": "stderr",
          "text": [
            "/usr/local/lib/python3.7/dist-packages/ipykernel_launcher.py:8: UserWarning: To copy construct from a tensor, it is recommended to use sourceTensor.clone().detach() or sourceTensor.clone().detach().requires_grad_(True), rather than torch.tensor(sourceTensor).\n",
            "  \n"
          ]
        },
        {
          "output_type": "error",
          "ename": "RuntimeError",
          "evalue": "ignored",
          "traceback": [
            "\u001b[0;31m---------------------------------------------------------------------------\u001b[0m",
            "\u001b[0;31mRuntimeError\u001b[0m                              Traceback (most recent call last)",
            "\u001b[0;32m<ipython-input-52-3965dfdfb3b9>\u001b[0m in \u001b[0;36m<module>\u001b[0;34m()\u001b[0m\n\u001b[1;32m     16\u001b[0m     \u001b[0;32mfor\u001b[0m \u001b[0minput\u001b[0m\u001b[0;34m,\u001b[0m \u001b[0mtarget\u001b[0m \u001b[0;32min\u001b[0m \u001b[0mtrain_loader\u001b[0m\u001b[0;34m:\u001b[0m\u001b[0;34m\u001b[0m\u001b[0;34m\u001b[0m\u001b[0m\n\u001b[1;32m     17\u001b[0m         \u001b[0moptimizer\u001b[0m\u001b[0;34m.\u001b[0m\u001b[0mzero_grad\u001b[0m\u001b[0;34m(\u001b[0m\u001b[0;34m)\u001b[0m\u001b[0;34m\u001b[0m\u001b[0;34m\u001b[0m\u001b[0m\n\u001b[0;32m---> 18\u001b[0;31m         \u001b[0moutput\u001b[0m \u001b[0;34m=\u001b[0m \u001b[0mmodel\u001b[0m\u001b[0;34m(\u001b[0m\u001b[0minput\u001b[0m\u001b[0;34m)\u001b[0m\u001b[0;34m\u001b[0m\u001b[0;34m\u001b[0m\u001b[0m\n\u001b[0m\u001b[1;32m     19\u001b[0m         \u001b[0mloss\u001b[0m \u001b[0;34m=\u001b[0m \u001b[0mcriterion\u001b[0m\u001b[0;34m(\u001b[0m\u001b[0moutput\u001b[0m\u001b[0;34m,\u001b[0m \u001b[0mtarget\u001b[0m\u001b[0;34m)\u001b[0m\u001b[0;34m\u001b[0m\u001b[0;34m\u001b[0m\u001b[0m\n\u001b[1;32m     20\u001b[0m         \u001b[0mloss\u001b[0m\u001b[0;34m.\u001b[0m\u001b[0mbackward\u001b[0m\u001b[0;34m(\u001b[0m\u001b[0;34m)\u001b[0m\u001b[0;34m\u001b[0m\u001b[0;34m\u001b[0m\u001b[0m\n",
            "\u001b[0;32m/usr/local/lib/python3.7/dist-packages/torch/nn/modules/module.py\u001b[0m in \u001b[0;36m_call_impl\u001b[0;34m(self, *input, **kwargs)\u001b[0m\n\u001b[1;32m   1108\u001b[0m         if not (self._backward_hooks or self._forward_hooks or self._forward_pre_hooks or _global_backward_hooks\n\u001b[1;32m   1109\u001b[0m                 or _global_forward_hooks or _global_forward_pre_hooks):\n\u001b[0;32m-> 1110\u001b[0;31m             \u001b[0;32mreturn\u001b[0m \u001b[0mforward_call\u001b[0m\u001b[0;34m(\u001b[0m\u001b[0;34m*\u001b[0m\u001b[0minput\u001b[0m\u001b[0;34m,\u001b[0m \u001b[0;34m**\u001b[0m\u001b[0mkwargs\u001b[0m\u001b[0;34m)\u001b[0m\u001b[0;34m\u001b[0m\u001b[0;34m\u001b[0m\u001b[0m\n\u001b[0m\u001b[1;32m   1111\u001b[0m         \u001b[0;31m# Do not call functions when jit is used\u001b[0m\u001b[0;34m\u001b[0m\u001b[0;34m\u001b[0m\u001b[0;34m\u001b[0m\u001b[0m\n\u001b[1;32m   1112\u001b[0m         \u001b[0mfull_backward_hooks\u001b[0m\u001b[0;34m,\u001b[0m \u001b[0mnon_full_backward_hooks\u001b[0m \u001b[0;34m=\u001b[0m \u001b[0;34m[\u001b[0m\u001b[0;34m]\u001b[0m\u001b[0;34m,\u001b[0m \u001b[0;34m[\u001b[0m\u001b[0;34m]\u001b[0m\u001b[0;34m\u001b[0m\u001b[0;34m\u001b[0m\u001b[0m\n",
            "\u001b[0;32m<ipython-input-47-23386de197b1>\u001b[0m in \u001b[0;36mforward\u001b[0;34m(self, x)\u001b[0m\n\u001b[1;32m     22\u001b[0m \u001b[0;34m\u001b[0m\u001b[0m\n\u001b[1;32m     23\u001b[0m     \u001b[0;32mdef\u001b[0m \u001b[0mforward\u001b[0m\u001b[0;34m(\u001b[0m\u001b[0mself\u001b[0m\u001b[0;34m,\u001b[0m\u001b[0mx\u001b[0m\u001b[0;34m)\u001b[0m\u001b[0;34m:\u001b[0m\u001b[0;34m\u001b[0m\u001b[0;34m\u001b[0m\u001b[0m\n\u001b[0;32m---> 24\u001b[0;31m         \u001b[0mx\u001b[0m \u001b[0;34m=\u001b[0m \u001b[0mself\u001b[0m\u001b[0;34m.\u001b[0m\u001b[0mfc1_bn\u001b[0m\u001b[0;34m(\u001b[0m\u001b[0mF\u001b[0m\u001b[0;34m.\u001b[0m\u001b[0mrelu\u001b[0m\u001b[0;34m(\u001b[0m\u001b[0mself\u001b[0m\u001b[0;34m.\u001b[0m\u001b[0mfc1\u001b[0m\u001b[0;34m(\u001b[0m\u001b[0mx\u001b[0m\u001b[0;34m)\u001b[0m\u001b[0;34m)\u001b[0m\u001b[0;34m)\u001b[0m\u001b[0;34m\u001b[0m\u001b[0;34m\u001b[0m\u001b[0m\n\u001b[0m\u001b[1;32m     25\u001b[0m         \u001b[0mx\u001b[0m \u001b[0;34m=\u001b[0m \u001b[0mself\u001b[0m\u001b[0;34m.\u001b[0m\u001b[0mfc2_bn\u001b[0m\u001b[0;34m(\u001b[0m\u001b[0mF\u001b[0m\u001b[0;34m.\u001b[0m\u001b[0mrelu\u001b[0m\u001b[0;34m(\u001b[0m\u001b[0mself\u001b[0m\u001b[0;34m.\u001b[0m\u001b[0mfc2\u001b[0m\u001b[0;34m(\u001b[0m\u001b[0mx\u001b[0m\u001b[0;34m)\u001b[0m\u001b[0;34m)\u001b[0m\u001b[0;34m)\u001b[0m\u001b[0;34m\u001b[0m\u001b[0;34m\u001b[0m\u001b[0m\n\u001b[1;32m     26\u001b[0m         \u001b[0mx\u001b[0m \u001b[0;34m=\u001b[0m \u001b[0mself\u001b[0m\u001b[0;34m.\u001b[0m\u001b[0mfc3_bn\u001b[0m\u001b[0;34m(\u001b[0m\u001b[0mF\u001b[0m\u001b[0;34m.\u001b[0m\u001b[0mrelu\u001b[0m\u001b[0;34m(\u001b[0m\u001b[0mself\u001b[0m\u001b[0;34m.\u001b[0m\u001b[0mfc3\u001b[0m\u001b[0;34m(\u001b[0m\u001b[0mx\u001b[0m\u001b[0;34m)\u001b[0m\u001b[0;34m)\u001b[0m\u001b[0;34m)\u001b[0m\u001b[0;34m\u001b[0m\u001b[0;34m\u001b[0m\u001b[0m\n",
            "\u001b[0;32m/usr/local/lib/python3.7/dist-packages/torch/nn/modules/module.py\u001b[0m in \u001b[0;36m_call_impl\u001b[0;34m(self, *input, **kwargs)\u001b[0m\n\u001b[1;32m   1108\u001b[0m         if not (self._backward_hooks or self._forward_hooks or self._forward_pre_hooks or _global_backward_hooks\n\u001b[1;32m   1109\u001b[0m                 or _global_forward_hooks or _global_forward_pre_hooks):\n\u001b[0;32m-> 1110\u001b[0;31m             \u001b[0;32mreturn\u001b[0m \u001b[0mforward_call\u001b[0m\u001b[0;34m(\u001b[0m\u001b[0;34m*\u001b[0m\u001b[0minput\u001b[0m\u001b[0;34m,\u001b[0m \u001b[0;34m**\u001b[0m\u001b[0mkwargs\u001b[0m\u001b[0;34m)\u001b[0m\u001b[0;34m\u001b[0m\u001b[0;34m\u001b[0m\u001b[0m\n\u001b[0m\u001b[1;32m   1111\u001b[0m         \u001b[0;31m# Do not call functions when jit is used\u001b[0m\u001b[0;34m\u001b[0m\u001b[0;34m\u001b[0m\u001b[0;34m\u001b[0m\u001b[0m\n\u001b[1;32m   1112\u001b[0m         \u001b[0mfull_backward_hooks\u001b[0m\u001b[0;34m,\u001b[0m \u001b[0mnon_full_backward_hooks\u001b[0m \u001b[0;34m=\u001b[0m \u001b[0;34m[\u001b[0m\u001b[0;34m]\u001b[0m\u001b[0;34m,\u001b[0m \u001b[0;34m[\u001b[0m\u001b[0;34m]\u001b[0m\u001b[0;34m\u001b[0m\u001b[0;34m\u001b[0m\u001b[0m\n",
            "\u001b[0;32m/usr/local/lib/python3.7/dist-packages/torch/nn/modules/linear.py\u001b[0m in \u001b[0;36mforward\u001b[0;34m(self, input)\u001b[0m\n\u001b[1;32m    101\u001b[0m \u001b[0;34m\u001b[0m\u001b[0m\n\u001b[1;32m    102\u001b[0m     \u001b[0;32mdef\u001b[0m \u001b[0mforward\u001b[0m\u001b[0;34m(\u001b[0m\u001b[0mself\u001b[0m\u001b[0;34m,\u001b[0m \u001b[0minput\u001b[0m\u001b[0;34m:\u001b[0m \u001b[0mTensor\u001b[0m\u001b[0;34m)\u001b[0m \u001b[0;34m->\u001b[0m \u001b[0mTensor\u001b[0m\u001b[0;34m:\u001b[0m\u001b[0;34m\u001b[0m\u001b[0;34m\u001b[0m\u001b[0m\n\u001b[0;32m--> 103\u001b[0;31m         \u001b[0;32mreturn\u001b[0m \u001b[0mF\u001b[0m\u001b[0;34m.\u001b[0m\u001b[0mlinear\u001b[0m\u001b[0;34m(\u001b[0m\u001b[0minput\u001b[0m\u001b[0;34m,\u001b[0m \u001b[0mself\u001b[0m\u001b[0;34m.\u001b[0m\u001b[0mweight\u001b[0m\u001b[0;34m,\u001b[0m \u001b[0mself\u001b[0m\u001b[0;34m.\u001b[0m\u001b[0mbias\u001b[0m\u001b[0;34m)\u001b[0m\u001b[0;34m\u001b[0m\u001b[0;34m\u001b[0m\u001b[0m\n\u001b[0m\u001b[1;32m    104\u001b[0m \u001b[0;34m\u001b[0m\u001b[0m\n\u001b[1;32m    105\u001b[0m     \u001b[0;32mdef\u001b[0m \u001b[0mextra_repr\u001b[0m\u001b[0;34m(\u001b[0m\u001b[0mself\u001b[0m\u001b[0;34m)\u001b[0m \u001b[0;34m->\u001b[0m \u001b[0mstr\u001b[0m\u001b[0;34m:\u001b[0m\u001b[0;34m\u001b[0m\u001b[0;34m\u001b[0m\u001b[0m\n",
            "\u001b[0;31mRuntimeError\u001b[0m: expected scalar type Float but found Double"
          ]
        }
      ],
      "source": [
        "'''\n",
        "# Train\n",
        "\n",
        "# to track the training loss as the model trains\n",
        "train_losses = []\n",
        "# to track the validation loss as the model trains\n",
        "valid_losses = []\n",
        "# to track the average training loss per epoch as the model trains\n",
        "avg_train_losses = []\n",
        "# to track the average validation loss per epoch as the model trains\n",
        "avg_valid_losses = [] \n",
        "\n",
        "iter = 0\n",
        "'''\n",
        "for epoch in range(epochs):\n",
        "    for input, target in train_loader:\n",
        "        optimizer.zero_grad()\n",
        "        output = model(input)\n",
        "        loss = criterion(output, target)\n",
        "        loss.backward()\n",
        "        optimizer.step()\n",
        "    scheduler.step()\n",
        "\n",
        "\n",
        "\n",
        "\n",
        "\n",
        "\n",
        "\n",
        "for epoch in range(epochs):\n",
        "    for i, (x, y) in enumerate(train_loader):\n",
        "        # print(i)\n",
        "        # model.train()\n",
        "        xx = x\n",
        "        # print(x.shape)\n",
        "        # print(x)\n",
        "        x.requires_grad_().to(device)\n",
        "        \n",
        "        optimizer.zero_grad()\n",
        "        # y = y.long().to(device) # expected scalar type Long but found Float\n",
        "        y = y.to(device) # Solve result type Float can't be cast to the desired output type Long\n",
        "        # print(\"y.shape\", y.shape)\n",
        "        sequence_len(y, max_encounter)\n",
        "        \n",
        "        # print(y.seq_len)\n",
        "        outputs = model(x)\n",
        "        # outputs.squeeze(-1)\n",
        "        # print(outputs.shape)\n",
        "        # print(outputs)\n",
        "        \n",
        "        output_list, target_list = num_multilabel(outputs.squeeze(-1), y)\n",
        "    \n",
        "        loss = criterion(output_list, target_list)\n",
        "        loss.backward()\n",
        "        optimizer.step()\n",
        "        iter += 1   \n",
        "        if iter % 100 == 0: \n",
        "            print('Iteration: {}, Loss: {:.5f}'.format(iter, loss.item()))\n",
        "        # xxx = outputs\n",
        "        yyy = y\n",
        "        \n",
        "        train_losses.append(loss.item())\n",
        "        # break    \n",
        "    xxx.append(outputs)\n",
        "    # break\n",
        "    for x, y in valid_loader:\n",
        "        sequence_len(y, max_encounter)\n",
        "        \n",
        "        y = y.to(device)\n",
        "        outputs = model(x)\n",
        "        loss = criterion(outputs.squeeze(-1), y)\n",
        "        # record validation loss\n",
        "        valid_losses.append(loss.item())\n",
        "    # print training/validation statistics \n",
        "    # calculate average loss over an epoch\n",
        "    train_loss = np.average(train_losses)\n",
        "    valid_loss = np.average(valid_losses)\n",
        "    avg_train_losses.append(train_loss)\n",
        "    avg_valid_losses.append(valid_loss)\n",
        "        \n",
        "        \n",
        "    # clear lists to track next epoch\n",
        "    train_losses = []\n",
        "    valid_losses = []\n",
        "        \n",
        "    # early_stopping needs the validation loss to check if it has decresed, \n",
        "    # and if it has, it will make a checkpoint of the current model\n",
        "    early_stopping(valid_loss, model)\n",
        "        \n",
        "    if early_stopping.early_stop:\n",
        "        print(\"Early stopping\")\n",
        "        break\n",
        "        \n",
        "# load the last checkpoint with the best model\n",
        "model.load_state_dict(torch.load('checkpoint.pt'))\n",
        "\n",
        "# Test\n",
        "\n",
        "# Calculate the Accuracy\n",
        "def accuracy_multilabel(output, target):\n",
        "    assert output.shape == target.shape, \\\n",
        "        \"shapes output: {}, and target:{} are not aligned. \".\\\n",
        "            format(output.shape, target.shape)\n",
        "    # output.sigmoid_()\n",
        "    mask_num = (Y_valid == -1).sum().numpy() # We don't want to calculate target == -1\n",
        "    output = output >= 0.5\n",
        "    # a = torch.round(output).eq(target).sum().cpu().numpy() \n",
        "    a = output.eq(target).sum().cpu().numpy() \n",
        "    b = (target.numel()- mask_num)\n",
        "    return a/b\n",
        "        \n",
        "    # return torch.round(output).eq(target).sum().cpu().numpy() -  mask_num / (target.numel()- mask_num)\n",
        "\n",
        "def test(dataloader, model, criterion):\n",
        "    test_loss = []\n",
        "    Y_valid = []\n",
        "    Y_pred = []\n",
        "    # Y_score = np.empty(shape = [0, 2])\n",
        "    \n",
        "    size = len(dataloader.dataset)\n",
        "    model.eval()\n",
        "    test_loss, correct = 0, 0\n",
        "    with torch.no_grad():\n",
        "        for x, y in dataloader:\n",
        "            # print(y)\n",
        "            # print(x.shape)\n",
        "\n",
        "            sequence_len(y, max_encounter)\n",
        "           \n",
        "            y = y.to(device)\n",
        "            \n",
        "            # print(\"y.shape is\", y.shape)\n",
        "            outputs = model(x)\n",
        "            # print(outputs)\n",
        "            \n",
        "            Y_valid.append(y)\n",
        "            Y_pred.append(outputs.sigmoid_()) # This is the logit\n",
        "            \n",
        "            # print(len(Y_pred))\n",
        "            # print(accuracy_multilabel(Y_valid, Y_pred))\n",
        "            \n",
        "            \n",
        "            '''\n",
        "            Y_valid = np.append(Y_valid, y.numpy())\n",
        "            Y_score = np.concatenate((Y_score, logits), axis = 0)\n",
        "            Y_pred = np.append(Y_pred, np.amax(outputs.numpy(), 1))\n",
        "            '''      \n",
        "            \n",
        "            test_loss += criterion(outputs.squeeze(-1), y).item()\n",
        "    \n",
        "    \n",
        "    # print(len(Y_pred))\n",
        "    Y_pred = torch.cat(Y_pred, dim = 0)\n",
        "    Y_pred = Y_pred.squeeze(-1) \n",
        "    Y_valid = torch.cat(Y_valid, dim = 0) \n",
        "    \n",
        "    \n",
        "    test_loss /= batch_size\n",
        "    # correct /= size\n",
        "    \n",
        "    # return Y_valid, Y_pred, Y_score\n",
        "    return Y_valid, Y_pred\n",
        "\n",
        "# Y_valid, Y_pred, Y_score = test(test_loader, model, criterion)\n",
        "Y_valid, Y_pred = test(test_loader, model, criterion)\n",
        "accuracy = accuracy_multilabel(Y_pred, Y_valid)\n",
        "# print(f\"Test Error: \\n Accuracy: {(100 * accuracy): > 0.1f}%, Avg loss: {test_loss:>8f} \\n\")\n",
        "print(f\"Test Error: \\n Accuracy: {(100 * accuracy): > 0.1f}% \\n\")\n",
        "\n",
        "# Save model\n",
        "torch.save(model.state_dict(), \"model.pth\")\n",
        "print(\"Saved PyTorch Model State to model.pth\") "
      ]
    },
    {
      "cell_type": "code",
      "execution_count": null,
      "metadata": {
        "id": "Hh_D0Tak2wjJ"
      },
      "outputs": [],
      "source": [
        ""
      ]
    },
    {
      "cell_type": "code",
      "execution_count": null,
      "metadata": {
        "id": "ZzUTRhxe2wjJ"
      },
      "outputs": [],
      "source": [
        ""
      ]
    },
    {
      "cell_type": "markdown",
      "metadata": {
        "id": "DyAQs_wk2wjJ"
      },
      "source": [
        "# Draft"
      ]
    },
    {
      "cell_type": "code",
      "execution_count": null,
      "metadata": {
        "id": "YryvuS-f2wjJ",
        "outputId": "e4fecff3-e37c-4d3a-bcf1-57dfae0b08ec"
      },
      "outputs": [
        {
          "data": {
            "text/plain": [
              "['FIPS_x',\n",
              " 'APN_UNFORMATTED',\n",
              " 'PCL_ID_IRIS_FORMATTED',\n",
              " 'APN_SEQUENCE_NUMBER',\n",
              " 'PENDING_RECORD_INDICATOR',\n",
              " 'CORPORATE_INDICATOR',\n",
              " 'OWNER_FULL_NAME',\n",
              " 'OWNER_1_LAST_NAME',\n",
              " 'OWNER_1_FIRST_NAME___M_I',\n",
              " 'OWNER_2_LAST_NAME',\n",
              " 'OWNER_2_FIRST_NAME___MI',\n",
              " 'OWNER_ETAL_INDICATOR_x',\n",
              " 'C_O_NAME',\n",
              " 'OWNER_RELATIONSHIP_RIGHTS_CODE',\n",
              " 'OWNER_RELATIONSHIP_TYPE_x',\n",
              " 'PARTIAL_INTEREST_INDICATOR',\n",
              " 'ABSENTEE_OWNER_STATUS_x',\n",
              " 'PROPERTY_LEVEL_LATITUDE',\n",
              " 'PROPERTY_LEVEL_LONGITUDE',\n",
              " 'SITUS_HOUSE_NUMBER_PREFIX_x',\n",
              " 'SITUS_HOUSE_NUMBER_x',\n",
              " 'SITUS_HOUSE_NUMBER_SUFFIX_x',\n",
              " 'SITUS_DIRECTION_x',\n",
              " 'SITUS_STREET_NAME_x',\n",
              " 'SITUS_MODE_x',\n",
              " 'SITUS_QUADRANT_x',\n",
              " 'SITUS_APARTMENT_UNIT',\n",
              " 'SITUS_CITY_x',\n",
              " 'SITUS_STATE_x',\n",
              " 'SITUS_ZIP_CODE_x',\n",
              " 'SITUS_CARRIER_CODE_x',\n",
              " 'MAILING_HOUSE_NUMBER_PREFIX',\n",
              " 'MAILING_HOUSE_NUMBER',\n",
              " 'MAILING_HOUSE_NUMBER_SUFFIX',\n",
              " 'MAILING_DIRECTION',\n",
              " 'MAILING_STREET_NAME',\n",
              " 'MAILING_MODE',\n",
              " 'MAILING_QUADRANT',\n",
              " 'MAILING_APARTMENT_UNIT',\n",
              " 'MAILING_PROPERTY_CITY',\n",
              " 'MAILING_PROPERTY_STATE',\n",
              " 'MAILING_PROPERTY_ADDRESS_ZIP_CODE',\n",
              " 'MAILING_CARRIER_CODE',\n",
              " 'BATCH_ID_x',\n",
              " 'BATCH_SEQ_x',\n",
              " 'MULTI_APN',\n",
              " 'SELLER_LAST_NAME',\n",
              " 'SELLER_FIRST_NAME',\n",
              " 'SELLER_FULL_NAME_1',\n",
              " 'SELLER_FULL_NAME_2',\n",
              " 'SALE_CODE_x',\n",
              " 'SALE_AMOUNT',\n",
              " 'SALE_DATE__YYYYMMDD_',\n",
              " 'RECORDING_DATE__YYYYMMDD_',\n",
              " 'DOCUMENT_TYPE_x',\n",
              " 'TRANSACTION_TYPE_x',\n",
              " 'DOCUMENT_NUMBER',\n",
              " 'BOOK_PAGE__6x6_',\n",
              " 'LENDER_FULL_NAME',\n",
              " 'LENDER_LAST_NAME',\n",
              " 'LENDER_FIRST_NAME',\n",
              " 'LENDER_ADDRESS',\n",
              " 'LENDER_CITY',\n",
              " 'LENDER_ST',\n",
              " 'LENDER_ZIP',\n",
              " 'LENDER_COMPANY_CODE',\n",
              " 'TITLE_COMPANY_NAME_x',\n",
              " 'TITLE_COMPANY_CODE_x',\n",
              " 'MORTGAGE_AMOUNT',\n",
              " 'MORTGAGE_DATE_x',\n",
              " 'MORTGAGE_INTEREST_RATE',\n",
              " 'MORTGAGE_LOAN_TYPE_CODE_x',\n",
              " 'MORTGAGE_DEED_TYPE_x',\n",
              " 'MORTGAGE_TERM_CODE_x',\n",
              " 'MORTGAGE_TERM_x',\n",
              " 'MORTGAGE_DUE_DATE_x',\n",
              " 'MORTGAGE_ASSUMPTION_AMOUNT',\n",
              " 'MTG_SEQ_NUMBER',\n",
              " 'PRI_CAT_CODE',\n",
              " 'MTG_SEC_CAT_CODES_1X10',\n",
              " 'DEED_SEC_CAT_CODES_2X10',\n",
              " 'OWNERSHIP_TRANSFER_PERCENTAGE',\n",
              " 'LAND_USE_x',\n",
              " 'PROPERTY_INDICATOR_x',\n",
              " 'SELLER_CARRY_BACK',\n",
              " 'INTER_FAMILY',\n",
              " 'PRIVATE_PARTY_LENDER',\n",
              " 'MORTGAGE_INTEREST_RATE_TYPE',\n",
              " 'CONSTRUCTION_LOAN',\n",
              " 'RESALE_NEW_CONSTRUCTION',\n",
              " 'FORECLOSURE',\n",
              " 'CASH_MORTGAGE_PURCHASE',\n",
              " 'EQUITY_FLAG',\n",
              " 'REFI_FLAG',\n",
              " 'RESIDENTIAL_MODEL_INDICATOR_x',\n",
              " 'ADD_CHANGE_FIELD',\n",
              " 'FILLER',\n",
              " 'FIPS_y',\n",
              " 'UNFORMATTED_APN',\n",
              " 'APN_SEQUENCE_NBR',\n",
              " 'FORMATTED_APN',\n",
              " 'ORIGINAL_APN',\n",
              " 'PREVIOUS_PARCEL_NUMBER',\n",
              " 'P_ID_IRIS_FRMTD',\n",
              " 'ACCOUNT_NUMBER',\n",
              " 'MAP_REFERENCE1',\n",
              " 'MAP_REFERENCE2',\n",
              " 'CENSUS_TRACT',\n",
              " 'BLOCK_NUMBER',\n",
              " 'LOT_NUMBER',\n",
              " 'RANGE',\n",
              " 'TOWNSHIP',\n",
              " 'SECTION',\n",
              " 'QUARTER_SECTION',\n",
              " 'FLOOD_ZONE_COMMUNITY_PANEL_ID',\n",
              " 'LAND_USE_y',\n",
              " 'COUNTY_USE1',\n",
              " 'COUNTY_USE2',\n",
              " 'MOBILE_HOME_IND',\n",
              " 'ZONING',\n",
              " 'PROPERTY_INDICATOR_y',\n",
              " 'MUNICIPALITY_NAME',\n",
              " 'MUNICIPALITY_CODE',\n",
              " 'SUBDIVISION_TRACT_NUMBER',\n",
              " 'SUBDIVISION_PLAT_BOOK',\n",
              " 'SUBDIVISION_PLAT_PAGE',\n",
              " 'SUBDIVISION_NAME',\n",
              " 'PARCEL_LEVEL_LATITUDE',\n",
              " 'PARCEL_LEVEL_LONGITUDE',\n",
              " 'SITUS_HOUSE_NUMBER_PREFIX_y',\n",
              " 'SITUS_HOUSE_NUMBER_y',\n",
              " 'SITUS_HOUSE_NUMBER_2',\n",
              " 'SITUS_HOUSE_NUMBER_SUFFIX_y',\n",
              " 'SITUS_DIRECTION_y',\n",
              " 'SITUS_STREET_NAME_y',\n",
              " 'SITUS_MODE_y',\n",
              " 'SITUS_QUADRANT_y',\n",
              " 'SITUS_UNIT_NUMBER',\n",
              " 'SITUS_CITY_y',\n",
              " 'SITUS_STATE_y',\n",
              " 'SITUS_ZIP_CODE_y',\n",
              " 'SITUS_CARRIER_CODE_y',\n",
              " 'OWNER_CORPORATE_INDICATOR',\n",
              " 'OWNER1_LAST_NAME',\n",
              " 'OWNER1_FIRST_NAME_MI',\n",
              " 'OWNER2_LAST_NAME',\n",
              " 'OWNER2_FIRST_NAME_MI',\n",
              " 'ABSENTEE_OWNER_STATUS_y',\n",
              " 'HOMESTEAD_EXEMPT',\n",
              " 'OWNER_ETAL_INDICATOR_y',\n",
              " 'OWNER_OWNERSHIP_RIGHTS_CODE',\n",
              " 'OWNER_RELATIONSHIP_TYPE_y',\n",
              " 'MAIL_HOUSE_NUMBER_PREFIX',\n",
              " 'MAIL_HOUSE_NUMBER',\n",
              " 'MAIL_HOUSE_NUMBER_2',\n",
              " 'MAIL_HOUSE_NUMBER_SUFFIX',\n",
              " 'MAIL_DIRECTION',\n",
              " 'MAIL_STREET_NAME',\n",
              " 'MAIL_MODE',\n",
              " 'MAIL_QUADRANT',\n",
              " 'MAIL_UNIT_NUMBER',\n",
              " 'MAIL_CITY',\n",
              " 'MAIL_STATE',\n",
              " 'MAIL_ZIP_CODE',\n",
              " 'MAIL_CARRIER_CODE',\n",
              " 'MAILING_OPT_OUT_CODE',\n",
              " 'TOTAL_VALUE_CALCULATED',\n",
              " 'LAND_VALUE_CALCULATED',\n",
              " 'IMPROVEMENT_VALUE_CALCULATED',\n",
              " 'TOTAL_VALUE_CALCULATED_IND',\n",
              " 'LAND_VALUE_CALCULATED_IND',\n",
              " 'IMPROVEMENT_VALUE_CALCULATED_IND',\n",
              " 'ASSD_TOTAL_VALUE',\n",
              " 'ASSD_LAND_VALUE',\n",
              " 'ASSD_IMPROVEMENT_VALUE',\n",
              " 'MKT_TOTAL_VALUE',\n",
              " 'MKT_LAND_VALUE',\n",
              " 'MKT_IMPROVEMENT_VALUE',\n",
              " 'APPR_TOTAL_VALUE',\n",
              " 'APPR_LAND_VALUE',\n",
              " 'APPR_IMPROVEMENT_VALUE',\n",
              " 'TAX_AMOUNT',\n",
              " 'TAX_YEAR',\n",
              " 'ASSESSED_YEAR',\n",
              " 'TAX_CODE_AREA',\n",
              " 'BATCH_ID_y',\n",
              " 'BATCH_SEQ_y',\n",
              " 'MULTI_APN_FLAG',\n",
              " 'DOCUMENT_NO',\n",
              " 'BOOK_PAGE',\n",
              " 'DOCUMENT_TYPE_y',\n",
              " 'RECORDING_DATE',\n",
              " 'SALE_DATE',\n",
              " 'SALE_PRICE',\n",
              " 'SALE_CODE_y',\n",
              " 'SELLER_NAME',\n",
              " 'TRANSACTION_TYPE_y',\n",
              " 'TITLE_COMPANY_CODE_y',\n",
              " 'TITLE_COMPANY_NAME_y',\n",
              " 'RESIDENTIAL_MODEL_INDICATOR_y',\n",
              " 'FIRST_MORTGAGE_AMOUNT',\n",
              " 'MORTGAGE_DATE_y',\n",
              " 'MORTGAGE_LOAN_TYPE_CODE_y',\n",
              " 'MORTGAGE_DEED_TYPE_y',\n",
              " 'MORTGAGE_TERM_CODE_y',\n",
              " 'MORTGAGE_TERM_y',\n",
              " 'MORTGAGE_DUE_DATE_y',\n",
              " 'MORTAGE_ASSUMPTION_AMOUNT',\n",
              " 'LENDER_CODE',\n",
              " 'LENDER_NAME',\n",
              " 'SECOND_MORTGAGE_AMOUNT',\n",
              " 'SECOND_MORTGAGE_LOAN_TYPE_CODE',\n",
              " 'SECOND_DEED_TYPE',\n",
              " 'FRONT_FOOTAGE',\n",
              " 'DEPTH_FOOTAGE',\n",
              " 'ACRES',\n",
              " 'LAND_SQUARE_FOOTAGE',\n",
              " 'UNIVERSAL_BUILDING_SQUARE_FEET',\n",
              " 'BUILDING_SQUARE_FEET_IND',\n",
              " 'BUILDING_SQUARE_FEET',\n",
              " 'LIVING_SQUARE_FEET',\n",
              " 'GROUND_FLOOR_SQUARE_FEET',\n",
              " 'GROSS_SQUARE_FEET',\n",
              " 'ADJUSTED_GROSS_SQUARE_FEET',\n",
              " 'BASEMENT_SQUARE_FEET',\n",
              " 'GARAGE_PARKING_SQUARE_FEET',\n",
              " 'YEAR_BUILT',\n",
              " 'EFFECTIVE_YEAR_BUILT',\n",
              " 'BEDROOMS',\n",
              " 'TOTAL_ROOMS',\n",
              " 'TOTAL_BATHS_CALCULATED',\n",
              " 'TOTAL_BATHS',\n",
              " 'FULL_BATHS',\n",
              " 'HALF_BATHS',\n",
              " 'ONE_QTR_BATHS',\n",
              " 'THREE_QTR_BATHS',\n",
              " 'BATH_FIXTURES',\n",
              " 'AIR_CONDITIONING',\n",
              " 'BASEMENT_FINISH',\n",
              " 'BASEMENT_DESCRIPTION',\n",
              " 'BLDG_CODE',\n",
              " 'BLDG_IMPV_CODE',\n",
              " 'CONDITION',\n",
              " 'CONSTRUCTION_TYPE',\n",
              " 'EXTERIOR_WALLS',\n",
              " 'FIREPLACE_IND',\n",
              " 'FIREPLACE_NUMBER',\n",
              " 'FIREPLACE_TYPE',\n",
              " 'FOUNDATION',\n",
              " 'FLOOR',\n",
              " 'FRAME',\n",
              " 'GARAGE',\n",
              " 'HEATING',\n",
              " 'PARKING_SPACES',\n",
              " 'PARKING_TYPE',\n",
              " 'POOL',\n",
              " 'POOL_CODE',\n",
              " 'QUALITY',\n",
              " 'ROOF_COVER',\n",
              " 'ROOF_TYPE',\n",
              " 'STORIES_CODE',\n",
              " 'STORIES_NUMBER',\n",
              " 'STYLE',\n",
              " 'VIEW',\n",
              " 'LOCATION_INFLUENCE',\n",
              " 'NUMBER_OF_UNITS',\n",
              " 'UNITS_NUMBER',\n",
              " 'ELECTRIC_ENERGY',\n",
              " 'FUEL',\n",
              " 'SEWER',\n",
              " 'UTILITIES',\n",
              " 'WATER',\n",
              " 'LEGAL_ONE',\n",
              " 'LEGAL_TWO',\n",
              " 'LEGAL_THREE']"
            ]
          },
          "execution_count": 18,
          "metadata": {},
          "output_type": "execute_result"
        }
      ],
      "source": [
        "list(df_merge.columns)"
      ]
    },
    {
      "cell_type": "code",
      "execution_count": null,
      "metadata": {
        "id": "-1x4EjVq2wjJ",
        "outputId": "c3f138b6-e2bb-4373-8a53-8a90ecdcc9c9"
      },
      "outputs": [
        {
          "data": {
            "text/html": [
              "<div>\n",
              "<style scoped>\n",
              "    .dataframe tbody tr th:only-of-type {\n",
              "        vertical-align: middle;\n",
              "    }\n",
              "\n",
              "    .dataframe tbody tr th {\n",
              "        vertical-align: top;\n",
              "    }\n",
              "\n",
              "    .dataframe thead th {\n",
              "        text-align: right;\n",
              "    }\n",
              "</style>\n",
              "<table border=\"1\" class=\"dataframe\">\n",
              "  <thead>\n",
              "    <tr style=\"text-align: right;\">\n",
              "      <th></th>\n",
              "      <th>Field name</th>\n",
              "      <th>Type</th>\n",
              "      <th>Mode</th>\n",
              "      <th>Policy Tags</th>\n",
              "      <th>Description</th>\n",
              "      <th>Unnamed: 5</th>\n",
              "    </tr>\n",
              "  </thead>\n",
              "  <tbody>\n",
              "    <tr>\n",
              "      <th>0</th>\n",
              "      <td>FIPS_CODE</td>\n",
              "      <td>INTEGER</td>\n",
              "      <td>NULLABLE</td>\n",
              "      <td>NaN</td>\n",
              "      <td>NaN</td>\n",
              "      <td>NaN</td>\n",
              "    </tr>\n",
              "    <tr>\n",
              "      <th>1</th>\n",
              "      <td>UNFORMATTED_APN</td>\n",
              "      <td>STRING</td>\n",
              "      <td>NULLABLE</td>\n",
              "      <td>NaN</td>\n",
              "      <td>NaN</td>\n",
              "      <td>NaN</td>\n",
              "    </tr>\n",
              "    <tr>\n",
              "      <th>2</th>\n",
              "      <td>APN_SEQUENCE_NBR</td>\n",
              "      <td>INTEGER</td>\n",
              "      <td>NULLABLE</td>\n",
              "      <td>NaN</td>\n",
              "      <td>NaN</td>\n",
              "      <td>NaN</td>\n",
              "    </tr>\n",
              "    <tr>\n",
              "      <th>3</th>\n",
              "      <td>FORMATTED_APN</td>\n",
              "      <td>STRING</td>\n",
              "      <td>NULLABLE</td>\n",
              "      <td>NaN</td>\n",
              "      <td>NaN</td>\n",
              "      <td>NaN</td>\n",
              "    </tr>\n",
              "    <tr>\n",
              "      <th>4</th>\n",
              "      <td>ORIGINAL_APN</td>\n",
              "      <td>STRING</td>\n",
              "      <td>NULLABLE</td>\n",
              "      <td>NaN</td>\n",
              "      <td>NaN</td>\n",
              "      <td>NaN</td>\n",
              "    </tr>\n",
              "    <tr>\n",
              "      <th>...</th>\n",
              "      <td>...</td>\n",
              "      <td>...</td>\n",
              "      <td>...</td>\n",
              "      <td>...</td>\n",
              "      <td>...</td>\n",
              "      <td>...</td>\n",
              "    </tr>\n",
              "    <tr>\n",
              "      <th>173</th>\n",
              "      <td>UTILITIES</td>\n",
              "      <td>STRING</td>\n",
              "      <td>NULLABLE</td>\n",
              "      <td>NaN</td>\n",
              "      <td>NaN</td>\n",
              "      <td>NaN</td>\n",
              "    </tr>\n",
              "    <tr>\n",
              "      <th>174</th>\n",
              "      <td>WATER</td>\n",
              "      <td>STRING</td>\n",
              "      <td>NULLABLE</td>\n",
              "      <td>NaN</td>\n",
              "      <td>NaN</td>\n",
              "      <td>NaN</td>\n",
              "    </tr>\n",
              "    <tr>\n",
              "      <th>175</th>\n",
              "      <td>LEGAL1</td>\n",
              "      <td>STRING</td>\n",
              "      <td>NULLABLE</td>\n",
              "      <td>NaN</td>\n",
              "      <td>NaN</td>\n",
              "      <td>NaN</td>\n",
              "    </tr>\n",
              "    <tr>\n",
              "      <th>176</th>\n",
              "      <td>LEGAL2</td>\n",
              "      <td>STRING</td>\n",
              "      <td>NULLABLE</td>\n",
              "      <td>NaN</td>\n",
              "      <td>NaN</td>\n",
              "      <td>NaN</td>\n",
              "    </tr>\n",
              "    <tr>\n",
              "      <th>177</th>\n",
              "      <td>LEGAL3</td>\n",
              "      <td>STRING</td>\n",
              "      <td>NULLABLE</td>\n",
              "      <td>NaN</td>\n",
              "      <td>NaN</td>\n",
              "      <td>NaN</td>\n",
              "    </tr>\n",
              "  </tbody>\n",
              "</table>\n",
              "<p>178 rows × 6 columns</p>\n",
              "</div>"
            ],
            "text/plain": [
              "           Field name     Type      Mode  Policy Tags   Description  \\\n",
              "0           FIPS_CODE  INTEGER  NULLABLE           NaN          NaN   \n",
              "1     UNFORMATTED_APN   STRING  NULLABLE           NaN          NaN   \n",
              "2    APN_SEQUENCE_NBR  INTEGER  NULLABLE           NaN          NaN   \n",
              "3       FORMATTED_APN   STRING  NULLABLE           NaN          NaN   \n",
              "4        ORIGINAL_APN   STRING  NULLABLE           NaN          NaN   \n",
              "..                ...      ...       ...           ...          ...   \n",
              "173         UTILITIES   STRING  NULLABLE           NaN          NaN   \n",
              "174             WATER   STRING  NULLABLE           NaN          NaN   \n",
              "175            LEGAL1   STRING  NULLABLE           NaN          NaN   \n",
              "176            LEGAL2   STRING  NULLABLE           NaN          NaN   \n",
              "177            LEGAL3   STRING  NULLABLE           NaN          NaN   \n",
              "\n",
              "     Unnamed: 5  \n",
              "0           NaN  \n",
              "1           NaN  \n",
              "2           NaN  \n",
              "3           NaN  \n",
              "4           NaN  \n",
              "..          ...  \n",
              "173         NaN  \n",
              "174         NaN  \n",
              "175         NaN  \n",
              "176         NaN  \n",
              "177         NaN  \n",
              "\n",
              "[178 rows x 6 columns]"
            ]
          },
          "execution_count": 8,
          "metadata": {},
          "output_type": "execute_result"
        }
      ],
      "source": [
        "df_schema = pd.read_csv(\"Corelogic_Schema.csv\")\n",
        "df_schema"
      ]
    },
    {
      "cell_type": "code",
      "execution_count": null,
      "metadata": {
        "id": "7bZ25jkP2wjK"
      },
      "outputs": [],
      "source": [
        "s = \"\"\n",
        "for i in df_schema.index:\n",
        "    s = s + df_schema.iloc[i][0] + \":STRING\" + \",\\n\"\n",
        "with open('schema_tax.txt','w') as f:\n",
        "   f.write(s)"
      ]
    },
    {
      "cell_type": "code",
      "execution_count": null,
      "metadata": {
        "id": "vHXTCDil2wjK",
        "outputId": "6dc6365c-bd6c-4a4e-bdd6-e47093940d0d"
      },
      "outputs": [
        {
          "name": "stdout",
          "output_type": "stream",
          "text": [
            "cast (FIPS_CODE as INTEGER) as FIPS_CODE,\n",
            "cast (UNFORMATTED_APN as STRING) as UNFORMATTED_APN,\n",
            "cast (APN_SEQUENCE_NBR as INTEGER) as APN_SEQUENCE_NBR,\n",
            "cast (FORMATTED_APN as STRING) as FORMATTED_APN,\n",
            "cast (ORIGINAL_APN as STRING) as ORIGINAL_APN,\n",
            "cast (PREVIOUS_PARCEL_NUMBER as STRING) as PREVIOUS_PARCEL_NUMBER,\n",
            "cast (P_ID_IRIS_FRMTD as STRING) as P_ID_IRIS_FRMTD,\n",
            "cast (ACCOUNT_NUMBER as STRING) as ACCOUNT_NUMBER,\n",
            "cast (MAP_REFERENCE1 as STRING) as MAP_REFERENCE1,\n",
            "cast (MAP_REFERENCE2 as STRING) as MAP_REFERENCE2,\n",
            "cast (CENSUS_TRACT as INTEGER) as CENSUS_TRACT,\n",
            "cast (BLOCK_NUMBER as STRING) as BLOCK_NUMBER,\n",
            "cast (LOT_NUMBER as INTEGER) as LOT_NUMBER,\n",
            "cast (RANGE as STRING) as RANGE,\n",
            "cast (TOWNSHIP as STRING) as TOWNSHIP,\n",
            "cast (SECTION as STRING) as SECTION,\n",
            "cast (QUARTER_SECTION as STRING) as QUARTER_SECTION,\n",
            "cast (FLOOD_ZONE_COMMUNITY_PANEL_ID as STRING) as FLOOD_ZONE_COMMUNITY_PANEL_ID,\n",
            "cast (LAND_USE as INTEGER) as LAND_USE,\n",
            "cast (COUNTY_USE1 as INTEGER) as COUNTY_USE1,\n",
            "cast (COUNTY_USE2 as STRING) as COUNTY_USE2,\n",
            "cast (MOBILE_HOME_IND as STRING) as MOBILE_HOME_IND,\n",
            "cast (ZONING as STRING) as ZONING,\n",
            "cast (PROPERTY_INDICATOR as INTEGER) as PROPERTY_INDICATOR,\n",
            "cast (MUNICIPALITY_NAME as STRING) as MUNICIPALITY_NAME,\n",
            "cast (MUNICIPALITY_CODE as INTEGER) as MUNICIPALITY_CODE,\n",
            "cast (SUBDIVISION_TRACT_NUMBER as STRING) as SUBDIVISION_TRACT_NUMBER,\n",
            "cast (SUBDIVISION_PLAT_BOOK as STRING) as SUBDIVISION_PLAT_BOOK,\n",
            "cast (SUBDIVISION_PLAT_PAGE as INTEGER) as SUBDIVISION_PLAT_PAGE,\n",
            "cast (SUBDIVISION_NAME as STRING) as SUBDIVISION_NAME,\n",
            "cast (PARCEL_LEVEL_LATITUDE__2_6_ as FLOAT) as PARCEL_LEVEL_LATITUDE__2_6_,\n",
            "cast (PARCEL_LEVEL_LONGITUDE__3_6_ as FLOAT) as PARCEL_LEVEL_LONGITUDE__3_6_,\n",
            "cast (SITUS_HOUSE_NUMBER_PREFIX as STRING) as SITUS_HOUSE_NUMBER_PREFIX,\n",
            "cast (SITUS_HOUSE_NUMBER as INTEGER) as SITUS_HOUSE_NUMBER,\n",
            "cast (SITUS_HOUSE_NUMBER__2 as INTEGER) as SITUS_HOUSE_NUMBER__2,\n",
            "cast (SITUS_HOUSE_NUMBER_SUFFIX as STRING) as SITUS_HOUSE_NUMBER_SUFFIX,\n",
            "cast (SITUS_DIRECTION as STRING) as SITUS_DIRECTION,\n",
            "cast (SITUS_STREET_NAME as STRING) as SITUS_STREET_NAME,\n",
            "cast (SITUS_MODE as STRING) as SITUS_MODE,\n",
            "cast (SITUS_QUADRANT as STRING) as SITUS_QUADRANT,\n",
            "cast (SITUS_UNIT_NUMBER as STRING) as SITUS_UNIT_NUMBER,\n",
            "cast (SITUS_CITY as STRING) as SITUS_CITY,\n",
            "cast (SITUS_STATE as STRING) as SITUS_STATE,\n",
            "cast (SITUS_ZIP_CODE as INTEGER) as SITUS_ZIP_CODE,\n",
            "cast (SITUS_CARRIER_CODE as STRING) as SITUS_CARRIER_CODE,\n",
            "cast (OWNER_CORPORATE_INDICATOR as BOOLEAN) as OWNER_CORPORATE_INDICATOR,\n",
            "cast (OWNER1_LAST_NAME as STRING) as OWNER1_LAST_NAME,\n",
            "cast (OWNER1_FIRST_NAME___MI as STRING) as OWNER1_FIRST_NAME___MI,\n",
            "cast (OWNER2_LAST_NAME as STRING) as OWNER2_LAST_NAME,\n",
            "cast (OWNER2_FIRST_NAME___MI as STRING) as OWNER2_FIRST_NAME___MI,\n",
            "cast (ABSENTEE_OWNER_STATUS as STRING) as ABSENTEE_OWNER_STATUS,\n",
            "cast (HOMESTEAD_EXEMPT as BOOLEAN) as HOMESTEAD_EXEMPT,\n",
            "cast (OWNER_ETAL_INDICATOR as STRING) as OWNER_ETAL_INDICATOR,\n",
            "cast (OWNER_OWNERSHIP_RIGHTS_CODE as STRING) as OWNER_OWNERSHIP_RIGHTS_CODE,\n",
            "cast (OWNER_RELATIONSHIP_TYPE as STRING) as OWNER_RELATIONSHIP_TYPE,\n",
            "cast (MAIL_HOUSE_NUMBER_PREFIX as STRING) as MAIL_HOUSE_NUMBER_PREFIX,\n",
            "cast (MAIL_HOUSE_NUMBER as INTEGER) as MAIL_HOUSE_NUMBER,\n",
            "cast (MAIL_HOUSE_NUMBER__2 as INTEGER) as MAIL_HOUSE_NUMBER__2,\n",
            "cast (MAIL_HOUSE_NUMBER_SUFFIX as STRING) as MAIL_HOUSE_NUMBER_SUFFIX,\n",
            "cast (MAIL_DIRECTION as STRING) as MAIL_DIRECTION,\n",
            "cast (MAIL_STREET_NAME as STRING) as MAIL_STREET_NAME,\n",
            "cast (MAIL_MODE as STRING) as MAIL_MODE,\n",
            "cast (MAIL_QUADRANT as STRING) as MAIL_QUADRANT,\n",
            "cast (MAIL_UNIT_NUMBER as STRING) as MAIL_UNIT_NUMBER,\n",
            "cast (MAIL_CITY as STRING) as MAIL_CITY,\n",
            "cast (MAIL_STATE as STRING) as MAIL_STATE,\n",
            "cast (MAIL_ZIP_CODE as INTEGER) as MAIL_ZIP_CODE,\n",
            "cast (MAIL_CARRIER_CODE as STRING) as MAIL_CARRIER_CODE,\n",
            "cast (MAILING_OPT_OUT_CODE as BOOLEAN) as MAILING_OPT_OUT_CODE,\n",
            "cast (TOTAL_VALUE_CALCULATED as INTEGER) as TOTAL_VALUE_CALCULATED,\n",
            "cast (LAND_VALUE_CALCULATED as INTEGER) as LAND_VALUE_CALCULATED,\n",
            "cast (IMPROVEMENT_VALUE_CALCULATED as INTEGER) as IMPROVEMENT_VALUE_CALCULATED,\n",
            "cast (TOTAL_VALUE_CALCULATED_IND as STRING) as TOTAL_VALUE_CALCULATED_IND,\n",
            "cast (LAND_VALUE_CALCULATED_IND as STRING) as LAND_VALUE_CALCULATED_IND,\n",
            "cast (IMPROVEMENT_VALUE_CALCULATED_IND as STRING) as IMPROVEMENT_VALUE_CALCULATED_IND,\n",
            "cast (ASSD_TOTAL_VALUE as INTEGER) as ASSD_TOTAL_VALUE,\n",
            "cast (ASSD_LAND_VALUE as INTEGER) as ASSD_LAND_VALUE,\n",
            "cast (ASSD_IMPROVEMENT_VALUE as INTEGER) as ASSD_IMPROVEMENT_VALUE,\n",
            "cast (MKT_TOTAL_VALUE as INTEGER) as MKT_TOTAL_VALUE,\n",
            "cast (MKT_LAND_VALUE as INTEGER) as MKT_LAND_VALUE,\n",
            "cast (MKT_IMPROVEMENT_VALUE as INTEGER) as MKT_IMPROVEMENT_VALUE,\n",
            "cast (APPR_TOTAL_VALUE as STRING) as APPR_TOTAL_VALUE,\n",
            "cast (APPR_LAND_VALUE as STRING) as APPR_LAND_VALUE,\n",
            "cast (APPR_IMPROVEMENT_VALUE as STRING) as APPR_IMPROVEMENT_VALUE,\n",
            "cast (TAX_AMOUNT as FLOAT) as TAX_AMOUNT,\n",
            "cast (TAX_YEAR as INTEGER) as TAX_YEAR,\n",
            "cast (ASSESSED_YEAR as INTEGER) as ASSESSED_YEAR,\n",
            "cast (TAX_CODE_AREA as INTEGER) as TAX_CODE_AREA,\n",
            "cast (BATCH_ID as INTEGER) as BATCH_ID,\n",
            "cast (BATCH_SEQ as INTEGER) as BATCH_SEQ,\n",
            "cast (MULTI_APN_FLAG as BOOLEAN) as MULTI_APN_FLAG,\n",
            "cast (DOCUMENT_NO_ as INTEGER) as DOCUMENT_NO_,\n",
            "cast (BOOK___PAGE as STRING) as BOOK___PAGE,\n",
            "cast (DOCUMENT_TYPE as STRING) as DOCUMENT_TYPE,\n",
            "cast (RECORDING_DATE as INTEGER) as RECORDING_DATE,\n",
            "cast (SALE_DATE as INTEGER) as SALE_DATE,\n",
            "cast (SALE_PRICE as FLOAT) as SALE_PRICE,\n",
            "cast (SALE_CODE as BOOLEAN) as SALE_CODE,\n",
            "cast (SELLER_NAME as STRING) as SELLER_NAME,\n",
            "cast (TRANSACTION_TYPE as INTEGER) as TRANSACTION_TYPE,\n",
            "cast (TITLE_COMPANY_CODE as INTEGER) as TITLE_COMPANY_CODE,\n",
            "cast (TITLE_COMPANY_NAME as STRING) as TITLE_COMPANY_NAME,\n",
            "cast (RESIDENTIAL_MODEL_INDICATOR as BOOLEAN) as RESIDENTIAL_MODEL_INDICATOR,\n",
            "cast (_1st_MORTGAGE_AMOUNT as FLOAT) as _1st_MORTGAGE_AMOUNT,\n",
            "cast (MORTGAGE_DATE as INTEGER) as MORTGAGE_DATE,\n",
            "cast (MORTGAGE_LOAN_TYPE_CODE as STRING) as MORTGAGE_LOAN_TYPE_CODE,\n",
            "cast (MORTGAGE_DEED_TYPE as STRING) as MORTGAGE_DEED_TYPE,\n",
            "cast (MORTGAGE_TERM_CODE as STRING) as MORTGAGE_TERM_CODE,\n",
            "cast (MORTGAGE_TERM as INTEGER) as MORTGAGE_TERM,\n",
            "cast (MORTGAGE_DUE_DATE as INTEGER) as MORTGAGE_DUE_DATE,\n",
            "cast (MORTAGE_ASSUMPTION_AMOUNT as STRING) as MORTAGE_ASSUMPTION_AMOUNT,\n",
            "cast (LENDER_CODE as INTEGER) as LENDER_CODE,\n",
            "cast (LENDER_NAME as STRING) as LENDER_NAME,\n",
            "cast (_2nd_MORTGAGE_AMOUNT as FLOAT) as _2nd_MORTGAGE_AMOUNT,\n",
            "cast (_2nd_MORTGAGE_LOAN_TYPE_CODE as STRING) as _2nd_MORTGAGE_LOAN_TYPE_CODE,\n",
            "cast (_2nd_DEED_TYPE as STRING) as _2nd_DEED_TYPE,\n",
            "cast (FRONT_FOOTAGE as STRING) as FRONT_FOOTAGE,\n",
            "cast (DEPTH_FOOTAGE as STRING) as DEPTH_FOOTAGE,\n",
            "cast (ACRES as FLOAT) as ACRES,\n",
            "cast (LAND_SQUARE_FOOTAGE as INTEGER) as LAND_SQUARE_FOOTAGE,\n",
            "cast (UNIVERSAL_BUILDING_SQUARE_FEET as INTEGER) as UNIVERSAL_BUILDING_SQUARE_FEET,\n",
            "cast (BUILDING_SQUARE_FEET_IND as STRING) as BUILDING_SQUARE_FEET_IND,\n",
            "cast (BUILDING_SQUARE_FEET as INTEGER) as BUILDING_SQUARE_FEET,\n",
            "cast (LIVING_SQUARE_FEET as FLOAT) as LIVING_SQUARE_FEET,\n",
            "cast (GROUND_FLOOR_SQUARE_FEET as STRING) as GROUND_FLOOR_SQUARE_FEET,\n",
            "cast (GROSS_SQUARE_FEET as STRING) as GROSS_SQUARE_FEET,\n",
            "cast (ADJUSTED_GROSS_SQUARE_FEET as STRING) as ADJUSTED_GROSS_SQUARE_FEET,\n",
            "cast (BASEMENT_SQUARE_FEET as FLOAT) as BASEMENT_SQUARE_FEET,\n",
            "cast (GARAGE_PARKING_SQUARE_FEET as STRING) as GARAGE_PARKING_SQUARE_FEET,\n",
            "cast (YEAR_BUILT as INTEGER) as YEAR_BUILT,\n",
            "cast (EFFECTIVE_YEAR_BUILT as INTEGER) as EFFECTIVE_YEAR_BUILT,\n",
            "cast (BEDROOMS as INTEGER) as BEDROOMS,\n",
            "cast (TOTAL_ROOMS as INTEGER) as TOTAL_ROOMS,\n",
            "cast (TOTAL_BATHS_CALCULATED as FLOAT) as TOTAL_BATHS_CALCULATED,\n",
            "cast (TOTAL_BATHS as STRING) as TOTAL_BATHS,\n",
            "cast (FULL_BATHS as INTEGER) as FULL_BATHS,\n",
            "cast (HALF_BATHS as INTEGER) as HALF_BATHS,\n",
            "cast (_1QTR_BATHS as STRING) as _1QTR_BATHS,\n",
            "cast (_3QTR_BATHS as STRING) as _3QTR_BATHS,\n",
            "cast (BATH_FIXTURES as STRING) as BATH_FIXTURES,\n",
            "cast (AIR_CONDITIONING as STRING) as AIR_CONDITIONING,\n",
            "cast (BASEMENT_FINISH as STRING) as BASEMENT_FINISH,\n",
            "cast (BASEMENT_DESCRIPTION as STRING) as BASEMENT_DESCRIPTION,\n",
            "cast (BLDG_CODE as STRING) as BLDG_CODE,\n",
            "cast (BLDG_IMPV_CODE as STRING) as BLDG_IMPV_CODE,\n",
            "cast (CONDITION as STRING) as CONDITION,\n",
            "cast (CONSTRUCTION_TYPE as STRING) as CONSTRUCTION_TYPE,\n",
            "cast (EXTERIOR_WALLS as STRING) as EXTERIOR_WALLS,\n",
            "cast (FIREPLACE_IND as BOOLEAN) as FIREPLACE_IND,\n",
            "cast (FIREPLACE_NUMBER as INTEGER) as FIREPLACE_NUMBER,\n",
            "cast (FIREPLACE_TYPE as INTEGER) as FIREPLACE_TYPE,\n",
            "cast (FOUNDATION as STRING) as FOUNDATION,\n",
            "cast (FLOOR as STRING) as FLOOR,\n",
            "cast (FRAME as STRING) as FRAME,\n",
            "cast (GARAGE as STRING) as GARAGE,\n",
            "cast (HEATING as STRING) as HEATING,\n",
            "cast (PARKING_SPACES as INTEGER) as PARKING_SPACES,\n",
            "cast (PARKING_TYPE as STRING) as PARKING_TYPE,\n",
            "cast (POOL as BOOLEAN) as POOL,\n",
            "cast (POOL_CODE as INTEGER) as POOL_CODE,\n",
            "cast (QUALITY as STRING) as QUALITY,\n",
            "cast (ROOF_COVER as INTEGER) as ROOF_COVER,\n",
            "cast (ROOF_TYPE as STRING) as ROOF_TYPE,\n",
            "cast (STORIES_CODE as STRING) as STORIES_CODE,\n",
            "cast (STORIES_NUMBER as FLOAT) as STORIES_NUMBER,\n",
            "cast (STYLE as STRING) as STYLE,\n",
            "cast (VIEW as STRING) as VIEW,\n",
            "cast (LOCATION_INFLUENCE as STRING) as LOCATION_INFLUENCE,\n",
            "cast (NUMBER_OF_UNITS as INTEGER) as NUMBER_OF_UNITS,\n",
            "cast (UNITS_NUMBER as INTEGER) as UNITS_NUMBER,\n",
            "cast (ELECTRIC_ENERGY as STRING) as ELECTRIC_ENERGY,\n",
            "cast (FUEL as STRING) as FUEL,\n",
            "cast (SEWER as STRING) as SEWER,\n",
            "cast (UTILITIES as STRING) as UTILITIES,\n",
            "cast (WATER as STRING) as WATER,\n",
            "cast (LEGAL1 as STRING) as LEGAL1,\n",
            "cast (LEGAL2 as STRING) as LEGAL2,\n",
            "cast (LEGAL3 as STRING) as LEGAL3,\n",
            "\n"
          ]
        }
      ],
      "source": [
        "# Example: cast (FA_StatusChangeDate as timestamp) as FA_StatusChangeDate,\n",
        "s = \"\"\n",
        "for i in df_schema.index:\n",
        "    s = s + \"cast (\" + df_schema.iloc[i][0] + \" as \" + df_schema.iloc[i][1] + \") as \" + df_schema.iloc[i][0] + \",\\n\"\n",
        "print(s)"
      ]
    },
    {
      "cell_type": "code",
      "execution_count": null,
      "metadata": {
        "id": "rZ6vN6OE2wjK",
        "outputId": "4fbe42cc-444c-4643-ad61-b161dfa37743"
      },
      "outputs": [
        {
          "data": {
            "text/plain": [
              "torch.Size([2, 4, 3])"
            ]
          },
          "execution_count": 108,
          "metadata": {},
          "output_type": "execute_result"
        }
      ],
      "source": [
        "# an Embedding module containing 10 tensors of size 3\n",
        "embedding = nn.Embedding(10, 3)\n",
        "# a batch of 2 samples of 4 indices each\n",
        "input = torch.LongTensor([[1,2,4,5],[4,3,2,9]])\n",
        "embedding(input).shape"
      ]
    },
    {
      "cell_type": "code",
      "execution_count": null,
      "metadata": {
        "id": "0-z8OOP82wjK",
        "outputId": "0d00a230-4418-4101-bf52-98256f94d883"
      },
      "outputs": [
        {
          "data": {
            "text/plain": [
              "torch.Size([2, 4])"
            ]
          },
          "execution_count": 109,
          "metadata": {},
          "output_type": "execute_result"
        }
      ],
      "source": [
        "input.shape"
      ]
    },
    {
      "cell_type": "code",
      "execution_count": null,
      "metadata": {
        "id": "kBPcSQUn2wjK",
        "outputId": "50f23a24-a700-43ca-878b-9c1fffa77786"
      },
      "outputs": [
        {
          "data": {
            "text/plain": [
              "tensor([[-0.6969, -0.3368,  0.0170,  2.5383,  0.6692]],\n",
              "       grad_fn=<EmbeddingBackward0>)"
            ]
          },
          "execution_count": 95,
          "metadata": {},
          "output_type": "execute_result"
        }
      ],
      "source": [
        "a = torch.LongTensor([0])\n",
        "embedding = torch.nn.Embedding(2, 5)\n",
        "b = embedding(a)\n",
        "b"
      ]
    },
    {
      "cell_type": "code",
      "execution_count": null,
      "metadata": {
        "id": "ovprCd152wjK",
        "outputId": "e743e5cd-c45c-4d16-936a-9815650b55e3"
      },
      "outputs": [
        {
          "data": {
            "text/plain": [
              "torch.Size([1, 5])"
            ]
          },
          "execution_count": 98,
          "metadata": {},
          "output_type": "execute_result"
        }
      ],
      "source": [
        "b.shape"
      ]
    },
    {
      "cell_type": "code",
      "execution_count": null,
      "metadata": {
        "id": "PxSE7np52wjK",
        "outputId": "a39f5229-5799-4fcd-b267-3a9247cb8ec8"
      },
      "outputs": [
        {
          "data": {
            "text/plain": [
              "tensor([[-1.9749, -0.7586,  1.4398,  0.5521, -0.9233]],\n",
              "       grad_fn=<EmbeddingBackward0>)"
            ]
          },
          "execution_count": 107,
          "metadata": {},
          "output_type": "execute_result"
        }
      ],
      "source": [
        "a = torch.LongTensor([0])\n",
        "embedding = torch.nn.Embedding(2, 5)\n",
        "b = embedding(a)\n",
        "b"
      ]
    },
    {
      "cell_type": "code",
      "execution_count": null,
      "metadata": {
        "id": "iAncYRLY2wjK",
        "outputId": "f345edbe-a9c2-40e5-9741-545af7e28cc9"
      },
      "outputs": [
        {
          "data": {
            "text/plain": [
              "tensor([[[0.0580, 0.5820, 0.9879],\n",
              "         [0.8315, 0.5699, 0.0161],\n",
              "         [0.4875, 0.5510, 0.1167],\n",
              "         [0.8401, 0.6876, 0.5747]]])"
            ]
          },
          "execution_count": 113,
          "metadata": {},
          "output_type": "execute_result"
        }
      ],
      "source": [
        "import torch.nn.functional as F\n",
        "import torch\n",
        "\n",
        "input = torch.tensor([[1,2,4,5]])\n",
        "weights = torch.rand(10, 3)\n",
        "F.embedding(input, weights)"
      ]
    },
    {
      "cell_type": "code",
      "execution_count": null,
      "metadata": {
        "id": "ZQinLEPJ2wjK",
        "outputId": "d949f6fa-7b1e-4a83-e986-04af5da12815"
      },
      "outputs": [
        {
          "data": {
            "text/plain": [
              "torch.Size([1, 4, 3])"
            ]
          },
          "execution_count": 114,
          "metadata": {},
          "output_type": "execute_result"
        }
      ],
      "source": [
        "F.embedding(input, weights).shape"
      ]
    },
    {
      "cell_type": "code",
      "execution_count": null,
      "metadata": {
        "id": "A3fg6N7J2wjK",
        "outputId": "065c0f99-5c0c-4912-d8e0-8fcbf50a7dca"
      },
      "outputs": [
        {
          "data": {
            "text/plain": [
              "tensor([[1, 0, 0],\n",
              "        [0, 1, 0],\n",
              "        [0, 0, 1],\n",
              "        [1, 0, 0],\n",
              "        [0, 1, 0]])"
            ]
          },
          "execution_count": 115,
          "metadata": {},
          "output_type": "execute_result"
        }
      ],
      "source": [
        "F.one_hot(torch.arange(0, 5) % 3)"
      ]
    },
    {
      "cell_type": "code",
      "execution_count": null,
      "metadata": {
        "id": "c05_NMEK2wjK",
        "outputId": "5614c167-fdbf-438a-c2fd-6f74f267e67b"
      },
      "outputs": [
        {
          "data": {
            "text/plain": [
              "tensor([[1, 0, 0],\n",
              "        [0, 1, 0],\n",
              "        [0, 0, 1],\n",
              "        [1, 0, 0],\n",
              "        [0, 1, 0]])"
            ]
          },
          "execution_count": 119,
          "metadata": {},
          "output_type": "execute_result"
        }
      ],
      "source": [
        "F.one_hot(torch.arange(0, 5) % 3)"
      ]
    },
    {
      "cell_type": "code",
      "execution_count": null,
      "metadata": {
        "id": "hr4WpHvw2wjK",
        "outputId": "aea0247e-7428-4d4c-dc46-4f5932661c8e"
      },
      "outputs": [
        {
          "ename": "TypeError",
          "evalue": "one_hot(): argument 'input' (position 1) must be Tensor, not numpy.ndarray",
          "output_type": "error",
          "traceback": [
            "\u001b[0;31m---------------------------------------------------------------------------\u001b[0m",
            "\u001b[0;31mTypeError\u001b[0m                                 Traceback (most recent call last)",
            "Input \u001b[0;32mIn [122]\u001b[0m, in \u001b[0;36m<module>\u001b[0;34m\u001b[0m\n\u001b[0;32m----> 1\u001b[0m \u001b[43mF\u001b[49m\u001b[38;5;241;43m.\u001b[39;49m\u001b[43mone_hot\u001b[49m\u001b[43m(\u001b[49m\u001b[43mdf_data\u001b[49m\u001b[43m[\u001b[49m\u001b[38;5;124;43m\"\u001b[39;49m\u001b[38;5;124;43mQUALITY\u001b[39;49m\u001b[38;5;124;43m\"\u001b[39;49m\u001b[43m]\u001b[49m\u001b[38;5;241;43m.\u001b[39;49m\u001b[43mvalues\u001b[49m\u001b[43m)\u001b[49m\n",
            "\u001b[0;31mTypeError\u001b[0m: one_hot(): argument 'input' (position 1) must be Tensor, not numpy.ndarray"
          ]
        }
      ],
      "source": [
        "F.one_hot(df_data[\"QUALITY\"].values)"
      ]
    },
    {
      "cell_type": "code",
      "execution_count": null,
      "metadata": {
        "id": "r2mIhHu72wjK",
        "outputId": "35eac15a-7327-4675-b850-2560283fd100"
      },
      "outputs": [
        {
          "data": {
            "text/plain": [
              "['-1', '001', 'DES', 'MAN', 'CTB', 1.0, 'TWN', 'RAN']"
            ]
          },
          "execution_count": 193,
          "metadata": {},
          "output_type": "execute_result"
        }
      ],
      "source": [
        "list(df_data[\"STYLE\"].unique())"
      ]
    },
    {
      "cell_type": "code",
      "execution_count": null,
      "metadata": {
        "id": "nWUS7cYo2wjK",
        "outputId": "1c0f931d-d67c-4e97-f4c5-87be3a80b817"
      },
      "outputs": [
        {
          "data": {
            "text/plain": [
              "['-1', 'QAV', 'QFA', 'QGO', 'QVV', 'QPO', 'QEX']"
            ]
          },
          "execution_count": 194,
          "metadata": {},
          "output_type": "execute_result"
        }
      ],
      "source": [
        "labels"
      ]
    },
    {
      "cell_type": "code",
      "execution_count": null,
      "metadata": {
        "id": "E7jgcloQ2wjK",
        "outputId": "7a381042-2cd9-4084-a8b0-aab016e29745"
      },
      "outputs": [
        {
          "data": {
            "text/plain": [
              "array([0, 0, 0, ..., 1, 1, 4])"
            ]
          },
          "execution_count": 211,
          "metadata": {},
          "output_type": "execute_result"
        }
      ],
      "source": [
        "from sklearn import preprocessing\n",
        "import torch\n",
        "\n",
        "labels = list(df_data[\"STYLE\"].unique())\n",
        "le = preprocessing.LabelEncoder()\n",
        "le.fit_transform(labels)\n",
        "le.transform(df_data[\"STYLE\"])\n",
        "\n",
        "# targets = torch.as_tensor(targets)\n",
        "# targets: tensor([0, 1, 2, 3])"
      ]
    },
    {
      "cell_type": "code",
      "execution_count": null,
      "metadata": {
        "id": "vy0TTHfG2wjK",
        "outputId": "a7806dcd-7a6e-49e6-ccab-096e5b203fec"
      },
      "outputs": [
        {
          "data": {
            "text/plain": [
              "LabelEncoder()"
            ]
          },
          "execution_count": 132,
          "metadata": {},
          "output_type": "execute_result"
        }
      ],
      "source": [
        "le"
      ]
    },
    {
      "cell_type": "code",
      "execution_count": null,
      "metadata": {
        "id": "c27dvuiV2wjL",
        "outputId": "8f5c7f16-29c4-4a7f-8cda-f1fccc07964b"
      },
      "outputs": [
        {
          "data": {
            "text/plain": [
              "tensor([0, 1, 3, 4, 6, 5, 2])"
            ]
          },
          "execution_count": 128,
          "metadata": {},
          "output_type": "execute_result"
        }
      ],
      "source": [
        "targets"
      ]
    },
    {
      "cell_type": "code",
      "execution_count": null,
      "metadata": {
        "id": "Xqwh_F9A2wjL"
      },
      "outputs": [],
      "source": [
        ""
      ]
    }
  ],
  "metadata": {
    "kernelspec": {
      "display_name": "Python 3 (ipykernel)",
      "language": "python",
      "name": "python3"
    },
    "language_info": {
      "codemirror_mode": {
        "name": "ipython",
        "version": 3
      },
      "file_extension": ".py",
      "mimetype": "text/x-python",
      "name": "python",
      "nbconvert_exporter": "python",
      "pygments_lexer": "ipython3",
      "version": "3.8.12"
    },
    "colab": {
      "name": "Corelogic.ipynb",
      "provenance": [],
      "collapsed_sections": [
        "DyAQs_wk2wjJ"
      ],
      "include_colab_link": true
    }
  },
  "nbformat": 4,
  "nbformat_minor": 0
}