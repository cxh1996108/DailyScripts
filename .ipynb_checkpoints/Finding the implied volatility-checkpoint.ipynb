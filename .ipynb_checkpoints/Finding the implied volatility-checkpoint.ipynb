{
 "cells": [
  {
   "cell_type": "code",
   "execution_count": 5,
   "metadata": {},
   "outputs": [],
   "source": [
    "# http://www.codeandfinance.com/finding-implied-vol.html\n",
    "import numpy as np\n",
    "import pandas as pd\n",
    "import math\n",
    "from scipy.stats import norm\n",
    "import datetime"
   ]
  },
  {
   "cell_type": "code",
   "execution_count": 16,
   "metadata": {},
   "outputs": [],
   "source": [
    "def find_vol(target_value, call_put, S, K, T, r):\n",
    "    MAX_ITERATIONS = 100\n",
    "    PRECISION = 1.0e-5\n",
    "    i = 0\n",
    "    sigma = 0.5\n",
    "    for i in range(0, MAX_ITERATIONS):\n",
    "        price = bs_price(call_put, S, K, T, r, sigma)\n",
    "        vega = bs_vega(call_put, S, K, T, r, sigma)\n",
    "\n",
    "        price = price\n",
    "        diff = target_value - price  # our root\n",
    "\n",
    "        print (i, sigma, diff)\n",
    "\n",
    "        if (abs(diff) < PRECISION):\n",
    "            return sigma\n",
    "        sigma = sigma + diff/vega # f(x) / f'(x)\n",
    "        i = i + 1\n",
    "\n",
    "    # value wasn't found, return best guess so far\n",
    "    return sigma"
   ]
  },
  {
   "cell_type": "code",
   "execution_count": 17,
   "metadata": {},
   "outputs": [],
   "source": [
    "n = norm.pdf\n",
    "N = norm.cdf\n",
    "\n",
    "def bs_price(cp_flag,S,K,T,r,v,q=0.0):\n",
    "    d1 = (np.log(S/K)+(r+v*v/2.)*T)/(v*np.sqrt(T))\n",
    "    d2 = d1-v*np.sqrt(T)\n",
    "    if cp_flag == 'c':\n",
    "        price = S*np.exp(-q*T)*N(d1)-K*np.exp(-r*T)*N(d2)\n",
    "    else:\n",
    "        price = K*np.exp(-r*T)*N(-d2)-S*np.exp(-q*T)*N(-d1)\n",
    "    return price\n",
    "\n",
    "def bs_vega(cp_flag,S,K,T,r,v,q=0.0):\n",
    "    d1 = (np.log(S/K)+(r+v*v/2.)*T)/(v*np.sqrt(T))\n",
    "    return S * np.sqrt(T)*n(d1)"
   ]
  },
  {
   "cell_type": "code",
   "execution_count": 19,
   "metadata": {},
   "outputs": [
    {
     "name": "stdout",
     "output_type": "stream",
     "text": [
      "0 0.5 -21.669539271534063\n",
      "1 0.21879739316064523 0.03217154881230044\n",
      "2 0.21921383628613422 1.9891615465894574e-08\n",
      "Implied vol: 21.92%\n",
      "Market price = 17.50\n",
      "Model price = 17.50\n"
     ]
    }
   ],
   "source": [
    "V_market = 17.5\n",
    "K = 585\n",
    "T = (datetime.date(2014,10,18) - datetime.date(2014,9,8)).days / 365.\n",
    "S = 586.08\n",
    "r = 0.0002\n",
    "cp = 'c' # call option\n",
    "\n",
    "implied_vol = find_vol(V_market, cp, S, K, T, r)\n",
    "\n",
    "print('Implied vol: %.2f%%' % (implied_vol * 100))\n",
    "print('Market price = %.2f' % V_market)\n",
    "print('Model price = %.2f' % bs_price(cp, S, K, T, r, implied_vol))"
   ]
  }
 ],
 "metadata": {
  "kernelspec": {
   "display_name": "Python 3",
   "language": "python",
   "name": "python3"
  },
  "language_info": {
   "codemirror_mode": {
    "name": "ipython",
    "version": 3
   },
   "file_extension": ".py",
   "mimetype": "text/x-python",
   "name": "python",
   "nbconvert_exporter": "python",
   "pygments_lexer": "ipython3",
   "version": "3.7.0"
  }
 },
 "nbformat": 4,
 "nbformat_minor": 2
}
